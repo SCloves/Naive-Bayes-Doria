{
 "cells": [
  {
   "cell_type": "code",
   "execution_count": 1,
   "metadata": {
    "collapsed": true
   },
   "outputs": [],
   "source": [
    "import pandas as pd\n",
    "import nltk"
   ]
  },
  {
   "cell_type": "code",
   "execution_count": 2,
   "metadata": {
    "collapsed": false
   },
   "outputs": [],
   "source": [
    "def remove_stopwords(texto):\n",
    "    frases_sem_stopwords = []\n",
    "    for (frase, emocao) in texto:\n",
    "        sem_stopwords = [palavra.lower() for palavra in frase.split() if palavra not in stopwordsNLTK]\n",
    "        frases_sem_stopwords.append((sem_stopwords, emocao))\n",
    "    \n",
    "    return frases_sem_stopwords\n",
    "\n",
    "def aplicar_stemmer(sem_stopwords):\n",
    "    stemmer = nltk.stem.RSLPStemmer()\n",
    "    frases = []\n",
    "    \n",
    "    for (frase, emocao) in sem_stopwords:  \n",
    "        com_stemmer = []\n",
    "        for palavra in frase:\n",
    "            if palavra == 'doria':\n",
    "                com_stemmer.append(palavra)\n",
    "            else:\n",
    "                com_stemmer.append(stemmer.stem(palavra))\n",
    "        \n",
    "        frases.append((com_stemmer, emocao))\n",
    "        \n",
    "    return frases\n",
    "\n",
    "def lista_todas_as_palavras(frases):\n",
    "    todas_palavras = []\n",
    "    for (palavras, _) in frases:\n",
    "        todas_palavras.extend(palavras)\n",
    "        \n",
    "    return todas_palavras\n",
    "\n",
    "def busca_frequencia(palavras):\n",
    "    return nltk.FreqDist(palavras)\n",
    "\n",
    "def busca_palavras_unicas(frequencia):\n",
    "    return frequencia.keys()\n",
    "\n",
    "def extrator_palavras_treino(documento):\n",
    "    doc = set(documento)\n",
    "    caracteristicas = {}\n",
    "    for palavras in palavras_unicas_treino:\n",
    "        caracteristicas['%s' %palavras] = (palavras in doc)\n",
    "        \n",
    "    return caracteristicas\n",
    "\n",
    "def extrator_palavras_teste(documento):\n",
    "    doc = set(documento)\n",
    "    caracteristicas = {}\n",
    "    for palavras in palavras_unicas_teste:\n",
    "        caracteristicas['%s' %palavras] = (palavras in doc)\n",
    "        \n",
    "    return caracteristicas\n",
    "\n",
    "def preditor(frase, classificador):\n",
    "    testestmmer = []\n",
    "    frase = frase.lower()\n",
    "    stmmer = nltk.stem.RSLPStemmer()\n",
    "    for palavra in frase.split():\n",
    "        if palavra == 'doria':\n",
    "            testestmmer.append(palavra)\n",
    "        else:\n",
    "            testestmmer.append(stmmer.stem(palavra))\n",
    "    \n",
    "    novo = extrator_palavras_treino(testestmmer)\n",
    "    if classificador.classify(novo) == 0:\n",
    "        print 'O comentário não é de um eleitor do Dória \\n'\n",
    "    elif classificador.classify(novo) == 1:\n",
    "        print 'O comentário é de um eleitor do Dória \\n'\n",
    "        \n",
    "    distribuicao = classificador.prob_classify(novo)\n",
    "    for classe in distribuicao.samples():\n",
    "        print \"%d: %f\" %(classe, distribuicao.prob(classe))"
   ]
  },
  {
   "cell_type": "code",
   "execution_count": 3,
   "metadata": {
    "collapsed": false
   },
   "outputs": [],
   "source": [
    "df_comentarios = pd.read_excel('comentarios4.xlsx') "
   ]
  },
  {
   "cell_type": "code",
   "execution_count": 4,
   "metadata": {
    "collapsed": false
   },
   "outputs": [],
   "source": [
    "# alguns valores da Avaliação foram definidos como 'o'\n",
    "# enquanto que deveria ser 0(zero)\n",
    "df_comentarios.loc[df_comentarios['Avaliacao'] == u'o', 'Avaliacao'] = 0"
   ]
  },
  {
   "cell_type": "code",
   "execution_count": 5,
   "metadata": {
    "collapsed": false
   },
   "outputs": [],
   "source": [
    "df_comentarios.loc[df_comentarios['Avaliacao'] == u'/', 'Avaliacao'] = -1"
   ]
  },
  {
   "cell_type": "code",
   "execution_count": 6,
   "metadata": {
    "collapsed": true
   },
   "outputs": [],
   "source": [
    "df_comentarios.loc[df_comentarios['teste'] == u'x', 'teste'] = -1"
   ]
  },
  {
   "cell_type": "code",
   "execution_count": 7,
   "metadata": {
    "collapsed": false
   },
   "outputs": [
    {
     "data": {
      "text/html": [
       "<div>\n",
       "<table border=\"1\" class=\"dataframe\">\n",
       "  <thead>\n",
       "    <tr style=\"text-align: right;\">\n",
       "      <th></th>\n",
       "      <th>data</th>\n",
       "      <th>titulo</th>\n",
       "      <th>url</th>\n",
       "      <th>comentario</th>\n",
       "      <th>Avaliacao</th>\n",
       "      <th>teste</th>\n",
       "    </tr>\n",
       "  </thead>\n",
       "  <tbody>\n",
       "    <tr>\n",
       "      <th>0</th>\n",
       "      <td>23/08/2017</td>\n",
       "      <td>João Doria tem título de cidadão honorário neg...</td>\n",
       "      <td>http://g1.globo.com/minas-gerais/noticia/joao-...</td>\n",
       "      <td>Os mesmos de novo, com uma nova cara. Do jeito...</td>\n",
       "      <td>0</td>\n",
       "      <td>NaN</td>\n",
       "    </tr>\n",
       "    <tr>\n",
       "      <th>1</th>\n",
       "      <td>23/08/2017</td>\n",
       "      <td>João Doria tem título de cidadão honorário neg...</td>\n",
       "      <td>http://g1.globo.com/minas-gerais/noticia/joao-...</td>\n",
       "      <td>Doria nada mais é do que um cavalo de troia pa...</td>\n",
       "      <td>0</td>\n",
       "      <td>NaN</td>\n",
       "    </tr>\n",
       "    <tr>\n",
       "      <th>2</th>\n",
       "      <td>23/08/2017</td>\n",
       "      <td>João Doria tem título de cidadão honorário neg...</td>\n",
       "      <td>http://g1.globo.com/minas-gerais/noticia/joao-...</td>\n",
       "      <td>sou mais dar esse premio para o newton cardoso!!</td>\n",
       "      <td>NaN</td>\n",
       "      <td>NaN</td>\n",
       "    </tr>\n",
       "  </tbody>\n",
       "</table>\n",
       "</div>"
      ],
      "text/plain": [
       "         data                                             titulo  \\\n",
       "0  23/08/2017  João Doria tem título de cidadão honorário neg...   \n",
       "1  23/08/2017  João Doria tem título de cidadão honorário neg...   \n",
       "2  23/08/2017  João Doria tem título de cidadão honorário neg...   \n",
       "\n",
       "                                                 url  \\\n",
       "0  http://g1.globo.com/minas-gerais/noticia/joao-...   \n",
       "1  http://g1.globo.com/minas-gerais/noticia/joao-...   \n",
       "2  http://g1.globo.com/minas-gerais/noticia/joao-...   \n",
       "\n",
       "                                          comentario Avaliacao teste  \n",
       "0  Os mesmos de novo, com uma nova cara. Do jeito...         0   NaN  \n",
       "1  Doria nada mais é do que um cavalo de troia pa...         0   NaN  \n",
       "2   sou mais dar esse premio para o newton cardoso!!       NaN   NaN  "
      ]
     },
     "execution_count": 7,
     "metadata": {},
     "output_type": "execute_result"
    }
   ],
   "source": [
    "df_comentarios.head(3)"
   ]
  },
  {
   "cell_type": "code",
   "execution_count": 8,
   "metadata": {
    "collapsed": true
   },
   "outputs": [],
   "source": [
    "# transformado NaN como -1\n",
    "df_comentarios.fillna(-1, inplace=True)"
   ]
  },
  {
   "cell_type": "code",
   "execution_count": 9,
   "metadata": {
    "collapsed": false
   },
   "outputs": [
    {
     "data": {
      "text/html": [
       "<div>\n",
       "<table border=\"1\" class=\"dataframe\">\n",
       "  <thead>\n",
       "    <tr style=\"text-align: right;\">\n",
       "      <th></th>\n",
       "      <th>data</th>\n",
       "      <th>titulo</th>\n",
       "      <th>url</th>\n",
       "      <th>comentario</th>\n",
       "      <th>Avaliacao</th>\n",
       "      <th>teste</th>\n",
       "    </tr>\n",
       "  </thead>\n",
       "  <tbody>\n",
       "    <tr>\n",
       "      <th>0</th>\n",
       "      <td>23/08/2017</td>\n",
       "      <td>João Doria tem título de cidadão honorário neg...</td>\n",
       "      <td>http://g1.globo.com/minas-gerais/noticia/joao-...</td>\n",
       "      <td>Os mesmos de novo, com uma nova cara. Do jeito...</td>\n",
       "      <td>0</td>\n",
       "      <td>-1</td>\n",
       "    </tr>\n",
       "    <tr>\n",
       "      <th>1</th>\n",
       "      <td>23/08/2017</td>\n",
       "      <td>João Doria tem título de cidadão honorário neg...</td>\n",
       "      <td>http://g1.globo.com/minas-gerais/noticia/joao-...</td>\n",
       "      <td>Doria nada mais é do que um cavalo de troia pa...</td>\n",
       "      <td>0</td>\n",
       "      <td>-1</td>\n",
       "    </tr>\n",
       "    <tr>\n",
       "      <th>2</th>\n",
       "      <td>23/08/2017</td>\n",
       "      <td>João Doria tem título de cidadão honorário neg...</td>\n",
       "      <td>http://g1.globo.com/minas-gerais/noticia/joao-...</td>\n",
       "      <td>sou mais dar esse premio para o newton cardoso!!</td>\n",
       "      <td>-1</td>\n",
       "      <td>-1</td>\n",
       "    </tr>\n",
       "  </tbody>\n",
       "</table>\n",
       "</div>"
      ],
      "text/plain": [
       "         data                                             titulo  \\\n",
       "0  23/08/2017  João Doria tem título de cidadão honorário neg...   \n",
       "1  23/08/2017  João Doria tem título de cidadão honorário neg...   \n",
       "2  23/08/2017  João Doria tem título de cidadão honorário neg...   \n",
       "\n",
       "                                                 url  \\\n",
       "0  http://g1.globo.com/minas-gerais/noticia/joao-...   \n",
       "1  http://g1.globo.com/minas-gerais/noticia/joao-...   \n",
       "2  http://g1.globo.com/minas-gerais/noticia/joao-...   \n",
       "\n",
       "                                          comentario  Avaliacao  teste  \n",
       "0  Os mesmos de novo, com uma nova cara. Do jeito...          0     -1  \n",
       "1  Doria nada mais é do que um cavalo de troia pa...          0     -1  \n",
       "2   sou mais dar esse premio para o newton cardoso!!         -1     -1  "
      ]
     },
     "execution_count": 9,
     "metadata": {},
     "output_type": "execute_result"
    }
   ],
   "source": [
    "df_comentarios.head(3)"
   ]
  },
  {
   "cell_type": "code",
   "execution_count": 10,
   "metadata": {
    "collapsed": false
   },
   "outputs": [],
   "source": [
    "df_comentarios_0_1 = df_comentarios[df_comentarios['Avaliacao'] != -1]"
   ]
  },
  {
   "cell_type": "code",
   "execution_count": 11,
   "metadata": {
    "collapsed": false
   },
   "outputs": [],
   "source": [
    "df_comentario_treino = df_comentarios_0_1[['comentario', 'Avaliacao']]"
   ]
  },
  {
   "cell_type": "code",
   "execution_count": 12,
   "metadata": {
    "collapsed": true
   },
   "outputs": [],
   "source": [
    "df_comentario_0_1_teste = df_comentarios[df_comentarios['teste'] != -1]"
   ]
  },
  {
   "cell_type": "code",
   "execution_count": 13,
   "metadata": {
    "collapsed": true
   },
   "outputs": [],
   "source": [
    "df_comentario_teste = df_comentario_0_1_teste[['comentario', 'teste']]"
   ]
  },
  {
   "cell_type": "code",
   "execution_count": 14,
   "metadata": {
    "collapsed": false
   },
   "outputs": [],
   "source": [
    "comentario_classe_treino = [tuple(valores) for valores in df_comentario_treino.values]"
   ]
  },
  {
   "cell_type": "code",
   "execution_count": 15,
   "metadata": {
    "collapsed": false
   },
   "outputs": [
    {
     "data": {
      "text/plain": [
       "587"
      ]
     },
     "execution_count": 15,
     "metadata": {},
     "output_type": "execute_result"
    }
   ],
   "source": [
    "len(comentario_classe_treino)"
   ]
  },
  {
   "cell_type": "code",
   "execution_count": 16,
   "metadata": {
    "collapsed": true
   },
   "outputs": [],
   "source": [
    "comentario_classe_teste = [tuple(valores) for valores in df_comentario_teste.values]"
   ]
  },
  {
   "cell_type": "code",
   "execution_count": 17,
   "metadata": {
    "collapsed": false
   },
   "outputs": [
    {
     "data": {
      "text/plain": [
       "246"
      ]
     },
     "execution_count": 17,
     "metadata": {},
     "output_type": "execute_result"
    }
   ],
   "source": [
    "len(comentario_classe_teste)"
   ]
  },
  {
   "cell_type": "code",
   "execution_count": 18,
   "metadata": {
    "collapsed": true
   },
   "outputs": [],
   "source": [
    "# StopWords em português\n",
    "stopwordsNLTK = nltk.corpus.stopwords.words('portuguese')"
   ]
  },
  {
   "cell_type": "code",
   "execution_count": 19,
   "metadata": {
    "collapsed": true
   },
   "outputs": [],
   "source": [
    "# removendo StopWords dos comentários\n",
    "sem_stopwords_treino = remove_stopwords(comentario_classe_treino)\n",
    "sem_stopwords_teste = remove_stopwords(comentario_classe_teste)"
   ]
  },
  {
   "cell_type": "code",
   "execution_count": 20,
   "metadata": {
    "collapsed": false
   },
   "outputs": [],
   "source": [
    "# Estração do Radical (Stemmer)\n",
    "radicais_treino = aplicar_stemmer(sem_stopwords_treino)\n",
    "radicais_teste = aplicar_stemmer(sem_stopwords_teste)"
   ]
  },
  {
   "cell_type": "code",
   "execution_count": 21,
   "metadata": {
    "collapsed": true
   },
   "outputs": [],
   "source": [
    "# Criando lista de todas as palavras na minha base de comentários \n",
    "# que foram classifcados manualmente\n",
    "todas_palavras_treino = lista_todas_as_palavras(radicais_treino)\n",
    "todas_palavras_teste = lista_todas_as_palavras(radicais_teste)"
   ]
  },
  {
   "cell_type": "code",
   "execution_count": 22,
   "metadata": {
    "collapsed": true
   },
   "outputs": [],
   "source": [
    "# Extração de Palavras Únicas\n",
    "frequencia_treino = busca_frequencia(todas_palavras_treino)\n",
    "palavras_unicas_treino = busca_palavras_unicas(frequencia_treino)\n",
    "\n",
    "frequencia_teste = busca_frequencia(todas_palavras_teste)\n",
    "palavras_unicas_teste = busca_palavras_unicas(frequencia_teste)"
   ]
  },
  {
   "cell_type": "code",
   "execution_count": 23,
   "metadata": {
    "collapsed": false
   },
   "outputs": [
    {
     "data": {
      "text/plain": [
       "3507"
      ]
     },
     "execution_count": 23,
     "metadata": {},
     "output_type": "execute_result"
    }
   ],
   "source": [
    "len(palavras_unicas_treino)"
   ]
  },
  {
   "cell_type": "code",
   "execution_count": 24,
   "metadata": {
    "collapsed": false
   },
   "outputs": [
    {
     "data": {
      "text/plain": [
       "1459"
      ]
     },
     "execution_count": 24,
     "metadata": {},
     "output_type": "execute_result"
    }
   ],
   "source": [
    "len(palavras_unicas_teste)"
   ]
  },
  {
   "cell_type": "code",
   "execution_count": 25,
   "metadata": {
    "collapsed": true
   },
   "outputs": [],
   "source": [
    "# Extração de Palavras de Todas as Frases \n",
    "# classificadas manualemente para a formação da \n",
    "# matrix de probabilidades\n",
    "basecompleta_treino = nltk.classify.apply_features(extrator_palavras_treino, radicais_treino)\n",
    "basecompleta_teste =  nltk.classify.apply_features(extrator_palavras_teste, radicais_teste)"
   ]
  },
  {
   "cell_type": "code",
   "execution_count": 26,
   "metadata": {
    "collapsed": true
   },
   "outputs": [],
   "source": [
    "# treinando o nosso modelo Naive Bayes\n",
    "classificador = nltk.NaiveBayesClassifier.train(basecompleta_treino)"
   ]
  },
  {
   "cell_type": "code",
   "execution_count": 27,
   "metadata": {
    "collapsed": false
   },
   "outputs": [
    {
     "data": {
      "text/plain": [
       "[0, 1]"
      ]
     },
     "execution_count": 27,
     "metadata": {},
     "output_type": "execute_result"
    }
   ],
   "source": [
    "classificador.labels()"
   ]
  },
  {
   "cell_type": "code",
   "execution_count": 28,
   "metadata": {
    "collapsed": false
   },
   "outputs": [
    {
     "name": "stdout",
     "output_type": "stream",
     "text": [
      "Most Informative Features\n",
      "                 parabém = True                1 : 0      =     24.1 : 1.0\n",
      "                   2018. = True                1 : 0      =      9.1 : 1.0\n",
      "                   parab = True                1 : 0      =      7.8 : 1.0\n",
      "                  melhor = True                1 : 0      =      7.3 : 1.0\n",
      "                  negóci = True                0 : 1      =      6.0 : 1.0\n"
     ]
    }
   ],
   "source": [
    "classificador.show_most_informative_features(5)"
   ]
  },
  {
   "cell_type": "code",
   "execution_count": 29,
   "metadata": {
    "collapsed": true
   },
   "outputs": [],
   "source": [
    "# comentário real da linha 7225 na planilha comentários.xlsx\n",
    "comentario_teste = u\"Dória meu prefeito, meu presidente.\" "
   ]
  },
  {
   "cell_type": "code",
   "execution_count": 30,
   "metadata": {
    "collapsed": false
   },
   "outputs": [
    {
     "name": "stdout",
     "output_type": "stream",
     "text": [
      "O comentário é de um eleitor do Dória \n",
      "\n",
      "0: 0.022398\n",
      "1: 0.977602\n"
     ]
    }
   ],
   "source": [
    "preditor(comentario_teste, classificador)"
   ]
  },
  {
   "cell_type": "code",
   "execution_count": 31,
   "metadata": {
    "collapsed": true
   },
   "outputs": [],
   "source": [
    "comentario_teste2 = 'Acelera Sampa!!!! Doria o terror dos mortadelas'"
   ]
  },
  {
   "cell_type": "code",
   "execution_count": 32,
   "metadata": {
    "collapsed": false
   },
   "outputs": [
    {
     "name": "stdout",
     "output_type": "stream",
     "text": [
      "O comentário é de um eleitor do Dória \n",
      "\n",
      "0: 0.008995\n",
      "1: 0.991005\n"
     ]
    }
   ],
   "source": [
    "preditor(comentario_teste2, classificador)"
   ]
  },
  {
   "cell_type": "code",
   "execution_count": 33,
   "metadata": {
    "collapsed": true
   },
   "outputs": [],
   "source": [
    "comentario_teste3 = u'Esse Dória não me engana!'"
   ]
  },
  {
   "cell_type": "code",
   "execution_count": 34,
   "metadata": {
    "collapsed": false
   },
   "outputs": [
    {
     "name": "stdout",
     "output_type": "stream",
     "text": [
      "O comentário não é de um eleitor do Dória \n",
      "\n",
      "0: 0.505969\n",
      "1: 0.494031\n"
     ]
    }
   ],
   "source": [
    "preditor(comentario_teste3, classificador)"
   ]
  },
  {
   "cell_type": "code",
   "execution_count": 35,
   "metadata": {
    "collapsed": true
   },
   "outputs": [],
   "source": [
    "comentario_teste4 = u'Imaginar que esse almofadinha é um potencial presidente do país mostra bem que futuro nos espera'"
   ]
  },
  {
   "cell_type": "code",
   "execution_count": 36,
   "metadata": {
    "collapsed": false
   },
   "outputs": [
    {
     "name": "stdout",
     "output_type": "stream",
     "text": [
      "O comentário não é de um eleitor do Dória \n",
      "\n",
      "0: 0.989694\n",
      "1: 0.010306\n"
     ]
    }
   ],
   "source": [
    "preditor(comentario_teste4, classificador)"
   ]
  },
  {
   "cell_type": "code",
   "execution_count": 37,
   "metadata": {
    "collapsed": true
   },
   "outputs": [],
   "source": [
    "comentario_teste5 = u'Globo já fazendo campanha antecipada pra esse novo Collor se lançar a presidência.'"
   ]
  },
  {
   "cell_type": "code",
   "execution_count": 38,
   "metadata": {
    "collapsed": false
   },
   "outputs": [
    {
     "name": "stdout",
     "output_type": "stream",
     "text": [
      "O comentário é de um eleitor do Dória \n",
      "\n",
      "0: 0.395375\n",
      "1: 0.604625\n"
     ]
    }
   ],
   "source": [
    "preditor(comentario_teste5, classificador)"
   ]
  },
  {
   "cell_type": "markdown",
   "metadata": {
    "collapsed": true
   },
   "source": [
    "# Testando acurácia do modelo"
   ]
  },
  {
   "cell_type": "code",
   "execution_count": 39,
   "metadata": {
    "collapsed": false
   },
   "outputs": [
    {
     "data": {
      "text/plain": [
       "0.7398373983739838"
      ]
     },
     "execution_count": 39,
     "metadata": {},
     "output_type": "execute_result"
    }
   ],
   "source": [
    "nltk.classify.accuracy(classificador, basecompleta_teste)"
   ]
  },
  {
   "cell_type": "markdown",
   "metadata": {},
   "source": [
    "# Matriz de Confusão do Modelo"
   ]
  },
  {
   "cell_type": "code",
   "execution_count": 40,
   "metadata": {
    "collapsed": true
   },
   "outputs": [],
   "source": [
    "esperado = []\n",
    "previsto = []\n",
    "for comentario, classe in basecompleta_teste:\n",
    "    resultado = classificador.classify(comentario)\n",
    "    previsto.append(resultado)\n",
    "    esperado.append(classe)"
   ]
  },
  {
   "cell_type": "code",
   "execution_count": 41,
   "metadata": {
    "collapsed": false
   },
   "outputs": [
    {
     "name": "stdout",
     "output_type": "stream",
     "text": [
      "  |   0   1 |\n",
      "--+---------+\n",
      "0 | <80> 43 |\n",
      "1 |  21<102>|\n",
      "--+---------+\n",
      "(row = reference; col = test)\n",
      "\n"
     ]
    }
   ],
   "source": [
    "from nltk.metrics import ConfusionMatrix\n",
    "\n",
    "matriz = ConfusionMatrix(esperado, previsto)\n",
    "print matriz"
   ]
  },
  {
   "cell_type": "markdown",
   "metadata": {},
   "source": [
    "# Criando nuvem de palavras"
   ]
  },
  {
   "cell_type": "code",
   "execution_count": 42,
   "metadata": {
    "collapsed": true
   },
   "outputs": [],
   "source": [
    "palavras_eleitores_doria = [comentario for comentario, classe in comentario_classe_treino\n",
    "                           if classe == 1]\n",
    "\n",
    "palavras_eleitores_doria += [comentario for comentario, classe in comentario_classe_teste\n",
    "                           if classe == 1]\n",
    "\n",
    "palavras_eleitores_doria = ''.join(palavras_eleitores_doria)"
   ]
  },
  {
   "cell_type": "code",
   "execution_count": 43,
   "metadata": {
    "collapsed": false
   },
   "outputs": [
    {
     "name": "stdout",
     "output_type": "stream",
     "text": [
      "coitado do marginal que jogava ovo nos outros....Doria ja falou que vai acabar com a estabilidade no serviço público e quem quiser se manter no cargo vai ter que trabalhar e mostrar serviço, só isso já basta pra deixar a esquerda furiosa.PELO JEITO TEMOS MUITOS MORTADELAS QUE ESTAO COM MEDO DA MAMATA ACABAR NEH???? DÓRIA SERÁ O PRÓXIMO PRESIDENTE DO BRASIL E ESSA CORJA DE INTOLERANTES IRÁ ACABAR......AGUARDEM.....ACELERA DÓRIA!!Este estado é o pior do Brasil, pobre em cultura, pobre em td. tem que se ferrar. Sou a favor daquele reitor antigo que diz:Oo pai dele foi deputado federal pela Bahia, ok, então está explicado e mais que justo o motivo do titulo de cidadão Soteropolitano, que que é um descendente! O povinho da esquerda protestando é algo muito ridículo.já pensou se SP deportasse todos os baianos de volta para seu estado de origem ?...Estes nordestinos tem que agradecer o dinheiro de SP que vai pra eles!Nordeste tem um povo atrasado igual no Oriente Médio, se acordassem pra realidade ajudariam a pôr nosso país em melhores condições.E a mortadelada pira! Esquerda formada; por estudantes q não estudam; Por trabalhadores a não trabalham pois encostam-se nos sindicatos Por artistas de alcova; Por intelectuais q não sabem formular discursos e idéias;Dória foi se meter com o Temer, dá nisso. Impopularidade pega!! Cuidado Dória!!Que venha o exército.Baiano é uma desgraça mesmo! Povo imundo!PORQUE NÃO ATIRAM NO LUL@, NA GLEISI, NO GEDEL... QUE SAQUEARAM NOSSO PAÍS? O QUE O DÓRIA FEZ??? IGNORÂNCIA E INTOLERÂNCIA, SÓ ISSO EXPLICA!gópi MARAVILHAAAAAAAAAAA...PANELEI MUITO GRAÇAAS A DEUS !!!!Doria é o candidato a Presidente em 2018. Não há outro nome com suas qualidades. Os baderneiros bolivarianos usam a violência para intimidação.Por falta um dedo ao líder???? ele esqueceu dentro dos petrálhas. kkkkkk fora: GILMAR-MENDES e BRAHMA e PÓ-MG e VAMP!!!!Se ele tem dinheiro pra pagar alguém pra recolher. Bom que é menos 1 desempregado nesse país.Que idiotice quem esta vendendo o que esta apenas transferindo custos e melhorando os espaços é concessão idiotas.Perfeito! O Prefeito precisa se precupar com outras coisa mais importantes como saúde, educação, moradia e segurança.. População precisa perder essa mania de achar que o govenro precisa prover tudo, sustentar tudo...Mais iniciativa privada... mais emprego, menos despedicio.Pacaembu, Sambódromo e Autódromo só trazem prejuízos pra prefeitura, infelizmente precisam ser privatizados.Os vermelhos piram... Gostam de uma boquina no governo.Trm que privatizar mesmo! ! O governo não tem que ficar se metendo em estadio, sambodromo, ou qualquer coisa desse tipo!! Ta certissimo!! Prefeitura tem que cuidar da saúde, segurança, educação etc. E mais, pra população não vai mudar nada! Pagava pra ir nesses lugares e vai continuar pagando normal.Isso mesmo. A Prefeitura não tem que ter Estádio, Centro de Exposição, Autódromo, Sambódromo e etc... Tem que focar em Saúde, Educação e Segurança.BOA DÓRIA , VAMOS EM FRENTE , QUE A GRITARIA DA ESQUERDA É PORQUE OS CABIDES ESTÃO ACABANDO. CHEGOU A EPOCA DE TRABALHAR GENTE , ACABOU A MOLEZA DE SE ENCOSTAR NO ESTADO .Já passou da hora, tem que privatizar tudo.Ótima notícia, quem sabe à partir de agora os bandidos que se intitulam torcedores passem a ser responsabilizados pelos danos causados por eles.Essa pe tra lhada i.gnorante que comenta aqui NEM LÊ a reportagem e já sai criticando e mentindo ... O aumento do IPTU vai ser de 3%, abaixo da inflação, em 70% dos imóveis . Os outros 30% dos imóveis vão ter aumento baseado na revisão do PGV de 2013 (da gestão Raddard)você não sabe o que fala ! ele reajustou pouquíssimo e esta cobrando de quem não pagava a anos ! não e justo um pagar e outro não !Boa decisão para 2018. Vamos aguardar os próximos anos...A pressão que Doria está sofrendo por parte dos caciques do PSDB chega a ser constrangedora. O problema deles eh que o povo quer o Doria em 2018.Super Parabéns Sr Prefeito!!!! Morram de inveja quem não fez nada por São Paulo! Doria com ajuda dos EMPRESARIOS, (toma-te na cabeça dos invejosos\"), mesmo com toda oposição atrapalhando, ( como no caso da cracolândia) ele esta revolucionando nossa cidade... Muito obrigada Sr Prefeito!!!As esquerdinhas piramSó elogios para o nosso futuro presidente do Brasil !!!esse cara e muito bom.. odeio todos os partidos.. mas esse cara e otimo.. realmente merece ser presidenteParabéns Dória !!!Vai ficar parecendo o choro dos esquerdopatas quando perder as eleições de 2018,kkkE os esquerdopatas ficam loucas de raiva ,kkk .Aproveita a campanha de vacinação contra a raiva !!kkkNão vou entrar na discussão sobre a responsabilidade dos pais terem vários filhos sem condição de sustentá-los. Porém, entendo que as crianças não podem ser penalizadas pelos atos dos seus pais. Com certeza uma criança subnutrida terá menos capacidade de aprendizagem, o que levará a manter o círculo vicioso: pais sem estudo que gerarão filhos também sem estudo.Eu acho um total absurdo, essa mulherada ficar fazendo filhos que NÃO pode sustentar, delegando ao municipio essa responsabilidade. Deveria haver uma lei determinando que, quem NÃO tivesse condição de alimentar, prover moradia digna, saúde, poderia ter um filho só e \"olhe la\"\"\"\" No 1o ja faria a laqueadura. Bando de gente folgada meu!! oh loko!!!!!!!Escola pública tem que parar de ficar dando lanchinho, que é obrigação dos responsáveis!quem pariu matheus que balance o berçoo que mais falta agora, as crianças precisam tomar banho com sabonete importado antes de voltarem para casa????????????????????? recebem duas refeições e não está bom????? que os alunos levem de casa o complemento............Povo muito mau acostumado...transporte,uniforme ,leite ,alimentação,etc...e ainda reclama. Quer viver em um país socialista, vai para a Venezuela ou Cuba. Essa competição de quem dá mais para se eleger de políticos populistas, é que elevou esses benefícios a um patamar absurdo e irreal. Tá com fome depois das refeições oferecidas ? Leve o complemento de casa !Essas \"mães\" só sabem fazer filho, elas tem que aprender a criar os filhos, tem que aprender que filho tem custo e os custos não podem ser de responsabilidade da administração pública, enquanto uns trabalham para \"manter\" os filhos que elas colocam no mundo elas mesmo só sabem reclamar.\"\"\"\"; ISTO SE DA PORQUE ELE DEVE RECEBER PROPINA PARA ENRIQUECER ILICITAMENTE \"\"\"\" afirmações baseadas em...????quem tem a obrigacao de alimentar as criancas sao os pais, e nunca o estado. Por que fazem filhos e querem empurrar alimentacao e educacao ao estado?Poque a escola tem que fornecer alimentação para os alunos? isso e obrigação dos pais, quem acha que o que e servido e pouco manda o filho pra escola junto com uma lancheiraTem que Privatizar TudoEsse secretário era horrível, parabéns Dória por demiti-lo ... Esse cara do PV era mais 1 que vinha mamando a anos em nossa politica. PV é tipo kiwi, verde por fora e vermelho por dentro ! Esse cara é mais um que se aproveitou da \"ditadura\" para depois permanecer por anos em cargos políticos....Diz ele que até torturado já foi !!! Esse cara não tem ideologia alguma, já pulou de galho em galho por vários partidos e pode se preparar que jaja está ai assumindo algum cargo publico novamente... Estará no palanque da câmara em breve!!Doria está certo. Não fez bom serviço, tem que ser demitido mesmo. Por que esse Ex- secretário não denunciou quando estava empregado? É um sem vergonha.Dória , candidato a Presidente , claro !!!!!.... E o Crivela o que faz pelo Rio ?Pelo menos o Doria está tendo atitude e criatividade, se vai acertar em tudo não sei..O marketing de DORIA é positivo. É a unica opçáo do eleitor em 2018. E todos os politicos na relação da Lava-Jato terão que banidos da vida publica, lembre-se disso eleitor. Em 2018 vamos pulverizar esses políticos nas urnas.Prefiro o Marketing e Doria,D.Ó.R.I.A = PRESIDENTE 2018 à 2026. .!!A gestão do atual prefeito de São Paulo é sem dúvidas um modelo a ser seguido. A parceria com o setor privado faz com que a cidade fique melhor em todos os aspectos e tudo isso sem usar o dinheiro dos cofres públicos. Parabéns ao prefeito João Dória.Parabéns meu Presidente, quanto menos a Prefeitura gastar, melhor!Bem que o Governador Rollemberg podia fazer o mesmo aqui em Brasília, não que o Parque Da Cidade seja ruim, mas um parceria dessas deixaria o maior Parque Urbano do mundo ainda melhor. Parabéns, Doria!!!praças e parques da zona leste estao abandonados desde o inicio da gestao doria, é um bom prefeito mas nao é perfeitoDoria vem fazendo um otimo trabalho , Doria pra governador , e cadeia no lulamolusco , aeciodopó ,Fantástica a administração Doria.Deus abençoe que ele cumpra o prometido São Paulo precisa...Estou muito feliz com a gestão do prefeito Dória. Aos descontentes, existem várias opções: voltar a trabalhar, sair de São Paulo e ir pra uma cidade governada pelo PTê, tomar vergonha na cara e parar de mimimi... Se nenhuma delas te agrada, acampem em frente ao apartamento do Luladrao, afinal ele é o símbolo máximo de honestidade e prosperidade. Perceberam quantas opções? Deixem que as pessoas de bem, aquelas que elegeram no primeiro turno, enterrando o PTê com pá de cal viverem em paz. Vocês tiveram 13 anos para melhorar a vida do trabalhador e só viveram de corrupção.Eu acompanho o Dória a muito tempo, é um exímio administrador. São Paulo precisa de um administrador e nesse momento ele é o único. Sempre reclamamos que os políticos são sempre os mesmos, apesar do Doria já ter ocupado cargos do tipo, é uma cara nova na prefeitura. Meu voto é dele, se eu quebrar a cara eu escolho outro daqui a 4 anos.BOA DORIAAAAA !!! TEM QUE RESTRINGIR SIM !!! QUEREM PASSEAR DE BUSÃO ??? PAGAAAAA E NAO BUFFAAAA !!!Pois é! Mais uma vez o Prefeito Dória tem razão. \"Os deslocamentos devem estar vinculados a atividade escolar\". Quem quiser cabular aula e voltar mais cedo pra casa que vá andando!PREFEITO UTIL !!!Ta um Gato vestido de Gari! Troféu simpatia pra esse Doria!! O Iris Rezende pegava na enxada pra cativar a simpatia. Ta velhinho e foi eleito novamente! Desejo sucessos a ele para o bem dos Paulistanos. Precisamos que noticias boas em 2017!Mito 2018.Mitooooooo 2018.Mitoooo 2018 .Melhor prefeito do Brasil. Um grande nome para 2018. Só precisa sair do PSDB. Dória 2018!!Quanta idiotice desse Sr. Campos Machado. Acho que deveríamos estar contente por ter aparecido um Doria como opção para 2018. Acho até que Doria será uma unanimidade nacional. Chega de mais do mesmo no Brasil. Precisamos renovar.Dória é mil vezes melhor que o confuso do Haddad... São Paulo somente vai ganhar com o mesmo na prefeitura.Dória ganharia fácil a eleição para presidente 2018 ( no primeiro turno).É assim que se começa a governar na tranquilidade, corre para conseguir dinheiro antes mesmo de assumir. 2018 DORIA Presidente.DÓRIA FAZENDO UMA POLITICA DIFERENCIADA! TIPICO DE UM BOM ADMINISTRADOR .Muito bem Doria, quem leu entendeu. Terá teor crítico também. Um homem que sabe escutar e da a mão a outras lideranças prol do povo revela senso de sabedoria.Porque este radicalismo dessa \"manifestação\"? Onde está o bom senso? As ciclovias foram impostas à população, sem nenhum estudo e sem ouvir os moradores. Por exemplo, na minha rua, detonou o comércio e não serve praticamente para nada, pois raro é o ciclista que passa nela. A não ser servir de rota de fuga para a \"gangue da bicicleta\" que rouba os incautos e incautas aqui perto do metrô Marechal Deodoro. Por isso que acho que o Prefeito eleito está correto quando diz com bom senso que é preciso reavaliar as ciclovias. Algumas podem ser úteis, outras são verdadeiras aberrações haddadianas.As ciclovias foi um ótimo projeto do Haddad, porém não foi implantada corretamente, existem lugares que é impossível pedalar, vários ciclistas andam fora da faixa e etc. O JOÃO NEM TOMOU POSSE E OS PTistas JÁ TÃO FAZENDO PROTESTO, PELO AMOR DE DEUS. O CARA CRIOU ATÉ UMA PESQUISA NO SITE DELE PARA SABER A OPINIÃO DA POPULAÇÃO. Deixem esse homem trabalhar.Aqui de Aracaju e apoiando Dória !É cada PIADA que meu DEUS .... PARABÉNS DORIA !Melhor ter coragem pra fazer do que se omitir o que é claramente muito mais confortável para o agente púbico. Dória tem coragem de agir embora alguns insistem em criticar boas ações só porque não estão no seu campo ideológico. Essa pequenez política faz do Brasil ser o que é. Uma grande torcida de futebol! Lamentável!Criticar ação do Prefeito João Dória é fácil ...... tomar alguma iniciativa para acabar com essa vergonha é para poucos ...... Força João Dória ......Doria sera o nosso presidente, não esta envolvido em corrupção, desce a lenha no molusco.Este é o Prefeito que TRABALHA e fará muito mais. Morei em São Paulo e tenho muita saudade.Estão pegando no pé do Doria achando que vão depreciar seu nome para 2018. Estão redondamente enganados. À medida que se aproxima as eleições, Doria cresce cada vez mais. O povo o escolheu e isto é notório.Pelo visto :: nosso futuro PRESIDENTE.Futuro presidente. ....Não vejo ninguém mais competente que o Doria ,meu voto é dele!Dois nomes de alto impacto e competência. Força DóriaTem que privatizar!!! Pq o município tem que ser dono de Estádio de Futebol, Autódromo, Centro de Exposição e etc... A prefeitura precisa focar em Saúde, Educação e Segurança. O resto privatiza!!!Parabéns ao Prefeito , enfim um homem de pulso neste pais e que não se dobra a bandoleiros e e gente que só pensa em destruir , deveriam fazer o mesmo no restante do País. Afinal quem paga tudo é o dinheiro do trabalhador... aquele dia que é descontado dos nossos salários.Quer fazer comunista ficar doente, mexe no dinheiro dele---- A forma correta de educar comunista é faze-los gastar do próprio dinheiro...Multa bem alta no rhabo dos sindicatos e partidos politicos envolvidos com a baderna e quebradeira.. Eles recebem altos valores de Fundo Partidário e Contribuição Sindical, multa alta e logo resolve o caso... O governo P T ralha investiu 01 BILHÂO nos sindicatos em sua administração, isso ninguém mostra.Depois dessa atitude do Prefeito Doria ,nunca mas os sindicatos vao mandar seus piratas para as ruas. Porque se mandar vai ter que gastar muito com as indenizações. Também os bancos deveria também cobrar seus prejuízos.PARABENS DORIA,,,,,MANDA A CONTA PRA ESTES ATOASAté que enfim um Prefeito de PersonalidadeO Dória está correto, isso é greve de mortadela contra o Moro.Há um abismo entre a inteligência do PRESIDENTE DÓRIA 2018 e, a PTbada/BolsoTONTOS invejosos de plantão. . kkkkkkDoria melhor prefeito do Brasil.Doria 2018Tomara que ele consiga bastante investimento pra minha cidade... Boa sorte Dóriaaaa...SIM ..!! . . Tomarei conta da cidade de SP enquanto o DÓRIA PRESIDENTE 2018 capta recursos $$$$$$ para fazer a cidade melhor..!!Valeu Dória!Valeu, Obrigado por fazer o trabalho para o qual a população te elegeu. ou seja. Obrigado por cumprir com a sua obrigação.Adorei a iniciativa Doria, cidade de São Paulo limpa e organizada.A turma da esquerda petistabpassou 14 anos roubando, destruíram o país e a glo.b.o não falou nada. Agora uma coisa tosca dessas com o Doria já gera esse alarme todo. Que piada. Tão com saudadea dos anuncios milionários da j.bs, eletrobras, petrobras, oderbrecht, etc? Tuso com ator de vcs? SAO NOJENTOS! ACABOU A MAMATA....POR ISSO TEM MEDO DE QUEM É LIBERAL...MENOS ESTADOSe privatizar fica é melhor ainda, já viu serviço público de qualidade ?Legal mesmo é votar nos outros da E S Q U E R D A ban,di,da que deixa o resto dos Estados falidos, né mortaNdela ?Isso tem um nome: INVEJA da concorrência de políticos amadores e populistas, que nada fazem além de prometer e não cumprirem, e ainda roubam botando a culpa em inocentes. DÓRIA PRESIDENTE!!!Mais uma vez o Dória vence os Esquerdistas.Fale por vc... Estou adorando o Dória diante dá prefeitura.essa Edite deve morar numa cidadeca governada pelos PeTralhas. onde pode tudo!!Esse é O PREFEITO. Carnaval tem que acabar, é festa para 0 7 4 r i 0 sDória, para presidente!!!!!!!!!!!!!!!!!agora SP tem comando!! Parabens Joao Doria!!!Papinho de esquerdista. Desculpinha esfarrapada pra manter uma pessoa que não faz nada o dia todo. A Maioria é bilhete Único, manter um cara pra ficar batendo uma moedinha no ferro pra avisar o motorista que o passageiro ja desceu, faça-me o favor, o retrovisor do motorista ja faz isso. Cobradores a Maioria são todos encostado, que não se preparou para o mercado de trabalho no futuro, e agora vem colocar a culpa no sistema. A tecnologia é para facilitar, quem não se preparar para ela, esta fora.Jean Valjean , esse nome lhe cabe muito bem tanto quanto aos \"miseraveis\". Porém seu mal e falta de educação mesmo. Polícia nenhuma vai ficar de prontidão pra pegar pichações. Isso é mimimi. Aceite a Vitória do Doria. .Parabéns Doria ate que fim apareceu alguém com coragem pra enfrentar esses marginais que danificam bens públicos e privadosGrafiteiro de bu é lola........o Dória esta certíssimo.Esse cara se sair pra Presidente, ganha já em 2018. O cara é fera!Isso mesmo Dória cacete nesses pichadores.VAI PICHAR A GELADEIRA DA MÃE, NÃO TEM CORAGEM DE PAGAR PARA APRENDER A GRAFITAR E AINDA QUER TER RAZÃO, DORIA TAMO JUNTOPARABENS JOAO DORIA.........PELA LIMPEZA....Manifestante em pleno dia de semana = V.A.G.A.B.U.N.D.ODÓRIA EU TE AMO! VEM SER PREFEITO DE IGREJA NOVA ALpoisé, hj em dia mtos especialistas comentando no G1Acabou a era dos m/a/r/g/i/n/a/i/s. Agora é Dória colocando SP na linha depois de anos de desgoverno.Esse Dória vai revolucionar o modo de fazer política no Brasil, boto fé nele.Tem que prender mesmo.Pichador tem que apanhar de cacetete até desmaiar. Parabéns aos policiais que picham as caras de pichadores. Cadeia para porcos pichadores.Não esta gostando do aumento das passagens..... então vai morar em CubaMas vamos lá, o que Dória tem haver com o aumento? Sou a favor da manifestação, só que evidente que os estudantes são manipulados por partidos políticos. Por essas e outras, que prefiro nunca apoiar esse pessoal.Por que esses sanguessugas parasitas não protestam a favor dos 13 milhoes de desempregados? Por que não protestam contra o maior culpado, chefe da quadrilha 9fingers que ainda esta solto? Esse zumbi molusco que gerou tudo isso. Vai ter uma hora que nao vai ser a PM que ira pra cima desses vandalos! Vsi ser quem ja perdei a paciencia com a esquerda!!! Cantem aquela musica : \"'inuteis, a gente somos inuteis\" nem para estudar servem!!!!pixador deveria apanhar pra aprender a não sujar a cidadeNossa! O Dória não conseguiu consertar em 1 dia o que o Haddad estragou durante 4 anos!! Ohhh!Só refrescando a memória dê algumas pessoas. De todos os Prefeitos que São Paulo já teve, qual deles realmente já começou trabalhando de verdade já no primeiro dia de Mandato? Maluf super faturava tudo! Pita não aparecia para trabalhar! José Serra Chegava ás 11 horas da manha e as 14 horas já ia embora! Marta começou a trabalhar no final de Janeiro e em Abril, foi para Paris descansar! Gilberto Kassab teve uma Gestão melancólica! Haddad prometeu mundos e fundos e só começou sua Gestão no fim do Mandato!Não Sr. Vigario... Acho que o Doria ainda não mostrou ao que veio, mas o pior Prefeito da história de São Paulo é o seu amigo Haddad.SERIA MAIS UM POLITICAMENTE CORRETO QUERENDO TRAVAR A POLITICA MODERNA QUE O DÓRIA TENTA IMPLEMENTAR EM SAMPA?Esse aí não aguentou o ritmo do Dória kkk acostumado com o estado lento, gordo e burocrático achou que seria só moleza nesse cargo que tava ocupando. Manda bala prefeito, emprego é pra quem sabe trabalhar. Acelera!AceleraSaoPaulo, JoãoTrabalhadorA União, Estados e Municípios, só devem administrar áreas estratégicas, segurança e de comprovado interesse social a restante tem que ser concedido a iniciativa peivada. Está certinho Doria.Pq a prefeitura tem que ter um Centro de Exposições? E uma empresa de Turismo? Privatiza... A Prefeitura deve focar em Saúde, Educação e Segurança Pública...MST, CUT.. e estudantes da USP (grátis) que ficam trinta anos para se formar em (filosofia, história, sociologia....)Tem que cortar mesmo. Fazer filho é fácil, mas manter um filho que é difícil. Quem faz filho tem que ter a consciência dos gastos e parece que quanto mais pobre mais filhos querem ter.Sr. Thomaz Gold, eu acho que você deveria se informar direito antes de começar a defecar pela boca, o Dória disse que irá rever os contratos, pois ele pretende foca mais na parte do ensino dos alunos, que é o que o país mais precisa neste momento.parabéns, nosso futuro PRESIDENTE DO BRASIL e que DEUS o abencoe.Gestão Doria inovando SPDória presidente em 2018.pARABENS D0RIA!isto Dória , passa por cima dessa turma de viciados em cargos e salários sem apresentar resultados : e quanto as criticas aqui são da turma da merenda (ex-mortadela ) que querem o atraso ao invés da responsabilidade com trabalho e resultados , parabéns Dória acelera e rumo a Presidência em 2018DÓRIA PRESIDENTE 2018 à 2026. .!!. . . Podem surtar seus mortadelas inúteis. .!não deu certo rua, ta certissimo! É isso que a gente espera, poder publico não é lugar pra tentar \"fazer a pessoa trabalhar\", não trabalhou? tchau! RespeitoCaro Dória, moro no rio, temos poucas informações sobre seu trabalho em SP, mas espero de coração que você se candidate. chega desses velhos politicos travestidos de siglas diferentes. Administre o Brasil como se fosse sua empresa ou mesmo sua casa. Farei qualquer campanha pra você se necessário. absDória é um aparecido, vai onde tem público, a cabeça dele já está na presidencia em 2018. Espero que quebre a cara e perca a presidência e a prefeitura, assim aprende a pautar suas ambições. Seu governo não é ruim, é um dos melhores que SP já teve, no entanto, está começando a se perder, pensando mais em 2018 do que na cidade. SP sabe eleger mas também sabe tirar.. Abre o olho Dória.O Passe Livre é para estudar e não para ficar dando rolêzinho às nossas custas. Vão estudar...DÓRIA PRESIDENTE 2018 à 2026. .!!. . . Não aceito réplicas, obrigado..!!Traduzindo: atitude de esquerdiotaTinha que ser do PT eita povinho aloprado esse do PT, sem um pingo de educaçãoA esquerdalhada sempre fez isso. Militantes de esquerda são os culpados de nossa crise, em vários níveis.Dória 2018!Dória , Jamais vimos um prefeito como esse !!!! Que Deus te abençoe e que o Brasil jamais volte para traz com esses esquerdopatas que vivem do dinheiro público . Dória Presidente !!!MORTADELAS. . Está circulando na web, vídeo mostrando o MOLUSCO sendo expulso do Restaurante Camarões na Bahia, a base de vaias e FORA PT ..!!. . . Outro vídeo, mostra seu comício VAZIO e, os poucos mortadelas entrevistados, confessando que receberam 25 reais e um lanche pela participação. . kkkkkkkkkMuita mortandela ,kkkkO João Doria, é preparado, rico, não depende do governo. Espero que o pessoal saiba escolher na hora de votar. É começo da caminhada sem volta., ALCKMIN presidente .finalmente ... formado em marketing e jornalismo... trabalha desde os 13.. pagador dos impostos e cumpridor de lei.... vamos ver se o povo acorda e vota direito dessa vezDoria incomoda os vermelhinhos bandidos, isso é muito bom. Sabem que jamais irão voltar ao poder, por isso partem para xingamentos, baixarias, etc.a direita não sabe enxergar a realidade... é cego mesmo.DÓRIA PRESIDENTE 2018 à 2026. .!!. . . Aos parasitas sociais. . O choro é livre..!!DÓRIA ESTÁ CERTÍSSIMO. .!!. . Se não produzir, põe na RUUUA..!!DORIA HUMILHOU OS PETRALHAS EM SÃO PAULO E VAI TRUCIDAR O MOLUSCO LADRÃO NA ELEIÇÃO PRESIDENCIAL !!! ELES ESTÃO DESESPERADOS E MORRENDO DE MEDO !!! KKKKKDEIXO AQUI MEUS PARABENS AO PREFEITO DORIA.....Doria tem muita noção de eficiência e gestão. Está mais do que certo.João Doria presidente, ele vai demitir quem não trabalha corretamente, parabéns prefeito.ELE VAI DEMITIR MUITOS INCOMPETENTES, E VOCÊS DEVERIAM AGRADECER, CAMBADA DE BURRO.Melhor prefeito do Brasil. Me orgulho de ter votado nele!Privatiza logo o autódromo de Interlagos,Sr prefeito!Parabéns Doria, parabéns Temer. A caravana passa e os cães ladram..O Dória daria um ótimo ministro do planejamento.aproveita as ciclovias e vão de bike.CORTA TUDO DORIAAAAAAAAA !!! SP NAO EH MAIS GOVERNADA POR MORTADELA ESQUERDOPATAAAAAAAAAPrivatiza tudo assim ninguém tira $ de lugar nenhum, os reds são contra porque sabem que vai acabar a verba da mortadela, os caras invadem um orgão público e acham que estão certos, nunca querem dialogar o negócio é tomar na marra e fazer arruaça, apoiam ditadores como che e maduro, dizer o que mais ?Todo mundo de iPhone, com suas bandeiras do PT da CUT, da UNE, e outras, registrando o momento histórico para postar no Facebook e/ou compartilhando no WhatsApp! Tudo dentro da maior coerência possível e imaginável.O Brasil precisa de um chefe de estado linha dura pra impedir que esse tipo de coisa aconteça, isso é uma afronta ao estado democrático de direito. Não conseguem no meio representativo e tentam na força, no grito. Foi assim que começou na Venezuela, hoje vemos como eles estão. Abra o olho Brasil, esquerda nunca mais.Super parabéns Sr Prefeito!!! Um exemplo de competência, determinação e dignidade. Nao desista... esse é um trabalho contínuo, a longo prazo mesmo... e não se deixe abalar pelas pragas que só tentam atrapalhar esse seu brilhante trabalho! Parabéns Sr Dória!!!o João Doria está fazendo um trabalho serio na CRACOLÂNDIA (CEMITÉRIO DE VIVOS), em poucos meses de governo fez mais ações do que o HADAD em quatro anos, quem conhece o local sabe que é um verdadeiro inferno e as pessoas não respondem por si, cremos que com insistência e vontade irão conseguir exito, claro que os traficantes não querem de forma alguma a recuperação dos drogados, perderão uma verdadeira fortuna.Impressionante a capacidade de realização de Doria, o projeto do parque ficou quatro anos empoeirando na mesa do haddad e em poucos meses Doria tirou do papel. Parabens ao prefeito que honra cada um dos votos que o elegeram em primeiro turno!Dória 2018 !!! Melhor prefeito do país...Parabens ao Doria por mostrar a diferença entre falar e realizar!Dória 2018 presidente!Orgulhoso de ser Paulista, e tudo isso sem exército nas ruas para tentar inibir a violência igual um outro Estado falido por ai, Parabéns São Paulo, vc é um exemplo para esse País !Podem falar quanto quiserem falar. Pelo menos esse cara tá fazendo o que determina a lei, ao contrário dos outros políticos que só mandariam o assessor ir buscar uma carteira nova ou transferir os pontos da carteira. Pois é, um Cara Rico desses além de poderoso só era te pedido pra transferir pra seus funcionários um pouco dos pontos e pronto, tava livre. Mas não. Ficou com as multas respondeu por elas. Parabéns Dória!Não voto no PSDB mas parabéns ao prefeito.PARABÉNS DÓRIA ....Dória Presidente 2018REALMENTE O DORIA ESTA DE PARABÉNS ISSO DEMONSTRA QUE ELE É UMA PESSOA JUSTA.A radio da Globo errou feio, a CBN que fabricou essa historia falsa de que a prefeitura tinha molhado moradores de rua com água gelada (sic!). As mentiras da rede Globo contra o Doria não param. Isso não é jornalismo, isso é partidarismo sem pudor. Não ouço mais a CBN, radio mentirosa!Fake news tentando denegrir a execelente administração do João DóriaDÓRIA PRESIDENTE 2018 à 2016. .!!. . . . Aos mortadelas, o choro é livre ..!!!!!Parabéns Dória, se fosse outros prefeitos apenas diriam que iriam \"investigar\" as denuncias e nada seria feito.Pro pessoal que tá xingando o Doria: e no tempo do Ruindad, quando essa mesmíssima propina corria solta e absolutamente nada era feito, aí sim que era bom, né?PARABENS DORIA, TOLERANCIA ZERO.Lamentável ! O jogo sujo é culpar o Dória , ou melhor induzir o leitor achar que ele é o culpado . Não sabemos qual o acordo debaixo dos panos 1 ?Dória 2018, presidente!Único prefeito da América Latina convidado dos USA, está viajando com um secretário e tudo bancado do próprio bolso, não está lavando dinheiro através de palestra já que não recebe nada por elas, as PTralhadas que adoram uma bolsa isso e aquilo pirammm kkkkkkkkkkkkkkkkkkkkkkkEsse anti Dória só sabem dar risada pq estão engolindo SECO o novo prefeito, C.H.U.P.A!!Os mortadelas piram.Alguém aí em Sampa quer trocar o Doria pelo Crivela? O Rio agradece.Incansável prefeito Doria! Um verdadeiro exemplo internacional de líder gestor, sendo justamente reconhecido pelo trabalho realizado. Conseguindo soluções para São Paulo mesmo sem caixa para licitações (caixa que vai depender de desestatização). O custo de implantar 10.000m2 de muro verde no coração de São Paulo com sistema dedicado de irrigação é muito maior que implantar mudas em campo aberto em local não urbanizado. São Paulo ganhou muito com essa negociação, ainda mais aliviando a poluição, e combatendo pichação, reduzindo a poluição visual.Globo sempre querendo queimar a imagem de Doria, induzindo o leitor, com o titulo da matéria, de que o prefeito só viaja. Melhor titulo seria: DORIA É CONVIDADO A PALESTRAR PARA PREFEITOS DOS EUADoria tem razão. Ele está apoiando as reformas e não o Temer e isso é pelo bem do país. A oposição por sua vez, só trabalha pra afundar o governo Temer e consequentemente afundar o pais e transformar numa Venezuela. E por mim, Doria pode vender tudo o que gera custos para os cofres publicos. Meu bolso agradece, ok.Dória para presidente!!!!!!!! Eu apoio!!Parabéns Doria! Deve estar levando uma boa porcentagem da diferença!Há tantos anos o parque vem abandonado e travado por disputas judiciais e nosso prefeito finalmente conseguiu destravar a área, parabéns ao Dória por mais essa conquista para nossa cidade!PARABÉNS AO NOSSO EXCELENTE PREFEITO DORIA !!!Infelizmente este parque será uma copia do Trianon onde poucos se arriscam a circular.. Mas o Dória esta fazendo isso com a melhor das intenções... mas a galera que pressionou o prefeito pra ter esse bendito Parque vai tratar de depreciar toda aquela região formalizando o seu \"reduto\".. Podem esperar...Empresas, autarquias, fundações, o nome que seja e que cuidam de ativos da prefeitura de São Paulo são máquinas ineficientes e cabides de emprego. Geram despesa, pouco retorno e não cumprem função social. É um monte de penduricalho encostado no governo e pagos pelo contribuinte. Parabéns, Prefeito Dória e deixa os estatizantes chorarem. Passe a vender lenços prá eles.EM FRENTE DÓRIA , ESMAGANDO A ESQUERDABoa Dória, privatize tudo ! Não aguento mais pagar os salários desses funcionários públicos parasitas e sanguessugasO melhor prefeito no últimos 10 anos. Espero que ele reconsidere a candidatura á presidência e tente o governo do Estado. Já tem o meu voto.Parabéns prefeito Dória...Fez mais que muitos prefeitos no BrasilParabéns joão Doria, colocando sempre em cheque e mostrando os planos muito bom vamos erguer essa cidade de novo!!!! ACELERA SÃO PAULO...... OS CRÍTICOS DEIXA ELES FALAR SOZINHOS.Doria o melhor Prefeito do Brasil.Votei no Dória e sou do tipo que acompanha o trabalho pra poder cobrar depois, afinal está difícil confiar em político no Brasil. Agora o cara fez mais coisas em 6 meses do que muitos em anos. Isso é fato. Foi bem deselegante a globo cortar sua entrevista e não dar oportunidade de resposta à critica, na minha opinião, injusta.O Dória está indo muito bem. Só a Globo e a Folha de São Paulo é que não acreditam.Parabéns Prefeito! o Sr melhorou e muito a cidade de SP. As ruas estão limpas! As pessoas de bem com certeza estão felizes com a administração do Sr.globo, pare de menosprezar o Dória, pq PREFEITO igual a ele não há, a unica coisa q não presta no estado de SP é a TV GLOBO. devia vcs terem feito um balanço da gestão anterior, e Dória não é Deus para cumprir as promessas em 7 meses, ele ainda tem 3 anos e meio, se vcs não sabemViva as privatização!Dória Presidente!É INCRÍVEL COMO O G1 FOCA SUAS MATÉRIAS SOMENTE EM PONTOS NEGATIVOS, MESMO QUE INSIGNIFICANTES A RESPEITO DE TUDO DA GESTÃO DÓRIA ...Quando entra um prefeito para por ordem na casa, os demais sanguessugas do dinheiro público tentam atrapalhar! Privatizar só traz benefícios: a prefeitura não precisa gastar dinheiro na manutenção desses locais; esses locais vão continuar gratuitos para a população; as empresas que ganharem as licitações vão investir em melhorias; o dinheiro que a prefeitura gastava com esses locais passa a ir pra onde importa de verdade (saúde, educação, segurança). A quem interessa atrapalhar isso? Os que sugam e desviam o dinheiro público e os funcionários que fazem corpo mole no trabalho. É simples.O Estado não tem competência pra administrar nada, além de empresas públicas serem sempre foco de corrupção. O povo não tem conhecimento técnico necessário pra decidir nada a esse respeito. É um erro achar que um plebiscito pode tomar a decisão correta. Privatiza logo que vai ser melhor pra todo mundo.A iniciativa privada não tem obrigação de ficar sustentando pessoas que só sabem fazer filhos e acham que o Estado tem o dever de sustentar. Se essas pessoas querem progredir, que façam um planejamento familiar, comecem a estudar e procurem qualificação, pois estamos cansados de ficar sustentando aqueles que não querem fazer nada, a não ser fazer filhos!Parabéns Dória, nós cidadãos de BEM, estamos ao seu lado, caminhando e trabalhando juntos. Excelente gestão, tem que manter esse pique, João Trabalhador; E parabéns pelas intervenções na CRACOLÂNDIA !Esse é o desgoverno do Doria. Atropela Dória!!!.Já está mais que aprovado pela população, porque o Dória sempre foi transparente nas campanhas dizendo que iria fazer as privatizações/concessões. Foi eleito no primeiro turno, precisa perguntar pra população mais o que?Eu gostaria de trocar Doria çpor Crivella. Doria vem pro Rio e o Bispo vai pra São Paulo.Doria está certíssimo. Privatisar é um atributo de gestão e não de legislação. E de gestão Doria entende.Parabéns DóriaBoa Dória! Perfeito!Ciclista não respeitam as leis de trânsito, nunca esperam semáforos abrirem para eles, não respeitam os pedestres e andam igual loucos, isso quando não andam em carreatas e querem fechar a rua só para eles. Os motoristas podem sim ser responsáveis por muitos acidentes envolvendo ciclistas, mas a maioria dos acidentes e mortes são decorrentes da própria negligência dos ciclistas.parabens doriaParabéns Prefeito Dória, cada dia que passa estamos mais ORGULHOSOS do seu excelente trabalho a frente da nossa Capital, fazendo o que muitos outros não fizeram em décadas. Avante locomotiva, Avante Brasil !!DÓRIA em 5 meses . . Já fez muito mais que o TONTOnaro em 7 mandatos (28 anos de inutilidades). . . . DÓRIA PRESIDENTE 2018 à 2026 ..!!JOÃO DORIA PRESIDENTE 2018!!!!!DÓRIA PRESIDENTE 2018!!! Quem concorda dê um Like!BOA DÓRIAEu duvido, essa gente não paga agua e luz ou seja pode ate pagar uma taxa se é que paga, vcs acham que a metade vou chutar alto, sairia para um ap, onde ira pagar imposto agua luz, rsrsr vcs tão de brincadeira. Isso acontece em outras cidades e não deu certo, boa vontade não falta. Doria esta certoApoiado, Prefeito! É pra frente que se anda! Nada de piedade de criminosos, quem comete crimes, principalmente tráfico de drogas, deve ser severamente punido!QUEM DE SÃ CONSCIÊNCIA PODE SER CONTRA A REVITALIZAÇÃO DO CAMPOS ELÍSIOS? QUEM É A FAVOR AQUELE CAOS HUMANO E URBANO? OS VICIADOS ESTÃO DOENTES E NECESSITAM URGENTEMENTE SEREM INTERNADOS. O MOMENTO É AGORA NÃO PODE TER RECUO.FORÇA DORIATô de saco cheio deste \" politicamente correto \" imposto por esta esquerda caviar. Força Doria!!!!Parabéns Dorinha, voce é o cara mesmo. TEm iniciativa e faz o que tem que fazer. OS criticos sempre acham coisas em açoes que são feitas, só não faz em cima do que eles não fazem. Tem problemas de saude publica, tem sim, e voce sabe bem disso, porém tinha que dar um ponta pe. Agora veja se caça todos os traficantes.Mais importante que o montante enviado pelo governo federal será a correta aplicação desses recursos. A iniciativa promovida pelo prefeito paulistano, ainda que mereça críticas, é louvável, sobretudo pelo fato da Cracolândia ser um problema agudo da cidade. Mas, além disso, é indispensável que os usuários tenham tratamento e estejam em condições de recolocação no mercado de trabalho.Dória é o cara. O Brasil o espera..........MITO 2018.....MITO 2018...........MITO2018.............Lá na Indonésia ou nas Filipinas o governo resolve o problema com menos de MIL reais. Aqui gastam uma fortuna e tudo continua na mesma. Mito 2018!!!vejo os famosos intelectuais de esquerda que se contradizem. São a favor das drogas, porém ao mesmo tempo querem que cuidem delicadamente com o viciados em drogas. Em exemplo o crack que o viciado não tem mais controle sobre si. Mas os intelectuais pedem que o estado se comprometa a corrigir o problema. Esquerda adora atolar o estado de assistencialismo e tudo mais. O dia que caírem a ficha vão entender que estado grande é estado roubusto.o prefeito esta certissimo quando diz que um dependente não tem condições de decidir pelo tratamento . sou a favor da internação compulsória sim, e espero que ele fique firme nesse projeto e que ajude muitas pessoas naquele lugar.Muito sensacionalismo em volta de uma ação que pode gerar muitos frutos bons , salvando a vida das pessoas. Muitos criticando , mas poucos tiveram a coragem e iniciativa que ele esta tendo !perfeito, Doria 2018Dória meu prefeito, meu presidente.os esquerdinhas piram!DORIA PRESIDENTE 2018 !Finalmente São Paulo está mas mãos de um gestor profissional e competente. Agora sim, entramos no século XXI.O problema da crítica idiota é achar que Doria vai, em 4 meses resolver os problemas que jamais foram resolvidos pelos prefeitos anteriores. O cara está buscando soluções inovadoras, diferentemente dos outros que só arrumaram justificativas pra sua inoperância.o dória pelo menos está mostrando um pouco de trabalho, ja o pastor só falou em blindar escola... só está crentelhando até agoraBoa presidente 2018.Parabéns Meu Presidenteo cara quando é visionário tem sede de causar uma mudança.Doria enxerga São Paulo no patamar de Londres e Tokyo, parabens! Chega de pensar pequeno, pena que assimiu na criseos mortadelas piram estão acabando com os seus rebanhos.Parabens ao povo de são paulo, estão tendo a cidade que merecem. diferente de nos cearense fortaleza está tomada pela bandidagem, e dorgados.Dá-lhe Doria o meu prefeito... pra frente Doria...Doria, trate de deixar tudo encaminhado para que seu vice possa continuar com o cronograma de gestão, mostre a ele o caminho das pedras. Em 2018 é a vez do Brasil ser contemplado com sua Gestão.Quanta diferença ... O poste do molusco disse que iria ao \"trabalho\" de ônibus, A demagogia não durou uma semana.... O Dória, em 27 dias , sem gastar um centavo com PROPAGANDAS em JORNAIS, já fez o BR TODO saber sobre a campanha SP CIDADE LINDA (e limpa).. São INÚMERAS as calçadas sendo reformadas e muros sendo limpos sem o dinheiro da prefeitura.. Ponto tb para a solução dada para zerar a FILA de exames médicos, que atraiu até HOSPITAIS de ponta, e a prefeitura pagará apenas a miséria do valor que está na tabela do SUSÉ incrível a quantidade de pessoas criticando, cegos (pra não falar outra coisa), aceitem, o cara está trabalhando, está fazendo SP andar novamente, ptzada, não é possível que vcs sejam tão bur**s assim. A lavagem cerebral foi feita com excelência na cabecinha dos mortadelas... triste!Boa Dória, manda ver. Vamos reconstruir esta nação.Parabens Dória, exemplo de trabalhador aos poucos ele vai mudar a maior cidade do país.Uns podem dizer que é palhaçada, outros podem dizer que é marketing outros podem falar as asneiras que quiserem. Eu digo parabéns ao Doria e torço muito para a cidade de São Paulo.Eu quero esse Dória fora dá prefeitura , não dá , povo , abre os olhos , ele não pode ser prefeito , pelo amor de Deus , tirem ele de lá e o elejam presidente . DÓRIA URGENTE, TEM QUE SER PRESIDENTE .Muitas pessoas sendo atendidas, parabens pela coragem Doria! Quem passou quatro anos fingindo que nada acontecia enquanto o número de mulheres na cracolandia triplicava e o número de estupros subia exponencialmente não tem moral para criticar quem encara o problema de frente. Sem esconder nada, é assim que deve serG1 só esqueceu de mencionar que o Haddad não estava usando o dinheiro das multas para os devidos fins. estava usando para outros meios. mas o G1 tenta desqualificar tudo que o Dória faz ou diz. agora sim o dinheiro das multas vão para o Lugar certo. Parabéns Dória esta fazendo a coisa certa.Isso ai Doria,os acidentes só acontece por imprudência.Voce esta mais que certo.Doria ao meu ver parece ser alguém com jogo de cintura e vontade de fazer algo. Diferente da maioria que passou e só embolsou. Torcendo para que por trás disto os interesses sejam exclusivamente o benefício da sociedade. Sucesso na gestão.Dória, futuro Presidente do Brasil.Doria é o cara!!!!! parabens!!!Parabéns Dória.Dória Neles !!!!!!!Globelezas é bom vcs entenderem de vez que a maior parte dos cidadãos de bem da cidade de SP, apoiam as medidas tomada pelo prefeito João Dória, algumas atitudes podem não serem as ideais, mas o conjunto da obra foi benéfico, foi recuperada uma área que estava degredada e abandonada há muito tempo pelas autoridades. Seria bom os srs reverem as suas reportagens se é que querem, ainda , o apoio de SP.Parabéns Prefeito e GovernadorParabéns Dória!!!A pergunta que muitos não querem que eu faça: por que na Indonésia não tem cracolândia?PARABÉNS DORIA, vc orgulha sampa!!!!Porque o Haddad não ganhou dinovo mesmo ?Prefiro Doria com 50 promessas do que qualquer outro político com 1.000.000... Porque eu sei que o Doria cumpre as 50, enquanto os outros!!!O Dória é o prefeito que o Rio precisa !Crivella, o braço direito do Edir Macedo, em troca com o Dória. Isto é brincadeira, sou um milhão de vezes o Doria, do que este tal de Crivella.Parabéns prefeito Dória, quem dera se tivéssemos outros Dórias por aí. Próximo presidente do Brasil.DÓRIA = PRESIDENTE 2018 até 2026. . . !!!Enquanto Dória consegue doações para a prefeitura o Haddad só roubava o pouco que tinha.Me tornei fanzaco do Doria quando ele apresentava o Aprendiz. Meu presidente de 2018.DORIA PRESIDENTE 2018 PRA O BRASIL MUDAR REALMENTEGrande Dória. Parabéns pelo trabalhoO Dória pode transformar São Paulo na Suíça que nem assim esquerdista dá o braço a torcer...Quanto tempo existe essa cracolândia? quando um prefeito ou uma autoridade quer fazer alguma coisa para solucionar o problema, vem a Justiça e Barra, vem os direitos Humanos e Barra, vem uns Idiotas e fazem bagunça, manifestação contra acabar com a cracolândia, Dependentes químicos querem ser tratado por bem tem a possibilidade, não quer tem que ser internado a Força e acabar com essa palhaçada no maior estado do Pais, a maior economia do Brasil.A população é burra, são tudo \" do contra \", se Doria jogar água neles vão falar que sofreram abuso, e que foram estraçalhados e etcGostaria de entender de onde os comentaristas do G1 tiraram a ideia que todo ciclista é pethista????? Que pensamento curto!!!!! Sou ciclista, votei no Doria e tenho direito de pedalar em local seguro.olha a fitura \"PoHNHAREMOS\" mortadela pura da roçaDORIA É O MELHORParabéns ao prefeito pela bela atitude!melhor prefeit0 de SP!Grobo, exprica dereito pro povo..... os medicamentos ainda não chegaram por POBREMAS BURROCRÁTICOS dos laboratórios, e não por culpa do Dória!!!!!!!!!!!!!!O CANDIDATO A PRESIDENTE DO DEM, SERÁ JOÃO DÓRIA.o Doria trabalhou muito sim para ser um empresario de sucesso.Doria... vc esta sendo um bom prefeito, se esforçando para trabalhar e mostrar a esse Brasil de ignorantes e corruptos. Não merecia essa baixaria.... ainda não deu motivo para isso.Essa agressão da esquerdaIntolerante foi ótima propaganda para Doria, pois foi amplamente divulgada pela m1dia e agora não é mais um desconhecido no Nordeste.A mamata que me refiro é essa distribuição de recursos públicos à ONGs de esquerda, movimentos e ativismos sociais que desrespeitam a família, ao MST e sindicalistas que parasitas. Governo de esquerda sempre dá muita moral a essa gente, e isso não pode acontecer, eles que vão trabalhar de verdade.Privatiza tudo é acaba com cabide de emprego e greves e passe livre é o cacet3Grande matéria, onde fica claro o caráter legalista da atual gestão Dória, que só colocou em operação os drones homologados na ANATEL. Parabéns Prefeito! Continue assim!!Os mortadelas estão desesperados, Doria vai atropelar o PT em 2018.FINALMENTE TEMOS UM PREFEITO COMPROMETIDO COM A CIDADE. PARABÉNS PREFEITO.parabéns prefeitoparabens...mais uma melhoria....muito legal.Eh Dória, cheio de boa vontade e energia para trabalhar pelo melhor para São Paulo e seu povo, mas será que a truculenta oposição, o Ministério Público e a Justiça que por vezes parecem opositores da sociedade irão facilitar? Triste, São Paulo só não avança mais porque tem uns com os pés no passado!Parabéns à prefeitura. Mais uma ação eficiente desta administração. É isto que esperamos de um bom administrador.ótimo projeto!SOU A FAVOR DO TRABALHO QUE VEM SENDO FEITO PELO PREFEITO JOÃO DORIA. MAS ELE QUE É A FAVOR DAS PRIVATIZAÇÕES DOS PARQUES, QUEM VAI TOMAR CONTA DESTE PARQUE O PODER PÚBLICO OU A INICIATIVA PRIVADA.MEU DEUS!!!!! TEM GENTE AQUI DEFENDENDO CIRO GOMES E MALHANDO O DÓRIA?? POR ISSO QUE ESTE PAÍS NÃO AVANÇA MESMO, POR CAUSA DESSES SEM CÉREBROS. É DURO TER QUE CONVIVER COM IGNORANTES.Dória está correto, o MAIS IMPORTANTE é a economia do País. Avante Dória, AVANTE SÃO PAULO !Prefeito Dória a POPULAÇÃO DE BEM, está ao seu lado. Continue realizando seu trabalho e PODE PRIVATIZAR SIM, VOTAMOS NO SENHOR PARA ISSO MESMO !!Pelas bandeiras, fica claro que não passam de um monte de energúmenos bancados pelos partidos de esquerda, cadê a polícia para retirar esse esquerdopatas invasores?Grupo de mortadela desocupado.PARABENS POLÍCIA MILITAR , PARABENS DÓRIA .É isso ai Dória !!!! Rumo ao desenvolvimento .Parabéns ao prefeito D0ria... Aquelas pichac0es eram ridiculas e só causavam poluiçã0 visual e desgate na visual-arquitetônica da cidade, olha c0m0 o verde deu um \"quê\" de cidade-verde de primeiro mundo!Parabéns Prefeito Doria pela excelente gestão...doria está super correto, os estudantes só podem ter passagens gratis para estudar mesmo, eles querem ficar passeando durante o dia afff gentalha desocupada, e quanto a privatizar é otimo, pois os funcionarios publicos nunca trabalham, só querem saber de fazer greve, parabens ao sr doria, demita todos eles!Pichador é bandido, tem mais é que ser preso mesmo. Tinham que obrigar eles a indenizar a todos donos de imóveis que eles prejudicaram. Forçar eles a pagar pela restauração do lugar que estragaram, nem que tenham que vender o rim pra conseguir pagar. O mesmo pra quem rouba o alheio.Doria presidente 2018Uns gatos pingados contra a modernização das estruturas públicas. Querem continuar usando o serviço público como cabide de emprego, pois fazem corpo mole pra trabalhar e não seriam aceitos em nenhuma empresa privada. O servidor público honesto, que trabalha, rala, não está nessa ocupação fajuta de desesperados. Pessoas que atrasam o país. Aqui não é Venezuela! Tchaaaau, esquerda radical, vocês já eram.ESSE TRABALHA... E A PETRALHADA MORRE DE RAIVA... K ACELERA DÓRIA!Este sim é um prefeit0 que trabalha pra cidade... Aquele v.agabund0 daquele retarddad trabalhava para o pr0jet0 criminis0 de p0der, só saia do gabinete para ir em eventos da CUt, MST e P3T3JoãoDóriaPresidente2018Prefeito bom,pilantras pira, parabéns prefeito!Nosso futuro presidente!Dória vem pro RJ por favor..nos salveVITORIAAAAAA DORIAAAAAAAA !!!! PODEM JOGAAA OVO A VONTADE !!! BAIXARIA A VONTADE !!! DORIA CAMPEAO !!!!!!Doria é um empresário acostumado a trabalhar muito. Cumprir as exigências dele deve ser algo difícil, por isso alguns políticos tem pedido pra sair.Passe Livre é só para estudar, e pronto!!! Para vender, dar rolezinho, paga. E para trabalhar, use o Vale Transporte.Melhor prefeito da história de Sampaio. Da- lhe Dóriaas mortadelas piram.. vai doria.. acelera spQue desespero P.T.zada! Essa esquerda dá nojo. Câncer do país!Excelente prefeito. Passou pelo processo todo mesmo sendo uma pessoa extremamente ocupada. Se fosse outra pessoa em outros tempos, já teria dado seu jeitinho de não passar pelo processo. Exemplo!Parabéns Sr Prefeito! Os petralhas estao loucos da vida de inveja por muito que o Sr ja fez em tão pouco tempo...Parabéns prefeito, acredito no Sr. que será feito uma ótima gestão, só lembrando que tem muito a ser feito, a cracolândia, é um assunto bem complexo esperamos vencer essa guerra...DORIA ESTA CORRETO, AÉCIO PERDEU...FORA, AGORA É DORIA GOVERNADOR E ALCKMIN PRESIDENTEDória 2018!DÓRIA PRESIDENTE 2018 à 2026..!!O Doria está se lixando para a cidade. O que ele quer é proporcionar bons negócios par as empresas. Aliás, o que fez Doria ficar rico? Puxando o saco de empresas e fazendo bons negócios para elas.MELHOR PREFEITO!!!Parabéns DÓRIA. .!!. . . Colocou um especialista no assunto.. . inverso dos PTebas que, distribuíram cargos para semi alfabetizados. .!!Dória Presidente!Parabens ao prefeito de SP, pois é trabalhador...e da o exemplo que todos em um cargo elevado tem q fazer...so sairemos dessa crise trabalhando.Parabéns Dória, alguma coisa tinha que ser feita, a mobilidade urbana em SP está ficando insustentável com esses carros de transporte individual privado. Centenas e mais centenas, tomando vagas de zona azul, vagas de deficientes e idosos. Todo segmento tem que se submeter as leis e regras determinadas pela constituição.MITO!Avante Doria!Dória é o cara!Doria seria um otimo presidente do brasil !!!Governador nao. Presidente 2018CEO Dória,não faz demagogia,e sim marketing.De qualquer forma,só pela disposição que vem mostrando,faz uma administracão melhor que 99% dos prefeitos do país.Precisamos de você no Rio Dória! Pezão, Crivella, Gatorinho, Brizola, Freixo, nós não aguentamos mais!! Queremos gestores e não picaretas.Enquanto o Dória trabalha,o Crivela é só blá,blá, blá,................,e trabalho que é bom nada !Dória sim é prefeito de verdade. Engulam essa petralhas.Prefeito Joao !!! parabéns...tem padres ai enchendo o saco e eu pergunto : porque não puseram os dependentes do craque dentro das igrejas deles pra ajudar ?? manda o padre calar a boca....aproveita e diz pro governador que quem arregaça as mangas é o sr. e não ele....e também enquanto os cães ladram o sr. passa com a caravana.....MUITO BEMDoria 2018Parabéns Dória, estamos com você, TODAS AS PESSOAS DE BEM estão ao seu lado. Estamos ORGULHOSOS PELA OPERAÇÃO !!Parabéns ao prefeito Doria! Esse sim tem vontade de fazer por SP! Já qro para presidente!!!!!Parabéns Dória, sua aprovação é de 75% ao contrário do que diz a manchete global anti SP. Tenho orgulho de ter votado em você, juntamente com toda minha família. Continue assim, São Paulo acima de TUDO !João Dória 2018! Acredito que ele tem capacidade e experiência pra resgatar a economia desse paísPrefeito perfeito. Conte com meu voto para Presidente em 2018.Avante Doria! O único que entende de economia dentre os provaveis candidatos em 2018É DORIA PRESIDENTE!!!!!!Mortandela é tão ignorante que não têm a capacidade de pesquisar sobre os nazistas e ver que eles eram do Partido dos Trabalhadores.Força Dória, a população de BEM está ao seu lado. Avante São Paulo !!Isso Dória, recupere o espírito bandeirante, apesar dos intrusos em meu EstadoMarketing ou não ele trabalha, ao contrário do antecessor.Doria é o cara!Mano, esse Dória é ZIKAFinalmente um Estadista, parcerias com o Mundo tdo ,nao com Venezuela e Bolivia q nao tem nada a agregar.Doria e realmente acelerado o cara nao para.DORIA PARA PRESIDENTE ...DORIA JA FEZ MAIS QUE O RADDARD EM 4 ANOSDória Presidente seria bom demais.Muito bem meu presidente!Boa Presidente!!! Doria 2018.Excelente gestor.Doria 2018.Doria não é político é empresario, outra cabeça...Parabéns.João Dória é a pessoa certa no lugar certo. Melhor gestor público dos últimos tempos. Tomara que venha ser nosso presidente em 2018.Avante Doria! Não esmoreça!ESQUERDOPATAS DEVIDAMENTE DESPACHADOS PRA SEMPREEEEEE !!!! NUNCA MAIS !!!! FALIDOOOOOOOS !!! PATO MARAVILHAAAAAAAAAAAA !!!!Parabéns futuro presidenteDoria...se esses caras tivessem feito a coisa certa eles estariam ai no teu lugar........esquece esses idiotas.Prefeito, ao contrario do que dizem, a maioria da opinião pública esta contigo, é só ver os comentários nos jornais. Não afrouxe, continue firme para o bem dos cidadãos e a preservação do direito de ir e vir.Força prefeito! As pessoas de bem e que trabalham estão com vc nessa! Deixa esses estudantes de Ciências Sociais espernearem com as suas baboseiras filosóficas. Eles não passarão!só existe trafico por que tem consumidor. Nem nas Filipinas onde ha pena de morte para traficante conseguiram acabar com o trafico. Total apoio ao Doria!!!! Faz... não fica na janela tacando pedra.\"go ahead\" Doria apesar dos esquerdopatas e da tv bozo, que não se cansa de veicular reportagens desqualificando a ação da prefeitura de SP.Força Dória e Geraldinho. As pessoas de bem estão apoiando o trabalho contra as drogas. Pela sua história, São Paulo não merece rotulo de cracolandia em sua regiãoE agora que o Alckmin está para ser investigado no STJ, só Dória para nos salvar da praga esquerdopata.Dória revolucionando o modelo de gestão pública. Parabéns ao prefeito de Sampa. Esperança que um dia esse modelo de \"não política\" onde o foco deve ser gestão seja levado a todas as prefeituras do país. Força e determinação aos paulistanos.É dória 2018!CompetênciaPrefeito TRABALHADOR incansável ... Já a pelegada do PETÊ, grevistas que fecharam ruas, causaram badernas estapearam pessoas, tocaram fogo em ônibus, não passam de PELEGOS do PETÊDalhe Doria! Fazendo valer os votos que ganhou, parabens!Dória é um ótimo exemplo para nossos jovens, sim. Pra começar, não tem esse seu discurso esquerdista falido e ultrapassado.TA CERTO DORIA, ESSA GREVE É POLÍTICA, ESSES SINDICALISTA NÃO TRABALHAM E QUEREM GANHAR NO MOLE.......TA CERTO.......VAMOS ACABAR ESSES SINDICATOS PARAZITAS............Privatiza que São Paulo decolaParabéns. Que satisfação em ver monumentos belíssimos, que pertencem a todos, que estão lá gratuitamente, serem restaurados no seu esplendor para serem admirados. Chega de pobreza de espírito.Parabéns, Dória, e parabéns às empresas cidadãs Dell, HP, Lenovo e Positivo que doaram 750 computadores, 110 impressoras a laser, e à Huawei, que irá fornecer equipamentos de rede e conectividade.Nem na privada dos comunistas petebas ladrões que querem tudo sob seu controle pra roubar mais sem trabalho nem suor nem merecimento, ou seja, o sonho de todo comunista da eliteDois meses na prefeitura e ja fez mais que a ralezada em 13 anosTem o meu voto para Presidente da Republica. Pena que não é prefeito do RJ.Fake news detected!!!! Essas estatisticas da globo são feitas com base no coração dos jornalistas esquerdosos e incompetentes...PRIVATIZA!!! PRIVATIZA!!! PRIVATIZA!!! PRIVATIZA!!! PRIVATIZA!!! PRIVATIZA!!! PRIVATIZA!!! PRIVATIZA!!! PRIVATIZA!!! PRIVATIZA!!! PRIVATIZA!!! PRIVATIZA!!! PRIVATIZA!!! PRIVATIZA!!! PRIVATIZA!!! PRIVATIZA!!! PRIVATIZA!!! PRIVATIZA!!!Parabéns DóriaEspero que o Doria consiga mudar essa situação. Se vai dar certo ou não, mais tarde veremos. Ao menos, ele está tentando fazer o que ninguém nunca se mobilizou para fazer.O prefeito está certo, mais a justiça tambem tem que ser rigida e não boazinha usuários e traficantes.Se você é contra a ação do Dória: Adote um usuário de droga da cracolândia, dê a ele moradia, saúde, educação, tratamento contra as drogas e empregoesse doria e arretado mesmo parabéns tem que arrumar trabalho para este povo\n"
     ]
    }
   ],
   "source": [
    "print palavras_eleitores_doria"
   ]
  },
  {
   "cell_type": "code",
   "execution_count": 44,
   "metadata": {
    "collapsed": true
   },
   "outputs": [],
   "source": [
    "palavras_nao_eleitores_doria = [comentario for comentario, classe in comentario_classe_treino\n",
    "                           if classe == 0]\n",
    "\n",
    "palavras_nao_eleitores_doria += [comentario for comentario, classe in comentario_classe_teste\n",
    "                           if classe == 0]\n",
    "\n",
    "palavras_nao_eleitores_doria = ''.join(palavras_nao_eleitores_doria)"
   ]
  },
  {
   "cell_type": "code",
   "execution_count": 45,
   "metadata": {
    "collapsed": false
   },
   "outputs": [
    {
     "name": "stdout",
     "output_type": "stream",
     "text": [
      "Os mesmos de novo, com uma nova cara. Do jeito que a população são fáceis de serem manipuladas, tá arriscado mesmo esse politiquinho de pulôver ser eleito presidente.Doria nada mais é do que um cavalo de troia para pegar o voto dos desavisados e manter os corrompidos no poder! Eu não entro nessa arapuca não! Sou B0LS0NAR02018!ESSE IDIOTA DESSE CORREIA...DEVERIA TER VERGONHA NA CARA...EM VEZ DE PROMOVER ALGUEM..QUE NADA FEZ PELO BRASIL ATE AGORA..PRINCIPALMENTE POR SAO PAULO...QUE JOGADO AS MINGUAS..É muito sem sentido esses títulos de cidadania pra quem nunca fez nada pela região. O que esse cara fez por Minas ou pela Bahia onde levou aquelas ovadas....Apenas promoção pessoal, campanha política descarada. Vergonha!Esse play mal esquentou a cadeira de prefeito foi picado pela mosca azul e já sonha com o planalto, quer ser o novo Emmanuel Macron das Américas.....É muita pretensão!Qualquer cidadão mineiro trabalhador e pagador de impostos merece mais esse prêmio do que ele.Concordo! Manda esse politico Zé Ruela catar coquinhos!O Que diacho que esse homem fez aqui pelo Tocantins para ganhar também isso? \"não fez nada para o Tocantins \". Vergonha dessas políticaOs coxinhas esqueceram do Aécio do pó? Agora o enganador de trouxas é o Dória? Não aprendem nunca, meu Deus!Essa ovada foi épica. Deixem suas risadas kkkkkkkkkkkkkkkkkkkkkkkkkkkkkkkkkkkkkkRidículo mesmo é o cinismo da direita. E vem mais ovo podre por aí! Aguardem.O que o DÓRIA faz ou fez pela Bahia para receber honrarias... EU RESPONDO: NADA, o mesmo que todo TUCANO faz pelo nordeste, algo admitido até por FHC em 2014 KKKKKKKKKKKKKKKKKKKKKKKKK Não é atoa que já tomaram 4 SURRAS SEGUIDAS pra ESTRELA VERMELHA e rumo a quinta em 2018... É c0m0 dizem o ditado: \"Por mais alto que um TUCANO voe, nunca alcançará a ESTRELA VERMELHA\".FALAM TANTO QUE OS NORDESTINOS NÃO SABEM VOTAR, MAS EU PERGUNTO: QUAL A QUADRILHA QUE GOVERNA HÁ MAIS DE 20 ANOS O ESTADO DE SÃO PAULO?Será que a gente conta pro Fabrício que se SP é grande, dependeu e muito do trabalho dos nordestinos?Ia falta mão de obra, pq em São Paulo só tem preguiçoso. Quem trabalha de verdade nessa cidade são os nordestinos. O que mais tem por aí é ladrão e sacizeiro!o doria/temer/psdb estao enfiando o cabo da panela que voce bateu noteuorificioanal de burroadestrado pela globoboQuem vota bem é paulista né? Vemos aí, trensalão, merendas, Alckimin, Maluf, Quércia, Serra... Só gente honesta... E agora esse almofadinha desse Dória... Mongo.lóideAchei justo: vocês bateram panela, mas faltavam os ovos!Jonas, acho que o chico buarque , o caetano estão errados né... quem tá certo é o alexandre frota kkk que nível o seu heim!?Ele foi literalmente \" OVAcionado \" kkkkkkkkkkkkkkkkkkkkkkkkkkkkkkkkDEMAGOGO IGUAL A TODOS OS POLÍTICOS.Ainda tem um resto de mortadela por aí.Parabéns aos baianos. Que o Brasil tome semelhante atitude com políticos - sem exceção.Dória, na verdade, foi \"atingido\" por centenas de ovos!!! Embora apenas um, que se saiba, tenha sujado a sua cabeça engomadinha. Toda a chuva do produto granjeiro era dirigida a ele, o engomadinho de SP!!! Belíssima recepção, senhores soteropolitanos!!!!GOLPISTAS, FASCISTAS... NÃO PASSARÃO.O doria junto com o temer/psdb estão enfiando o cabo da panela que vcs bateram no teus orificiosanais e vcs ainda estão de 4 para eles ahahahaQuanto mais nega mais evidente fica que ele sairá candidato ao planalto!Coisa linda!! Podia fazer em outros lugares também.e tem 4 lambendo o pelo do prefeito, misericórdiaEsses burgueses fedem mais que seus cachorros.O pré candidato a deputado federal por SP,sergiodosmunicipios/se partido sabe que a confecção de camisetas idiotas em todos os eventos tem custo aos cofres públicos.... Ao invés de usar bune e camizebra com dinheiro dos impostos municipais,compre remédios para o ps municipal..... O sergiodosmunicipios diz: parece que não seio......Ajude um ser humano.Troque seu cachorro por uma criança pobre, burguesia hipócrita.Ah, hoje o Doria tava de folga da campanha? Só que em vez de trabalhar, e principalmente explicar porque retirou dinheiro do transporte público ele levou a cadela para vacinar. Amanhã ele já tá viajando de novo. E os semáforos continuam desligados. Esse Doria é uma fraude. Doria, o pior prefeito da historia de SP.Vejo muitos ignorantes defendendo as privatizações. Até entendo quando um rico defende, afinal ele pode tentar entrar no negócio pra ganhar dinheiro. Mas pobre? No quê a privatização é boa. Nossa telefonia é privatizada e é a mais cara do mundo.O nóia vende tudo que tem em casa pra comprar drogas, os Noião vendem o estado pra financiar suas campanhas políticasContinuo considerando que governo, executivo e legislativo, não tem delegação para governar para além dos 4 anos previstos. As atitudes que não permitissem alteração por parte de seu(s) sucessor(es) somente poderiam ser tomadas após consulta popular...Privatização,políticos brasileiros odeia privatizar,porque vai fechar uma porta para cabide de emprego,nepotismo,corrupção,resumindo menos uma porta de entrada para desviar dinheiro do povo.Dorian é igual aquela música... Mentes tão bem que parece verdade como você me fala estou acreditando mentes tão bem...Tem que aumentar mesmo, mta gente comprando imóveis, se tem grana para imóveis, tem grana para os impostos, menti? Não!O tal gestorzinho tem uma lábia,rrss...Gestor bom não penaliza com aumento de impostos Senhor Dória !Bem feito...adoro ver c o x i n h a s pobres de direita tendo que engolir em seco de tanta vergonha de ter votado no prefake.SP merece Doria.Imagina essa figura na presidencia do país. Com dinheiro todo mundo é administrador.merecem Fernando, eram o que queriam, cada vez que um senta naquela cadeira elétrica da prefeitura tem um efeito estufa de em encher o bolsoEm São Paulo o aumento foi mais justo do que o adotado pelo prefeito da Universal $$ ( Rio de Janeiro ), reajustado de forma absurda. .Caramba o sonegador de IPTU querendo aumentar o IPTU, ele não é gestor, é político!!O IPTU já está alto demais, e ainda vão subir mais? Para fechar as contas, tem que fechar a boca dos políticos que enriquecem as custas do povo brasileiro. Vejam esse Dória; com 26 anos era presidente da Embratur (QIndicação hem!) , 180 milhões acumulados com apenas 59 anos! Filho de político!O Doria já pagou o IPTU que ele devia há 15 anos?É o Prefake que nos votamos. Mais uma vez, erramos.Prefake! É o que temos.Não se enganem com esse sujeito se um dia ele for presidente será duas vezes pior que o Collor, essa simpatia forçada que ele fez na TV não vai enganar ninguém, cuidado povo!!!Não se enganem com esse sujeito de um dia ele for presidente será duas vezes pior que o Collor, essa simpatia forçada que ele fez na TV não vai enganar ninguém, cuidado povo!!!E como aparecem pessoas que querem esse tipo de gente para governar. Os emboabas não aprendem nunca.Na verdade são dois conversa fiada dois oba oba são paulo não tem segurança de forma alguma. A cracolandia se multiplicou depois daquela palhaçada feita pelos dois incompetentes, são paulo não merece esses velhacos no comando, temos que escolher uma pessoa verdadeira .Alckmin tem que entender que o povo de SP não gosta dele, foi frouxo com o crime organizado que manda no estado e até se expandiu e não terminou nenhuma das linha de metro em 16 anos de mandatos como Governador. Como disse a única coisa que ele expandiu foi o PCC.só temos que lamentar que no lugar do ovo nao jogaram uma granada neleQuando esta quadrilha se une pra conspirar é sinal que o brasileiro vai sair perdendo feio, tenho pena deste povo, ou naoDoria se fosse um personagem bíblico seria JUDAS...maria eduarda as crianças das crexe de sao paulo ta tudo sem alimentação pois estao fazendo rodisel pq prefeitura ta cortando tudo e vc da parabens para essa gestao do dória que nao sabe administrar sao paulo vc e igual a elegrande decepcao com joao doria.parece que eh so mais um politico brasileiro.menos uma esperanca para 2018.A lei determina que transporte e alimentação e transporte de escolares sejam fornecidos pelo \"Estado\", tem que desenhar. Cumpra-se a lei ignóbios.Pobre que votou neste prefeito nazista tem mais é que ter os seus filhos marcados mesmo. Daqui a pouco ele vai botar a estrela no peito dos seus filhos.e ainda querem esse miserável como presidente da republica...ja imaginou...o que pode fazer com os pobres...?Willian, vc já paga. E irá pagar mesmo que não tenha lanche, almoço, etc. Vc já paga, entendeu??? Não irá deixar de pagar se as crianças ficarem sem comida nas escolas. Acorda e vê se estuda também, pois está precisando. Ah, e quando chegar na escola, deixe a comida para quem precisa.Willian, e quanto ao lanche que os vereadores tem que no ano da mais de $700mil, não vi nenhum comentario seu de desaprovação???vi varios comentarios referente a que os pais devem cuidar dos filhos, tbm concordo, mais educação publica e todos os seus meios não são de graça E PAGA POR CONTA DOS IMPOSTOS QUE PAGAMOS, então o poder publico tem o dever de oferecer isso e muito mais.Na verdade é para sobrar mais merenda para o psdb furtar......cade a CPI da merenda mesmo?Aparecida Leite, faça um favor para todos e DesApareça com seus comentários facistasNão, não está bom. Impedir uma criança de saciar sua fome atrapalha o processo pedagógico, além de ser uma atitude desumana. Entendeu ou precisa que se desenhe?Me admira uma mulher, como a Rosana Ares, escrever um absurdo desses. Aposto que ela nunca teve fome ou teve qualquer dificuldade na vida. Falar (escrever) é fácil quando se tem um teto, geladeira abastecida e um papai que ajudou tanto em sua juventude.Talvez vc não tenha percebido, mas o país está em crise e tem um alto grau de desemprego. Vc também não deve ter percebido, mas quem frequenta escolas municipais são crianças cujos pais não podem pagar mensalidades de escolas particulares. Então, se a pessoa é pobre e está desempregada ela precisa do auxílio do Estado e é pra isso que pago meus impostos. Vc entendeu ou quer que desenhe?Perfeito, Carlos Macario. O país é um todo e não apenas os mais favorecidos. Para isso servem os impostos, para acabar com as desigualdades e dar futuro aqueles que não tem oportunidades.Isso que dá colocar um empresário insensível na Prefeitura. Para Doria, a merenda é um custo qualquer. Ele não tem sensibilidade para entender que a crise é muito pior com os pobres e que uma criança com fome fica com dificuldades de aprendizado. Ao final do ano, Doria ainda vai se orgulhar do tanto que 'economizou' na merenda, deixando as crianças com fome. Doria odeia os pobres e fará de tudo para reduzir benefícios sociais.Quem é cidadão tem o direito de reclamar, só não reclama quem é boi indo para o abate. Eu pago todos os impostos e exijo que a Prefeitura pare com essa palhaçada de deixar crianças com fomeEsse é o retrato da gestão Doria: para as empresas ele perdoa dívidas e oferece negócios lucrativos, para os pobres ele não deixa nem repetir a merenda. Não bastasse ter cortado a distribuição de leite para crianças com mais de 7 anos e ter acabado com o passe livre dos estudantes, o que os impede de frequentar museus e centros culturais, Doria não deixa nem repetir a merenda. Alguém acha que ele impediria seu filho de repetir merenda? Não, ele só faz isso com os pobres.momento economico? Mais não para a prefeitura, vc viu a reportagem da camara dos vereadores aqui da capital que gasta $700mil com lanchinhos?Isso e para para quem defende esse MARKETEIRO, o cara ja retirou o leite, o transporte gratuito para quem mora longe e agora isso, ate o fim do mandato vai ter muito mais, isso e se ele não abandonar a prefeitura para concorrer a presidente. Olha ai o \"João trabalhador\", piada!A IMBECILIDADE, ARROGÂNCIA E INCOMPETÊNCIA deste sujeito são iguais a de seu Chefe. Imaginem um destes dois l i x o s como Presidente....lamentável...2018 será um ano duro....Aqui em São Paulo, o que vale é a voz do prefeito e seus secretários. A voz do pobre, que utiliza os serviços públicos, não tem direito a voz, somente direito ao voto. E a memoria do paulistano não dura dois anos, já já eles esquecem, que um dia foram marcados. Obrigado globo, por poder comentar.O SECRETARIO DE DORIA É UM INSANO;;PROIBIR AS CRIANÇAS DE REPETIR A MERENDA ESCOLAR;; ISTO SE DA PORQUE ELE DEVE RECEBER PROPINA PARA ENRIQUECER ILICITAMENTE;;É A MAIOR VERGONHA DESSE GOVERNO PAULISTA;; ESSE SECRETARIO DEVERIA VISITAR UM SANATÓRIO PARA QUE ELE SEJA HUM MUMANO POIS NO MOMENTO NOS PARECE QUE ELE É UM ANIMAL PRE HISTORICO É A MAIOR VERGONHA DESSE SECRETARIO DE DORIA E DELE MESMOEstado tem que dar instrução. Educação e alimentação são OBRIGAÇÃO DOS PAISEsse é o perfeito retrato da gestão Doria. Enquanto ele perdoa dívidas de empresas e oferece negócios lucrativos, como trocar um terreno de 300 milhões por um de 100 milhões (Parque Augusta), os pobres sofrem a fúria de sua tesoura. Já cortou a distribuição de leite e agora impede que as crianças repitam merenda, coisa que ninguém em sã consciência jamais faria a uma criança. Doria, o pior prefeito da historia de SPE o ataque aos pobres não fica nisso. Doria aumentou o valor das integrações, impactando os mais pobres que moram na periferia. E cortou o passe livre dos estudantes, o que impede que eles possam frequentar museus ou bibliotecas, impedindo assim que completem seu processo educacional. Doria odeia os pobres e é importante que as pessoas lembrem disso na eleição.Antiga estratégia tucana, abandona, sucateia, diz que se privatizar vai melhorar, se isenta de responsabilidade, privatiza \"pros brother\" a preço de banana, e no fim o serviço continua o mesmo, sem concorrência e sem ter pra quem reclamar.O prefake vive viajando achando que consegue enganar eleitores Brasil a fora , o cara vive viajando ao invés de cuidar da cidade , por isso foi eleito , o bEle esta louco para concorrer a presidência da republica.O Dória é prefeito ou comissário de bordo ? Só viaja......Em nosso país, há um briga sangrenta pelo poder. Quando eleitos, privatizam TUDO, com a mesma desculpa: VAI MELHORAR. De fato melhora, a conta bancária destes, que recebem PROPINAS dessas empresas para tal AÇÃO CRIMINOSA. Se privatizar resolvesse. Não teriam tantos patrimônios PÚBLICOS mal administrados, e que ROUBAM a população. Isso é uma CANALHICE desse Dória...Doria é um exemplo de mal gestor que só sabe fazer market, trabalho que é bom nada!Engraçado que o Doria começou acelerado, desacelerou e agora está parado para a cidade, mas continua em movimento para candidatura à presidência, para completar o seleto grupo de lixos para 2018!A gestão Dória está o caos, pois ele está mais preocupado em fazer publicidade de si do que trabalhar em pró da sociedade paulistana. Entregar os parques municipais a entidades será um péssimo negócio a conta virá nos futuros governos o João trabalhador está perdido é uma cópia mal feita do Alckmin.Esse prefake eh uma piada, mas os c o x i n h a s merecem...O Haddad tinha deixado a cidade arrumadinha, ai vem esse Dória e acaba com tudo.Doria agora está se revelando. Tentou nos enganar com aquele papo de gestor, mas na máscara caiu. Se transformou num político igualzinho aos outros ao fazer acordos com partidos de aluguel para obter seu apoio.Esse é o discurso da incompetência, privatização! Sempre por a culpa na gestão precedente. TEMER e DORIA são exemplos de má gestão e corrupção.Lógico, o prefeito Chacrinha não para em São Paulo, além do mais o dono da empresa que está loteando São Paulo. SEM LICITAÇÃO , é do sócio dele na Lide...Esse almofadinha, falso, cínico e sem vergonha nunca me enganouEnquanto isso os semáforos da cidade tudo apagadoTantos ladrões, todos os dias vemos. E ainda tem Idiota que levanta bandeira. Seja Haddad ou Doria, objetivo de ambos e SURRUPIAR dinheiro públicoDORIA COMUNISTA disfarçadoMeu Deus esse dória socialista, marketero, maçon, amiguinho de corruptos vai enganar o gado de novo???? alckmin outro sujo, fhc socialista amiguinho PT, conveniente com foro de SP, ele sabia de tudo e aprovava tudo, anda o mundo agora defendendo agenda globalista e esquerdopata como a apologia a maconha, lixaoSou contra o Dória.PRA QUE PERDER TEMPO....NENHUM DESSES PARTIDOS QUE APOIAM O VAMPIRO E VOTAM A FAVOR DE REFORMAS CONTRA O POVO, PRINCIPALMENTE DA PREVIDÊNCIA, NÃO CHEGAM NO SEGUNDO TURNO. QUEM VIVER VERÁ!AS PESSOAS DE SP GOSTAM DE PROPAGANDA, DEIXEM COLOCAREM ESSAS PROPAGANDAS NO PARQUE, QUE MAL TEM, É QUE NEM O DÓRIA SÓ PROPAGANDA.Doria nem para síndico e o hadad nem para fiscal de latrina de pé sujo...Acho o Doria um grande playboy e hipocrita!Esse Dória e Farinha do mesmo saco do Temer; José Serra; FHC; Aécio Neves e cia. Todos Saltearam e estão Salteando o Brasil. Infelizmente o Brasil está nas mãos desses salteadores que Roubam os direitos do Povo. 2.018 está bem aí, para fazermos uma varredura desses corruptos. Cambada de ........adivinhe oque eles São?.....É verdade que o prefeito de SP se licenciou até março e está rodando o país fazendo campanha? Não foi eleito pra cuidar da cidade esse hipócrita?Como se o PSDB tem muita ética e honestidade....faça o favor Doria....procura o caminhão que vc caiu ...pq vc está no mínimo fora de sintonia.....DORIA FORA V Ç NAO VAI SER PREFEITO DA CIDADE S P V Ç NUCA VAI SER PREFEITO DE S P JA BATA DOS POLITICOS DE COLARINHO ALMOFADINHA FORA FORA FORA FORRRRRRRRRRRRRRRRRRRRRRRRRMuitos aqui não conseguem entender que estudante não vai só da escola para casa. O processo de aprendizado inclui que o estudante frequente centros culturais, bibliotecas, quadras esportivas, cinemas e outros eventos. É isso que os estudantes das boas escolas fazem e agora Doria impede que os estudantes pobres possam fazer o mesmo. Isso não é gestão. Isso é prejudicar os estudantes e o futuro da nação.Prefeito inútil.Governo voltado para os pobres sempre é o de esquerda. Governo de centro-direita é voltado para aumentar o lucro dos empresários. Foi o que fez FHC, é o que vai fazer Dória e a desigualdade social vai disparar ainda mais.Demagogo, isso porque disse que não é politico, é gestor, e começou com um gesto hipócrita desse, imagina se fosse politico.Dinheiro de salario é troco de pinga pra ele. Está pensando é nas propinas que vai receber e nas empresas que ele vai abrir para \"prestar\" serviço pra SP. Já não disse que vai terceirizar tudo? É ele quem vai ganhar com isso, assim pensa um gestor, um empresario EM LUCRO, LUCRO E LUCRO.Dória já perdeu faz tempo. Me arrependo de votado nele.ESSE PREFEITO TEM QUE HONRAR O SEU COMPROMISSO COM SÂO PAULO.E PARAR DE FAZER MARKETING . TEM QUE PARAR DE FAZER BRINCADEIRA COM POLITICA E COMEÇAR A TRABALHAR PARA HONRAR O ELEITOR PAULISTANOPelo que percebemos Doria sempre fala uma coisa e pensa outra, e desde o começo do ano tem feito de tudo para ser candidato do PSDB.É um traídor, um urubu, é aquele que da o tapa e esconde amão.Um homem perigoso.Queria entender quais são os critérios do povo pra achar que o Doria está fazendo um bom governo. Não há uma grande obra, São Paulo está completamente abandonada. O prefeito só vive de marketing e de viagens. Intenção clara de se candidatar a presidente. Na cara dura furando o olho do padrinho político. Se isso não é traição não sei o que mais é.É um Trump nutella.Não entro na do Doria, ele me lembra o 'caçador de marajás'. Votei e dançei!!Doria não sabe e nem vai saber responder essas perguntas. Vai fazer a pior gestão da história em SPVotei no Dória, mas me arrependi. Prefiro o Alckmin.O Doria reduziu a verba da GCM e pra disfarçar mudou o nome. De Guarda Civil Municipal virou Polícia Municipal. Bonito, né? Só que com 16% a menos de verba. Esse é o Doria, que passa a semana viajando e só aparece em feriado em SP. Doria, o pior prefeito da história de SPUé, só no feriado pro Doria aparecer em SP. Ele só aparece pra curtir a cidade quando ela tá vazia. Doria é um omisso e demagogo. Doria, o pior prefeito da história de SPNa política temos um circo tb...um palhaço profissional(Tiririca) e um palhaço amador(Dória)acho que o Doria acaba de assinar o atestado de incompetência. Que ele não tinha plano de governo , tudo mundo sabe, agora formar um conselho de ex-Prefeitos , aí covardia , não sabe o que fazer na Prefeitura, é simples, Renuncie !COXINHAS.................kkkkkkkkkkk. O PREFEITINHO PATRICINHO NÃO SÃO SABE O QUE FAZER COM O BRINQUEDINHO QUE GANHOU DO GADO!!!...........kkkkkkkkk. SÓ ESPERO QUE ELE NÃO LEVE O REBANHO PRA RIBANCEIRA!!!.............hehehe.PreFake!Primeiramente, FORATEMER, segundamente, FORADORIA (sp não será cinza, ACRACORESISTE). Está há 400 metros mas em breve voltará ao lugar que nunca deveria ter saído, a alameda Helvetia e a rua Dino Bueno. A CRACO é um patrimônio cultural de São Paulo e a resistência vai continuar existindo. Já não bastasse as paredes pintadas de cinza e privataria, agora mais essa? Sugiro que sigam no Face a página ACRACORESISTE, verão que a Craco tem gente muito boa, dentista, médico, ator, artista, músico e intelectuais. E mesmo que fossem favelados, são HUMANOS!!!João Dória é uma piada, fiasco total, paulistanos estavam embriagados quando elegeram esse senhor, só podeLeonal para onde as pessoas irão? Para sua casa? O problema é mais complex do que uma ação de marketing do PreFake!doria em apenas oito meses demonstrou o que é marqueteiro, mentiroso, traidor, tanto falou em novo e é a escória do velho.Esses GOVERNANTES de SP, estão atolados até o pescoço. Dória prometeu TUDO, não cumpriu NADA! Os bailes funks continuam, postos de saúde sem medicamentos e médicos. Estranhamente uma empresa com uma dívída GIGANTE no RJ, foi contratada para GERIR serviços em postos de saúde da zona norte de SP.Concordo plenamente Luzangels. O prefake não entende de política e vê-se que não entende tanto assim de \"Jestão\". É somente um marqueteiro que até agora não fez absolutamente nada! Nem a fila da saúde, que diz ter zerado, ainda não zerou! Loser!FORA DORIA SAO PAULO NAO PRECISA DE VOCE AONDE JA SE VIU ESSA MALDADE COM OS JOVENSSe depender de mim não vai ser presidente.Votei no Dória, mas agora não vejo diferença entre ele e o Malddad.Ao contrário desse pensamento intoxicado e não-pensante que você tem, não tenho nada contra os homens ricos, nem mesmo contra aqueles que herdaram que muitas vezes são mais honestos do que os que \"começaram do zero\"... Mas que façam dinheiro com seu empreendedorismo e não com a necessidade das pessoas, comprando algo que já está contruído com dinheiro dos nossos impostos.. Se for seguir os rumos do Alckmin, o Dória será somente mais um incompetente e corrupto com o lindo discurso do \"empreenderismo\"..Esse Dória é um dos prefeitos mais populistas que a capital já viu. Ele faz tudo sem planejar, apenas buscando aprovação do povo. Daí na próxima gestão, quem entrar no lugar vai se deparar com um caos absoluto, causado por um \"gestor\" que não faz planejamento algum.Só fazer não é o bastante, fazer mal feito e fazer para aparecer menos ainda. E quando a ação incorre em crueldades e irresponsabilidade menos ainda! O pior sujeito é o ignorante com iniciativa !Essa doriana e sua antourage de idiotas.Dória é seu político de estimação?O SALVADOR DA PÁTRIA QUER DÁ UMA DE DEUS AGORA, VAI AFUNDAR IGUAL AO TEMEROSO. TUA BARCA TA AFUNDANDO DORINHABoa! A sociedade tem que mostrar pra esse Doriana que ele não manda em tudo e em todos em SP, não. Se nenhum médico aceitar fazer esse papelão o programa eugenista dele vai pro saco. E é assim que tem que ser.\"A solução é alugar o Brasil\" no caso do Prefake, é vender tudo mesmo! Acho que ele só não vende a mãe, porque ninguém vai dar lance.Depois do Datafolha o prefeito Chacrinha perdeu a noção de vez....o PlayDoria vai aparecer vestido de motorista do uber pra levar todo mundo para \"little seoul\"Vai acreditando em papai Doria Noel!Definitivamente,paulista não sabe votar,foi o Dória,Maluf,Tiririca,Marta Suplicy,Paulinho da força,etc..........!Fora TemerEsse gordinho piylhan,tra tá doido pra ser presidente da República nem que seja por 1 mês !Doria não tem difernça de Trump.nos statesDória dizendo que Temer está indo muito bem. Precisa dizer mais alguma coisa? Por Dória era melhor voltarmos logo pra senzala, aliás com a terceirização já estamos a meio do caminho...A tucanolandia e uma maravilha , elegem e reelegem tucanos a décadas e entregam estações sempre em véspera de eleições kkkkkkkk a tal Odebrecht tem centenas de obras em São Paulo a décadas , mais como os tucanos são uns amores de pessoas em São Paulo não tem corrupção kkkkkkkkCidade linda é cidade cinza? São Paulo já tem o céu cinza, o chão cinza e agora os muros das vias também? Acredito que na casa desse Dória as paredes devem ser cheias de obras de arte. Duvido que é tudo cinza.Briginha do Doria autoritário vai e gasta dinheiro atoa em inicio de gestão pra pintar uma parede que sabemos que em um mes estará toda pinchada por vandalos, mais ele vem mostrar pra que veio, beneficiar a elite e suas ideias autoritarias.Nestes Carnaval o que sobra para Dória são vaias.... Os paulistanos não querem na prefeitura um Jânio Quadros fake, só que ainda mais autoritário, populista e sem noção do ridículo... Dória, o político demagogo e almofadinha que o vice presidente nacional do PSDB, desde antes das eleições municipais já alertava que é \"uma farsa em todos os sentidos\", deveria ter ficado esperto após o recado que lhe foi enviado no sábado passado pelo bloco Acadêmicos do Baixo Augusta, que contou com mais de 350 mil participantes, cujo enredo foi \"PRIMEIRAMENTE, A CIDADE É NOSSA\"...Com Doria, São Paulo está mais desorganizado que cabaré de periferia.Esse dória parece ser um Marketeiro !O que não tem faltado nestes blocos de carnaval são coros de \"FORA TEMER\" e \"FORA DÓRIA\"... O povo sabe se divertir sem perder a consciência dos problemas do país... Findo os festejos o povo continuar nas ruas... E o bicho vai pegar....Dória é um retardado mental. O motorista perde tempo agora cobrando passageiros que pagam em dinheiro e enquanto isso o ônibus não sai. O cara não sabe se cobra quem tá ali do lado dele ou pilota. Pior idéia já tida para os transportes públicos. Espero que isso acabe, ônibus tem que ter motorista se concentrando apenas em dirigir e cobrador para atender os pagamentos. Isso além de ter removido os bilhetes temporários para o Vale Transporte de empresa.Sim, porque logicamente não tem CRIME DE VERDADE nenhum a ser investigado em SP, né? Esse Dória é inteligente pra caramba, não faz nada que preste, embolsa tudo e ainda consegue que os coxinhas batam palma pra ele kkkkkkkkkkkkkkkPaulistanos não podem reclamar desse aumento, foram eles mesmos que escolheram o PSDB.Nao adianta \"doriar\"a pilula,esta administração vai dar com os \"burros n'águas \" !votem no dória o bonzinho de SPESSE DORIA VAI ACABAR COM A CIDADE DE SPDoria - que pra variar nem está em SP, como sempre, está fazendo campanha por aí - , quer esconder a sujeira embaixo do tapete. No momento em que as investigações chegavam perto do seu gabinete, demitiu o secretário e a controladora. Doria só quer usar a Prefeitura como trampolim eleitoral. Doria, o pior prefeito da história de SP.Ritmo do prefeito? Só se for de fazer campanha fora de SP e de arrumar propina com empresa em troca de negócios de paí pra filho, feito o parque augusta. O Doria quer dar um terreno de 300 milhões por um de 100 milhões. Esse é o ritmo do Doria. Enchendo os bolsos e fazendo videozinho demagogo no facebookMais uma do \"prefake jestor\" .... e o povo acreditando que esse prefeitinho aí era \"isento\" de corrupção!Doria é a maior mentira que já nos contaram.No Tucanistão ( SP ) , o governador a merenda das criancinhas , e o prefeito tira o leite do fornecimento , aumentam a passagem na marra , etc. Negócio da china ser político no Tucanistão .Mas quem foi que veio cholaaa aqui Troouuxinnha?O Doria já mostrou o tipo de companhia que gosta: Temer, Rodrigo Maia e ACM Neto. Já entrou para a quadrilha.O Prefake não vai investigar as irregularidades?????Dória já mostrou o que é , prepotente , arrogante , etc . Quem votar em alguém assim merece um péssimo governante .Direita imunda.Dória é da esquerda imunda, ele é esquerdista de carteirinha! Quer o desarmamento, quer o assistencialismo barato, e outras coisas. Essa coisa de que ele não gosta da extremaesquerda é puro marketingNão tem outro. Só tem um honesto e ninguém mais: Bo lso n.aro. Dória é puro marketing!Ainda bem q esse Doria só conseguiu enganar povo de São Paulo antes de tentar ser presidente. Estamos de olho infeliz mais um ambicioso q defende interesse dos empresários.Dória só tem cara de santo, mas no fundo não passa de um político. Perdeu o meu voto.Quem votou em Dória é analfabeto político.A cada dia no governo o doria dá mostras sutis da sua real personalidade. Continua acreditando no marketing quem quer q quem pretende obter algum ganho com ele. Doria é mais do mesmo que levou o país ao buraco. Não é um outsider na política, é só mais um político enganador.Esse Doria ainda engana algum paulistano t r o x a? Eu nunca fui enganado por este farsante.Doria nada mais é do que um cavalo de troia para pegar o voto dos desavisados e manter os corrompidos no poder! Eu não entro nesta arapuca não! Sou B0LS0NAR02018 com certeza!É Dória, não tem politico que se salva, tinha ate esperança nele.....Ele já tirou dinheiro do combate às enchentes pra gastar em publicidade e agora retira investimento em transporte público. Enquanto isso, perdoa dívidas das empresas e não para em SP, está sempre viajando e fazendo campanha por aí. O único lugar onde ele não é encontrado é na prefeitura. Doria é uma fraude e só defende o interesse das empresas, não está nem aí para a cidade. Doria, o pior prefeito da história de SP.ainda essa D E S G R A C A QUER SER PRESIDENTE DEUS ME LIVRE VAI VENDE O BRASIL ENTEIRO ATE NOS TBM VAI SER VENDIDO PARA FORADória se mostrou um picareta político como a maioria. Por conta disso, não merece meu voto pra Presidente. Lamentável.E onde estava Doria hoje? No Espírito Santo, fazendo campanha. Doria só não é encontrado no seu trabalho. Por isso usa tanto o facebook. Pra disfarçar que ele não trabalha, só faz campanhaUé, 'arranjo político partidário'? Mas o Doria não era um 'gestor'? Na verdade Doria sempre foi o pior tipo de político: o demagogo e oportunista. Doria, o pior prefeito da história de SPPara o prefeito da elite paulista, essas denúncias podem atrapalhar os planos de poder do \"superprefeito\".Se for candidato a presidência com certeza meu voto (NÃO) leva , pode esperar sentado que de pé cansa kkkkkkkkkkkkkkkkkkkkkkkkkkkkkkkkkkkkkkkkkkkkkkkkkkkkkkkkFoi demitido por ser duro demais nas suas ações, ou seja, se não for \"adereço\" da autarquia, não serve, pois que, quem trabalha sério, não tem valor, afinal, \"Doria, esta provando, ser mais do mesmo\".Esse talGestorDeAraque do Doria nada mais é do que um cavalo de troia para pegar o voto dosInocentes e manter os corrompidos no poder! Inclusive já fez até reunião de portas fechadas com o GilmarPorcoBeiçudo do$$$TF! Eu não entro nesta armadilha não! B0LS0NAR02018 é a solução!!É o jeito Dorinha de governar a maior cidade do País.Doria, que não dá a mínima para a cidade - tanto que gasta todas as suas energias tentando viabilizar sua candidatura presidencial - está limpando o caminho para que os malfeitos de sua gestão não sejam descobertos. Primeiro reduziu a importância da Controladoria, que era uma secretaria e se tornou um apêndice. Agora, nesta semana mandou embora a controladora, que estava no meio de uma investigação que chega cada vez mais perto do gabinete do próprio prefeito.Doria prometeu muito e não vai entregar nada. Deixará um monte de promessas não realizadas enquanto embarca em sua nova aventura eleitoral. Doria sempre se disse um não-político, mas na verdade é o pior tipo de político, o demagogo e oportunista que usa seus cargos como trampolim para voos maiores.OVO NA QUADRILHA: PMDB,PSDB,DEM,PP,PR,PTB,PSD,SD,PRBO Dória tem que ter respeito com o eleitorado dele, se elegeu como prefeito tem que trabalhar com dignidade e cumprir o seu mandato até o fim, esta novela no PSDB já vimos com o José serra duas vezes, com o Dória não estamos vendo nada até agora, esta sendo um prefeito turista viajando fazendo médias e a cidade esta parada.ESSE DORIÁ É OUTRO FARSANTEFora Malafaia... Fora Dória...outra coisa é ele se misturar com bandidos, aliás bandido só se mistura com bandidoDória é o meu zovo, 2018 é Bolsonar0!!!!!!!!O único lugar onde Doria não pode ser encontrado é em SP, no gabinete de prefeito. Os semáforos continuam desligados, as ruas esburacadas, as crianças não podem repetir merenda, o número de mortes no trânsito se multiplicou e Doria segue viajando por aí, fazendo campanha. Doria, o pior prefeito da história de SP.Doria nada mais é do que umCavalo de Troia para pegar o voto dos desavisados e manter os corrompidos no poder! Eu não entro nestaArapuca não! Sou B0LS0NAR02018!Depois de fazer visitas de turismo em vários países asiático e da américa central, e uma passagem rápida pelo nordeste brasileiro, está rolando um boato que o prefeito João Dória deverá visitar São Paulo no mês que vem. Então fica avisado aos canalhas de plantão que o seu ídolo poderá passar pela sua cidade em uma visita de cortesia .E enquanto isso o Doria viajava por aí fazendo campanha, como sempreDoria só pensa no interesse das empresas. A Lei Cidade Limpa retirou o excesso de publicidade que atrapalhava a paisagem urbana, mas como Doria só pensa sob o ponto de vista dos empresários, agora quer emporcalhar a cidade com volta de propagandasDe certo o pre-fake preferiria que fossem dois ovos de uma vez só. Como foi outra coisa ele n curtiu muito.Nao se intimide. \"Direitistas\" e defensores da quadrilha do temer so existem atras da tela de um computador. Nas ruas eles nao poem o pé. Pra cima deles. Ovo vai ser pouco podem anotar aí.A CULPA É SUA, VOCÊ VOTOU NO JOÃO ESCÓRIA.Tanto que o mentor do Doria é o Alckmin do escândalo das merendas o qual se fossemos um país minimamente sério já estaria preso!Inclusive o Doria já fez reunião fechada com o GilmarPorcoBeiçudo do$$$TF o mesmo que quer barrar os votos impressos para fraudar as eleições!Não caiam nesta armadilha por favor! Doria nada mais é que um cavalo de troia para roubar o voto dos desinformados e manter os corrompidos no poder! B0LS0NAR02018 é a solução!!!!Disse João Dólar: EM UM PAÍS QUE PRESERVA A DEMOCRACIA E SUAS INSTITUIÇÕES. Hahahahaha além de higienista, elitista e burguês, virou comedianteTrabalhador fica esperto. Esse Dória foi presidente da Embratur só com 26 anos, onde qualquer jovem nessa idade, com grande formação não passa de um trainee. Pertence a um partido que fica em cima do muro........Esse PSDB é uma comédia... O Haddad agradece, será facilmente reeleito. Em tempo: estariam Alckmin e Dória tendo um namorico?KKKKKKKKKKKK coxxinhas descabelados !!!!!!MAIS UM PLAYBOY NO PSDB !!! NOVIDADE!!!!João Dória, aquele mesmo que foi chefe da delegação do Brasil na Copa América, sem saber nem se a bola é redonda ou quadrada, chamado pela reserva moral desse país, o ilibado Marco Polo Del Nero.L-U-LA-2018Doria junto comPSDB apoiam toda esta roubalheira que oTemerario eoPMDB estão promovendo no país! Doria se trata apenas de um cavalo de troia para pegar o voto dos desavisados e manter os corrompidos no poder! B0LS0NAR02018 é a solução!Dório outro politico ladrão metido a santo.DORIA e ladrao filho vai fundo que vc vai verdeixo aqui uma granada ao prefeito dória.O Dória que o povo elegeu se rebelando um péssimo administrador. É... São Paulo parem de dizer que nordestino não sabem vota. O prefeitinho! Tá acabando com a cidade linda...kkkNo que diz respeito a Doria, apenas duas coisas vão bem. O botox e as viagens pelo Brasil e pelo mundo. Agora, a cidade, continua abandonada e só servirá de trampolim para ele sair em campanha eleitoral. Doria não dá a mínima para a cidade e não vê a hora de passar o cargo para seu vice. Doria, o pior prefeito da história de SP.João bandidoJOÃO DORIA....ESSE INCOMPETENTE ADMINISTRADOR, BOM DE CONVERSA....O NOVO AÉCIO....E QUER SER PRESIDENTE DA REPUBLICA...ABRAM OS OLHOS PESSOAL.O Doriana aos poucos tá mostrando a CARA.Quero saber quando o paulistano vai aprender a votar.Este doria não cansa de imitar o trump?Doria quer vender o município, assim como Temer quer vender a amazonia, pobre Brasil.enquanto isso o prefake só viaja, a gente se vira sem eleOnde o prefeito Chacrinha está enfiando o dinheiro que recebe do Fundeb, nas suas eternas viagens..??.. Ele não é mais da Embratur do governo Sarney......Farinha do mesmo saco: Prefake e Vampiro de filme de terror. Não pode sair nada de bom para o povo de uma reunião entre essas duas criaturas.Doria sempre foi podre. Não é porque era empresário que era santo. mania que o brasileiro tem de inocentar empresários, como se fossem santos.Saudade Haddad!Votei e apoiei bastante o Dória, hoje vejo que errei e que se trata apenas de mais um fantoche de partido.Pelo menos você reconheceu o erro amigo, e quantos ainda votam no mesmo picareta?Essa atitude política do Dória elimina a sua autenticidade de governar a Prefeitura de São Paulo. Se a Controladora, que compõe sua equipe de governo descobriu algo tão grave, e participa da solução desse crime omo ele a substitui como se fosse algo sem valor. A sua falsidade está surgindo com presenças em ações nada formais, apoios a políticos como ao presidente Temer que é um vigarista. Que pena sendo administrador de empresa pensei que teríamos um líder anticorrupção. Mas o real é duro de...Esse Almofadinha Sonegador é só markting com ajuda das mídias grandes de SP principalmente as grandes rádios daqui que recebem jaba pra falar bem dele, vide a Band, JP, Trianon, Cbn em alguns programas, e agora vemos que é uma piada o governo dele que de útil até agora nada de se admirar, e ainda quer ser presidente.bem feito!!! quem mandou eleger um PLAYBOYO Doria realmente é um cavalo de troia para roubar o voto dos desinformados e manter os corrompidos no poder mas porque estesBlackBostas que o G1FakeNews chama de estudantes nunca fazem protesto contra oLularapium? Pensem nisso!Medida ridícula do Sr. João Dória. Ao invés de aumentar a fiscalização (aliás não disseram que aquelas câmeras nas catracas iriam ajudar a acabar com a farra?), prefere tirar o passe livre dos estudantes. Ele deveria se tocar que a prefeitura paga apenas 56,51 reais de auxilio transporte para estagiários de Direito, então o aluno terá que tirar grana do próprio bolso que é pouca para poder voltar pra casa.O playboy se veste de gari e motorista de ônibus acreditando que será Presidente......kkkkkkDoria é o pior prefeito da história. Ele só é bom para as empresas. Pros cidadãos é uma lástimaEsse Dória é um perigo para o Brasil. O negócio dele é gastar dinheiro público para se promover e enquanto isso a cidade de São Paulo vai afundando em urina e fezes! Uma vergonha! Quando será que ele vai perceber que é um simples prefeito e tem que trabalhar? Socorro!!!!!!!!sim... Doria é apenas mais um esquerdista fabiano... mais do mesmoOntem o Prefake doriana estava em brasília em reuniãozinha pra salvar Aécio e Temer... Não merece ser nada além de prefeito...O Dória de hoje é o Collor do passado, vcs lembram???E agora, os coxinhas vão dizer que Dória não sabia de nada? Claro! Quando envolve gente do PSDB a análise é diferente...Doria nao gosta de pobre. Ele não gosta de vocês.CIROGOMES 2018 !!!Esse PREFAKE, vai acabar de vez com SP.O Doria está agindo de má-fé. Basta ele vender o terreno que vale 300, comprar o de 100, sobram 200 que ele soma a esses outros 100 recuperados do Maluf e assim terá 300 pra investir em saúde e educação, que é o que a cidade precisa. Esse negócio de trocar 300 por 100 e falar que terá 100 pra gastar não é bom negócio pra cidade, apenas para as empresas.Pessoal, cuidado com soluções mágicas e radicalismos. Problemas complexos exigem soluções complexas também. Cada caso tem que ser analisado separadamente. Privatização não é garantia de solução para todos os males, mas também não é palavrão. Deixar tudo na mão do Estado também não é solução, ainda mais com ESTE Estado que está aí. Tem que começar MORALIZANDO o Estado, e também privatizando coisas que REALMENTE não têm porquê ficarem nas mãos do Estado. Agora, desconfio seriamente dos que falam \"privatiza tudo\" ou \"estatiza tudo\" - isso é sinal de raciocínio curto e busca de \"soluções mágicas\".O prefake que usa fantasia de trabalhador não tem moral alguma para criticar o maior presidente da história do Brasil.COXINHAS.......C.OMO UM PREFEITO PODE CONVENCER ALGUÉM A PAGAR IPTU, SE ELE NÃO PAGA, E PEDIR PARA QUE NÃO C.OM.ETAM FALTAS NO TRANSITO, SE ELE TEM A CNH SUSPENSA??? ESSE É O TÍPICO PREFEITO C.OXINHA!!! ABUSAM DA VELOCIDADE NO TRANSITO, MAS RECLAMAM DO LIMITE DE VELOCIDADE. SONEGAM IMPOSTOS, MAS CHAMAM A OUTROS DE CORRUPTOS!!! SÃO PAULO É CIDADE PADRÃO C.OXINHA..........E MORTOS DE FOME B.ESTAS DE DIREITA!!!.........PARABÉNS AOS C.OXINHAS, PELO C.ACARECO QUE ELEGERAM!!!........BELA T.ITIRICADA!!!......hehehe.O importante é que esse prefake não é mais unanimidade.O Prefeito boca de botox dos trouxinhas de São Paulo é uma piada kkkkk.Ué e pq ele não viu isso antes de se filiar ao PSDB, ou o Aécio aprendeu a falar palavrão com o Joesley, esse Doria é um fanfarrão, deveria ter ficado quieto a falar bobagens, gosta de querer bancar o certinho, a cidade está um caos, árvores caídas, semáforos inoperantes, cadê a zeladoria. E sem contar que o Rocha Louvre foi lá em NY assistir a premiação do Doria, será que ele tirou foto com ele, ou tirou e deletou??DÓRIA Lobista....Esse almofadinha engrupiu o Estado de São Paulo e vai querer também o mesmo no Brasil abram os olhosIsso é o efeito Doria. Desde de que o obscurantismo se tornou inspiração para as políticas municipais, com a destruição de ciclovias e diversas manifestações críticas aos ciclistas, os motoristas se sentem autorizados a desrespeitá-los. O que esperar de uma gestão que foi contra o bom senso e todos os indicadores internacionais e aumentou o limite de velocidade das marginais? Isso sem falar nas ciclovias que estão sendo descaracterizadas. Doria é o responsável.Dória, o prefeito mauricinho, está mais para ator de comédias do que administrador.Engraçado, pedem para tomarem uma atitude e quando tomam vão protestar. Claro que toda ação controlada tem uma reação adversa aqui ou ali, mas agora falar que internação compulsória e tirar os usuários do local é coisa de fascista, é politicagem. Façam o seguinte, tirem os moradores de lá, façam um muro e deixem lá dentro os usuários, traficantes, moradores e comerciantes que não querem que os \"coitadinhos\" sejam despejados. Cada um convive com quem merece.Vejo os acéfalos de direita querendo guerra e pouco se importando com a saúde dos usuários, e dessa forma vão jogando a sujeira para baixo do tapete. Os coxinhas são a guerra e a impiedade sem falar da maldade que lhes habita o coração.O prefeito Doria vai aos poucos mostrando sua verdadeiras garras.Doria não é confiável até porque é cria do Alckmim citado na lava jato e também se pesquisarem seu passado verão que não é tão limpo assim. A melhor solução para este país se chama Bolsonaro2018!B0LS0NAR0 2018!!!!!B-0-L-S-0-N-A-R-0 2018!!!!Não confio do Doria nem um pouco! É cria do Alckimim citado na lava jato, procurem saber mais sobre ele e verão que de limpo não tem nada. Bolsonaro2018 é a solução para este país!Só sei de uma coisa. B-O-L-S-O-N-A-R-O 2018 !!!BOLSONARO2018Esse Doria vive de aparência.PESQUISA: B0LSONAR0 tecle verde, DÓRIA tecle VERMELHO !o que dória está fazendo é colocar o dinheiro da maquina publica a serviço do empresariado. a sptur (que adminsitra anhembi, interlagos e pacaembu) no seu balancete mostrou um lucro de mais de 400 milhoes. já os parques nao foram criados para dar lucro, foram criados para dar lazer a populaçao e nós pagamos impostos para mante-los. agora pagaremos impostos para dar lucro a uma empresa privada fazer o serviço que a prefeitura tem obrigaçao de fazer. infelizmente boa parte da populaçao nao consegue enxergar isso.Vergonhoso... Estou preocupado com o avanço do fascismo... GOLPISTAS FASCISTAS NÃO PASSARAOEu até votaria no Dória, mas ele é a favor do desarmamento e votar no PSDB é receber o pacote podre junto com Aécio, FHC, Serra e Aloysio Nunes, então 2018 é JAIRBOLSONARO!!!Doria é meu paul!Esse Doria é só marketing. Vai passar vergonha!CRISE NO COXINHISTÃO. Isso mesmo, se mathem seus almofadinhas, pq vcs nao vao pra presidencia nunca maiskkkkkkkkkkkkkkkkkkkSr. Dória, ricos e milionários só em Mônaco; portanto, candidata-se por lá!O Dória quer privatizar até faixa de ônibus e córrego de favela... Esse PSDB é uma doença auto-imune no Brasil...Fernando Collor 2.0...Dória, vai catar coquinho!!!Novo Collor vem aiPovo de São Paulo não sabe votar !Ladrão da merenda escolaros coxinhas estão sendo alvo de ovadas kkkkkkkkprefake botox, uma enganaçao de marca maiorPURO MARKETINGVai lá de novo, Prefake.... :D rsOlha o playboy querendo ser engraçadoNossa Dória, como você é TROUXA.....Se o DÓRIA estivesse cuidando de SP não teria levado ovada, a culpa é de quem? ele nem deveria estar lá.Doria nada mais é do que um cavalo de troia para pegar o voto dos desavisados e manter os corrompidos no poder! Eu não entro nesta armadilha não. B0LS0NAR02018 é a solução!Doril Marketeiro, só fantasia!DÓRIA E O PSDB ESTÃO COMPRADOS. QUE PRESIDENTE QUE 93% DESEJA SAIR, MEUS AMIGOS. COMPRA AGORA ESSE PREFEITO DÓRIA, OUTRO, CONJUGADO DA PILANTRAGEM!Este Dória é mais um PICARETA deste nojooo de PSDB!!UM PREFEITO INCOMPETENTE QUE ATE AGORA NÃO FOI CAPAZ NEM LIMPAR A CIDADE, E QUE SÓ SABE FALAR MAL DO AÉCIO E UM PRESIDENTE QUE SÓ GOSTA DE MALA CHEIA AI JÁ SE SABE O QUE VAI DAR NÉ, NADA!!!!!!Essa coxinha leva catupiryQual seria a novidade da vez? Tratando-se de coxinhas, tucanalhas, que dúvida se tem sobre oportunismo, corrupção ou qualquer tipo de falcatrua para estarem no poder?! Estão perdidos, em total desorientação... Sem prefeitura de SP, sem governo de SP e sem o governo Federal... a cada dia essa \"raça\" estará mais extinta! kkkkTucanos dos infernosDória : amigo do Temer, do Geraldo, do Aécio, do FHC ... AFF !!!Este Dória é mais um PICARETA deste nojooo de PSDB!!ESSE DÓRIA É PIOR QUE O COLOR DE MELOJoão Dória o Gestor = nota 0, já João Dória Ratazana Politica = nota 10. Este é o nosso prefake, enganou São Paulo e agora vai enganar o Brasil!!Mais um motivo pra Bolsonaro2018. A cada dia que se passa mais tenho certeza do meu voto.Nunca votaria em Doria, PSDB partido de esquerda e que apoia Temer. Pelo menos quem votaria nele, caso ele se candidatasse a presidência, vai pensar duas vezes.Doria gasta uma fortuna com publicidade para se auto promover enquanto para os mendigos só sobra jato de água gelada na madrugada!Fazendo uma analogia com o que o Doria pensa então estão certos os moradores de favela que protegem os traficantes porque eles pagam o gás e compram remédio para eles! Doria é armadilha dos corrompidos! B0LS0NAR02018 é a solução! Por nossos filhos!O prefeito de São Paulo anunciou o fim da Cracolândia e ainda tem usuário no centro de São Paulo. Até quando Prefeito? É só demagogia para se candidatar a presidente da república?O prefake está se superando , esse não se elege nem pra vereador mais.Mais uma do PreFake.Doria, o cavalo de troia que o PSDB mandou para os coxinhas acéfalosOS COXINHAS VOTARAM EM DÓRIA, E AMAM O SR. TEMER E AGORA?Doria não passa de um politico sem escrupulo o partido dele já diz tudo,agora eu pergunto quem mandou votar nele,guenta<Vaza Dória! VacilãoTodo lugar tem puxa saco kkk! até aqui. Doria é cavalo paraguaio, fôlego curto. kkk! mais um político mentiroso.Olha o Dória indo!!! Olha o Dória vindo!!! Esse camarada só viaja, e quando está aqui em SP, está vendendo a cidade à iniciativa privada! Isso sim é jestão!COLLOR II - O RETORNOEsse cara nunca trabalhou. João Dória é filho de político nordestino. O papai coronel era deputado federal da Bahia. Quem financiava a campanha do papai? Para onde iam as sobras de campanha? Sua mãe era uma milionária herdeira de origem sergipana e baiana ligada à política. Em resumo, o bravateiro e boquirroto João Dória é produto do que há de pior no Brasil, o coronelismos nordestino financiado com dinheiro público.Além do mais o Dória tem ascendência de senhores de engenho escravocratas, daí o desprezo dele pelos pobres...Deus nos livre do bosta deste ser presidenteEsse prefeito só pensa em maquiar a cidade. Os problemas internos saúde, educação, segurança ele não vai cuidar não?! Tenha paciência! Acho que os paulistanos se deram mal.O prefake só toma atitude depois da tragédia, sendo que dias antes a meteorologia já dizia que uma frente fria se aproximava.Concordo que o Haddad não foi um bom prefeito! Mas falar que o Jão é um bom prefeito... Aiiii já é demais! Foi no Silvio Santos se gabando dos seus projetos para a saúde, falando das consultas e remédios que não faltam mais! Pois bem, nos últimos 2 meses fui na UBS da minha rua 3x. Na primeira não tinha médico, na segunda não tinha remédio e na terceira, tinha um médico pra atender um batalhão, falta remédio e o filme para tirar o raio-x! Isso não é culpa da prefeitura?? Político é TUDO IGUAL!!! BANDO DE SAFADOS!!!Luiz Inácio 2018Doria é um exemplo de mal gestor que só sabe fazer market, trabalho que é bom nada! Triste para a nossa amada cidadeDória é apenas um falsante que engana pessoas em redes sociais.Boa Francisco, ainda bem que esse playboy nunca terá votos lá no norte e nordeste do país porque lá playboy não tem vez. Só os baba ovo aqui de sampa se prestam a votar num picareta desses.marketero doriana, não passará.E para os mendigos só sobra esguicho de água gelada na madrugada!Faz o marketing na frente das camêras e por trás delas pede para correr com a aprovação da reforma trabalhista e da Previdência nos moldes que o Vampiro quer. Partideco só engana quem quer ser enganado.Esse Doria é um fanfarrão, começa a fazer bobagens, p querer ser o melhor prefeito, só esqueceu que a administração pública é bem diferente da administração privada, que ele pratica em suas empresas!!Robozinhos pró dória me negativando. Ele quer salvar temer e aécio, bandido igual...DEMAGOGIA, ENCENAÇÃO, JOGAR PRA TORCIDA, E POR AI VAI...o tempo dirá. É UM GRANDE PICARETAo joão dólar aproveitando a situação pra fazer seu marketing pessoalDemagogia, Tava tudo no esquema Esse é cria do mineirinho .Prefake, muito marketing e pouca ação. Se fantasie de morador de rua e acorde molhado nesse frio, hipócrita.Playboy pensa que sabe ser político....kkkkkkkJoão burro lima, ele afastou os pequenos mas o sub prefeito ele nem mexeu.O Dória só aceita a corrupção do Temer, por isso está na base aliada.Esse prefeito midiático vai pagar caro nas suas aparições, pois o povo sofrido que o mesmo usa fazendo caridade não quer mais isso, o que buscam é dignidade e humanidade.O prefake parece aquela criança que ficou sozinha em casa, quebrou algo e quando os pais chegam ele diz que não foi ele.Doria é isso. Muita palhaçada e cuidado nenhum com os seres humanos. Idiota.Doriana virou prefeito para o povo pagar suas viagens para miami.Gestão??? só marketingO Mito Lula2018 ta voltando para os braços do povo.E tão João Dória está mostrando sua cara? Isso é artifícios dos que não toleram a participação do povo nas políticas para o povo... Antidemocrático. Ou melhor, parece piada... de mal gosto.Esse Dória e o Haddad são tudo bosta da mesma privada! Será mesmo que ele entrou por engano ou iria realizar um arrastão? Eu tenho pé atrás com político branco!Dória, volta lá pra sua empresaO terreno no Alto de Pinheiros vale, no mínimo, 300 milhões e pode abrigar construções sem restrição alguma já que está dentro da operação urbana Faria Lima. O terreno da Augusta vale cerca de 100 milhões e não poderiam construir em todo o terreno porque as árvores são tombadas. Doria quer fazer um negócio de pai pra filho para as construtoras. Quem perde é a cidade, que vai tomar um prejuízo enorme.Doria sempre acha um jeitinho de ajudar as empresas, mesmo que isso dê prejuízo para a prefeitura.O prefake que usa fantasia de trabalhador não tem moral alguma para criticar o maior presidente da história do Brasil.O cara é só pirotecniaUé, o João Doria não falou que a cracolândia tinha acabado? Por que ele não se veste de assistente social e vai lá falar com os dependentes?João Dória, trabalho, que é bom, não se vê, mas factoide tem todo santo dia.Prefeito \"MARKETEIRO\"... nisso ele é bom.DemagogoPropaganda é a alma do negócio...Oportunistaesse prefake é demais hahahha de maos dadas com o judaismo internacionalO prefake c o x i n h a só sabe prejudicar quem já está na base da pirâmide social.Fora Dória, vc não vai ser presidente do Brasil !!! falaí dos seus esquemas com o BNDS.....Se o Dória não fosse do PSDB iria nos trazer mais confiança ! Meu voto ainda é B0ls0naro ! E MOLUSCO na cadeia !Dória, o marqueteiro!O Collor era gestor também e empresário, olha no que deu !!!Na matéria há duas versões, uma do Secretário de Saúde dizendo que a Prefeitura não sabia da intervenção Policial e outra, dessa mesma Prefeitura, dizendo que sabiam. A dissonância na gestão do Prefeito Dória NOVAMENTE mostra-se ineficaz. E vamos presenciar mais eventos dissonantes, é só esperar.Esses coxinhas não tem o pingo de vergonha na cara ficam tirando a roupa na frente de todos, a solução pra acabar com esses coxinhas pervertidos e Lulão2018 Presidente.esse prefake só quer saber do lado bom da cidade, pq o resto é resto que o zé povinho se dane, que as crianças se danem, né não prefake ridículo?Dória mostra sua baixa educação...Marketing puro - essa é a expressão que define o prefeito de São Paulo.Mas para onde vai os mais de R$ 50 milhoes pagos por ano por esse serviço???? Fala ai Doria foi desviado para o MKT srsrsrs PALHAÇO ESSE PREFEITO !!!!!Globo já fazendo campanha antecipada pra esse novo Collor se lançar a presidência.Doria, se fosse um filme, poderia ter o titulo Collor II, uma produção, central globo de jornalismo.Doria é Eskizofrenico, so ele ve que não existe crakolandia, kkkkDória V*A*G*A*B*U*N*D*O....Cobrar dos seus amigos EMPRESÁRIOS milionários as sonegaçoes vc n faz néDORIA, NÃO TEM COISA MELHOR PARA TRATAR NÃO????PERCA DE TEMPO....Para os coxinhas não importa se a doação é ilegal o importante é o Doriana fazer um vídeo no face falando que recebeu um bilhão em doação mas cadê as melhorias? Apagar pixacão da nove de julho e vinte três de maio não conta quero ver limpar a cidade toda as periferias de preferência agora o pivete não pixa a rua do rico mas pixa a de quem não tem nem a tinta pra pintarAonde que está a Cidade Linda, a única coisa que fez foi pagam 23 milhões pra fazer o Jardim Suspenso da 23 de Maio aonde vai criar muita cobra ali, mais um Collor da Vida esse Almofadinha IPTU.né não Dória, foi são pedro não, é a insatisfação mesmo do povo, com relação a vc.Cidade de São Paulo. A maior metrópole do país. Novo brinquedinho do Dória. E ainda tem gente ignorante achando que o cara é bom!!! Bom pra tomar champagne com Lucinha Araújo, Amaury Junior, Abílio Diniz....O pato amarelo é a baleia azul dos coxinhasDoria melhor prefeito de SP até hoje !!! Quem não gosta dele são os esquerdopatas contraventores...Doriana está cometendo o mesmo erro de \"enxugar gelo\", em vez de ataca a CAUSA está REMEDIANDO os problemas. Fazer pressão em \"noiado\" é fácil eu quero ver agirem contra os grandes traficante que fazem as drogas chegarem até a cracolândiaDoria não me engana. ele é o novo Collor.Fora dória!!!Prefake sem inteligência emocional! Quando contrariado fica nervoso!Dória é invasor de terra, tem que respeitar oque NÃO é dele, Certo Luquinha !Fora Dória, leviano!!PORQUE O SENHOR DORIA NÃO PRIVATIZA A CASA DELECARAMBA, O DÓRIA VAI SE VESTIR DE ATENDENTE DE PEDÁGIO QUE LEGAL, ELE JÁ FOI PINTOR, GARI, PODADOR DE ARVORE NOSSA SÓ FALTA SE VESTIR DE PREFEITO.ESSE SUJEITO AINDA QUER SER PRESIDENTE DO PAÍS KKKKKKKKKKKKKKKKKKKKsó marketing.... quero ver viver com salário de um gari...se fantasiar de gari é fácil.... que coisa mais demagógicaEsse Dória é mesmo um ridículo! Bem que me falaram.PREFEITO TAMPINHA VIROU prefeito privatizador...... oxalá Sampa não se transforme na \"privada\" particular dele...Joao D-Ó-L-A-R ficou caladinho depois de levar um e-s-p-o-r-r-o do presidente L U L A.Muito marketing ...não precisa filmar, postar em rede sociais e etc.Acho que 20 anos de PSDB no governo do estado de São Paulo conseguiu acabar com a pouca instrução que os paulistas tinhas ... ! O pessoal para idolatrar rico, com esperanças de ter um iate ... ! Mas só se ferrando ... ! Violência a toda velocidade, caos, etc ... ESSE POVO TEM DE SER ESTUDADO !Marketing, marketing, marketing... foi só marketing.Dória vive em outro mundo, não conhece a cidade real.\n"
     ]
    }
   ],
   "source": [
    "print palavras_nao_eleitores_doria"
   ]
  },
  {
   "cell_type": "code",
   "execution_count": 74,
   "metadata": {
    "collapsed": false
   },
   "outputs": [],
   "source": [
    "f = open('palavras_eleitores_doria.txt', 'w')\n",
    "f.write(palavras_eleitores_doria.encode('utf-8'))\n",
    "f.close()"
   ]
  },
  {
   "cell_type": "code",
   "execution_count": 75,
   "metadata": {
    "collapsed": true
   },
   "outputs": [],
   "source": [
    "f = open('palavras_nao_eleitores_doria.txt', 'w')\n",
    "f.write(palavras_nao_eleitores_doria.encode('utf-8'))\n",
    "f.close()"
   ]
  },
  {
   "cell_type": "code",
   "execution_count": 76,
   "metadata": {
    "collapsed": true
   },
   "outputs": [],
   "source": [
    "doria = open('palavras_eleitores_doria.txt', 'r')"
   ]
  },
  {
   "cell_type": "code",
   "execution_count": 78,
   "metadata": {
    "collapsed": false
   },
   "outputs": [],
   "source": [
    "teste = doria.readlines()"
   ]
  },
  {
   "cell_type": "code",
   "execution_count": 81,
   "metadata": {
    "collapsed": false
   },
   "outputs": [
    {
     "name": "stdout",
     "output_type": "stream",
     "text": [
      "coitado do marginal que jogava ovo nos outros....Doria ja falou que vai acabar com a estabilidade no serviço público e quem quiser se manter no cargo vai ter que trabalhar e mostrar serviço, só isso já basta pra deixar a esquerda furiosa.PELO JEITO TEMOS MUITOS MORTADELAS QUE ESTAO COM MEDO DA MAMATA ACABAR NEH???? DÓRIA SERÁ O PRÓXIMO PRESIDENTE DO BRASIL E ESSA CORJA DE INTOLERANTES IRÁ ACABAR......AGUARDEM.....ACELERA DÓRIA!!Este estado é o pior do Brasil, pobre em cultura, pobre em td. tem que se ferrar. Sou a favor daquele reitor antigo que diz:Oo pai dele foi deputado federal pela Bahia, ok, então está explicado e mais que justo o motivo do titulo de cidadão Soteropolitano, que que é um descendente! O povinho da esquerda protestando é algo muito ridículo.já pensou se SP deportasse todos os baianos de volta para seu estado de origem ?...Estes nordestinos tem que agradecer o dinheiro de SP que vai pra eles!Nordeste tem um povo atrasado igual no Oriente Médio, se acordassem pra realidade ajudariam a pôr nosso país em melhores condições.E a mortadelada pira! Esquerda formada; por estudantes q não estudam; Por trabalhadores a não trabalham pois encostam-se nos sindicatos Por artistas de alcova; Por intelectuais q não sabem formular discursos e idéias;Dória foi se meter com o Temer, dá nisso. Impopularidade pega!! Cuidado Dória!!Que venha o exército.Baiano é uma desgraça mesmo! Povo imundo!PORQUE NÃO ATIRAM NO LUL@, NA GLEISI, NO GEDEL... QUE SAQUEARAM NOSSO PAÍS? O QUE O DÓRIA FEZ??? IGNORÂNCIA E INTOLERÂNCIA, SÓ ISSO EXPLICA!gópi MARAVILHAAAAAAAAAAA...PANELEI MUITO GRAÇAAS A DEUS !!!!Doria é o candidato a Presidente em 2018. Não há outro nome com suas qualidades. Os baderneiros bolivarianos usam a violência para intimidação.Por falta um dedo ao líder???? ele esqueceu dentro dos petrálhas. kkkkkk fora: GILMAR-MENDES e BRAHMA e PÓ-MG e VAMP!!!!Se ele tem dinheiro pra pagar alguém pra recolher. Bom que é menos 1 desempregado nesse país.Que idiotice quem esta vendendo o que esta apenas transferindo custos e melhorando os espaços é concessão idiotas.Perfeito! O Prefeito precisa se precupar com outras coisa mais importantes como saúde, educação, moradia e segurança.. População precisa perder essa mania de achar que o govenro precisa prover tudo, sustentar tudo...Mais iniciativa privada... mais emprego, menos despedicio.Pacaembu, Sambódromo e Autódromo só trazem prejuízos pra prefeitura, infelizmente precisam ser privatizados.Os vermelhos piram... Gostam de uma boquina no governo.Trm que privatizar mesmo! ! O governo não tem que ficar se metendo em estadio, sambodromo, ou qualquer coisa desse tipo!! Ta certissimo!! Prefeitura tem que cuidar da saúde, segurança, educação etc. E mais, pra população não vai mudar nada! Pagava pra ir nesses lugares e vai continuar pagando normal.Isso mesmo. A Prefeitura não tem que ter Estádio, Centro de Exposição, Autódromo, Sambódromo e etc... Tem que focar em Saúde, Educação e Segurança.BOA DÓRIA , VAMOS EM FRENTE , QUE A GRITARIA DA ESQUERDA É PORQUE OS CABIDES ESTÃO ACABANDO. CHEGOU A EPOCA DE TRABALHAR GENTE , ACABOU A MOLEZA DE SE ENCOSTAR NO ESTADO .Já passou da hora, tem que privatizar tudo.Ótima notícia, quem sabe à partir de agora os bandidos que se intitulam torcedores passem a ser responsabilizados pelos danos causados por eles.Essa pe tra lhada i.gnorante que comenta aqui NEM LÊ a reportagem e já sai criticando e mentindo ... O aumento do IPTU vai ser de 3%, abaixo da inflação, em 70% dos imóveis . Os outros 30% dos imóveis vão ter aumento baseado na revisão do PGV de 2013 (da gestão Raddard)você não sabe o que fala ! ele reajustou pouquíssimo e esta cobrando de quem não pagava a anos ! não e justo um pagar e outro não !Boa decisão para 2018. Vamos aguardar os próximos anos...A pressão que Doria está sofrendo por parte dos caciques do PSDB chega a ser constrangedora. O problema deles eh que o povo quer o Doria em 2018.Super Parabéns Sr Prefeito!!!! Morram de inveja quem não fez nada por São Paulo! Doria com ajuda dos EMPRESARIOS, (toma-te na cabeça dos invejosos\"), mesmo com toda oposição atrapalhando, ( como no caso da cracolândia) ele esta revolucionando nossa cidade... Muito obrigada Sr Prefeito!!!As esquerdinhas piramSó elogios para o nosso futuro presidente do Brasil !!!esse cara e muito bom.. odeio todos os partidos.. mas esse cara e otimo.. realmente merece ser presidenteParabéns Dória !!!Vai ficar parecendo o choro dos esquerdopatas quando perder as eleições de 2018,kkkE os esquerdopatas ficam loucas de raiva ,kkk .Aproveita a campanha de vacinação contra a raiva !!kkkNão vou entrar na discussão sobre a responsabilidade dos pais terem vários filhos sem condição de sustentá-los. Porém, entendo que as crianças não podem ser penalizadas pelos atos dos seus pais. Com certeza uma criança subnutrida terá menos capacidade de aprendizagem, o que levará a manter o círculo vicioso: pais sem estudo que gerarão filhos também sem estudo.Eu acho um total absurdo, essa mulherada ficar fazendo filhos que NÃO pode sustentar, delegando ao municipio essa responsabilidade. Deveria haver uma lei determinando que, quem NÃO tivesse condição de alimentar, prover moradia digna, saúde, poderia ter um filho só e \"olhe la\"\"\"\" No 1o ja faria a laqueadura. Bando de gente folgada meu!! oh loko!!!!!!!Escola pública tem que parar de ficar dando lanchinho, que é obrigação dos responsáveis!quem pariu matheus que balance o berçoo que mais falta agora, as crianças precisam tomar banho com sabonete importado antes de voltarem para casa????????????????????? recebem duas refeições e não está bom????? que os alunos levem de casa o complemento............Povo muito mau acostumado...transporte,uniforme ,leite ,alimentação,etc...e ainda reclama. Quer viver em um país socialista, vai para a Venezuela ou Cuba. Essa competição de quem dá mais para se eleger de políticos populistas, é que elevou esses benefícios a um patamar absurdo e irreal. Tá com fome depois das refeições oferecidas ? Leve o complemento de casa !Essas \"mães\" só sabem fazer filho, elas tem que aprender a criar os filhos, tem que aprender que filho tem custo e os custos não podem ser de responsabilidade da administração pública, enquanto uns trabalham para \"manter\" os filhos que elas colocam no mundo elas mesmo só sabem reclamar.\"\"\"\"; ISTO SE DA PORQUE ELE DEVE RECEBER PROPINA PARA ENRIQUECER ILICITAMENTE \"\"\"\" afirmações baseadas em...????quem tem a obrigacao de alimentar as criancas sao os pais, e nunca o estado. Por que fazem filhos e querem empurrar alimentacao e educacao ao estado?Poque a escola tem que fornecer alimentação para os alunos? isso e obrigação dos pais, quem acha que o que e servido e pouco manda o filho pra escola junto com uma lancheiraTem que Privatizar TudoEsse secretário era horrível, parabéns Dória por demiti-lo ... Esse cara do PV era mais 1 que vinha mamando a anos em nossa politica. PV é tipo kiwi, verde por fora e vermelho por dentro ! Esse cara é mais um que se aproveitou da \"ditadura\" para depois permanecer por anos em cargos políticos....Diz ele que até torturado já foi !!! Esse cara não tem ideologia alguma, já pulou de galho em galho por vários partidos e pode se preparar que jaja está ai assumindo algum cargo publico novamente... Estará no palanque da câmara em breve!!Doria está certo. Não fez bom serviço, tem que ser demitido mesmo. Por que esse Ex- secretário não denunciou quando estava empregado? É um sem vergonha.Dória , candidato a Presidente , claro !!!!!.... E o Crivela o que faz pelo Rio ?Pelo menos o Doria está tendo atitude e criatividade, se vai acertar em tudo não sei..O marketing de DORIA é positivo. É a unica opçáo do eleitor em 2018. E todos os politicos na relação da Lava-Jato terão que banidos da vida publica, lembre-se disso eleitor. Em 2018 vamos pulverizar esses políticos nas urnas.Prefiro o Marketing e Doria,D.Ó.R.I.A = PRESIDENTE 2018 à 2026. .!!A gestão do atual prefeito de São Paulo é sem dúvidas um modelo a ser seguido. A parceria com o setor privado faz com que a cidade fique melhor em todos os aspectos e tudo isso sem usar o dinheiro dos cofres públicos. Parabéns ao prefeito João Dória.Parabéns meu Presidente, quanto menos a Prefeitura gastar, melhor!Bem que o Governador Rollemberg podia fazer o mesmo aqui em Brasília, não que o Parque Da Cidade seja ruim, mas um parceria dessas deixaria o maior Parque Urbano do mundo ainda melhor. Parabéns, Doria!!!praças e parques da zona leste estao abandonados desde o inicio da gestao doria, é um bom prefeito mas nao é perfeitoDoria vem fazendo um otimo trabalho , Doria pra governador , e cadeia no lulamolusco , aeciodopó ,Fantástica a administração Doria.Deus abençoe que ele cumpra o prometido São Paulo precisa...Estou muito feliz com a gestão do prefeito Dória. Aos descontentes, existem várias opções: voltar a trabalhar, sair de São Paulo e ir pra uma cidade governada pelo PTê, tomar vergonha na cara e parar de mimimi... Se nenhuma delas te agrada, acampem em frente ao apartamento do Luladrao, afinal ele é o símbolo máximo de honestidade e prosperidade. Perceberam quantas opções? Deixem que as pessoas de bem, aquelas que elegeram no primeiro turno, enterrando o PTê com pá de cal viverem em paz. Vocês tiveram 13 anos para melhorar a vida do trabalhador e só viveram de corrupção.Eu acompanho o Dória a muito tempo, é um exímio administrador. São Paulo precisa de um administrador e nesse momento ele é o único. Sempre reclamamos que os políticos são sempre os mesmos, apesar do Doria já ter ocupado cargos do tipo, é uma cara nova na prefeitura. Meu voto é dele, se eu quebrar a cara eu escolho outro daqui a 4 anos.BOA DORIAAAAA !!! TEM QUE RESTRINGIR SIM !!! QUEREM PASSEAR DE BUSÃO ??? PAGAAAAA E NAO BUFFAAAA !!!Pois é! Mais uma vez o Prefeito Dória tem razão. \"Os deslocamentos devem estar vinculados a atividade escolar\". Quem quiser cabular aula e voltar mais cedo pra casa que vá andando!PREFEITO UTIL !!!Ta um Gato vestido de Gari! Troféu simpatia pra esse Doria!! O Iris Rezende pegava na enxada pra cativar a simpatia. Ta velhinho e foi eleito novamente! Desejo sucessos a ele para o bem dos Paulistanos. Precisamos que noticias boas em 2017!Mito 2018.Mitooooooo 2018.Mitoooo 2018 .Melhor prefeito do Brasil. Um grande nome para 2018. Só precisa sair do PSDB. Dória 2018!!Quanta idiotice desse Sr. Campos Machado. Acho que deveríamos estar contente por ter aparecido um Doria como opção para 2018. Acho até que Doria será uma unanimidade nacional. Chega de mais do mesmo no Brasil. Precisamos renovar.Dória é mil vezes melhor que o confuso do Haddad... São Paulo somente vai ganhar com o mesmo na prefeitura.Dória ganharia fácil a eleição para presidente 2018 ( no primeiro turno).É assim que se começa a governar na tranquilidade, corre para conseguir dinheiro antes mesmo de assumir. 2018 DORIA Presidente.DÓRIA FAZENDO UMA POLITICA DIFERENCIADA! TIPICO DE UM BOM ADMINISTRADOR .Muito bem Doria, quem leu entendeu. Terá teor crítico também. Um homem que sabe escutar e da a mão a outras lideranças prol do povo revela senso de sabedoria.Porque este radicalismo dessa \"manifestação\"? Onde está o bom senso? As ciclovias foram impostas à população, sem nenhum estudo e sem ouvir os moradores. Por exemplo, na minha rua, detonou o comércio e não serve praticamente para nada, pois raro é o ciclista que passa nela. A não ser servir de rota de fuga para a \"gangue da bicicleta\" que rouba os incautos e incautas aqui perto do metrô Marechal Deodoro. Por isso que acho que o Prefeito eleito está correto quando diz com bom senso que é preciso reavaliar as ciclovias. Algumas podem ser úteis, outras são verdadeiras aberrações haddadianas.As ciclovias foi um ótimo projeto do Haddad, porém não foi implantada corretamente, existem lugares que é impossível pedalar, vários ciclistas andam fora da faixa e etc. O JOÃO NEM TOMOU POSSE E OS PTistas JÁ TÃO FAZENDO PROTESTO, PELO AMOR DE DEUS. O CARA CRIOU ATÉ UMA PESQUISA NO SITE DELE PARA SABER A OPINIÃO DA POPULAÇÃO. Deixem esse homem trabalhar.Aqui de Aracaju e apoiando Dória !É cada PIADA que meu DEUS .... PARABÉNS DORIA !Melhor ter coragem pra fazer do que se omitir o que é claramente muito mais confortável para o agente púbico. Dória tem coragem de agir embora alguns insistem em criticar boas ações só porque não estão no seu campo ideológico. Essa pequenez política faz do Brasil ser o que é. Uma grande torcida de futebol! Lamentável!Criticar ação do Prefeito João Dória é fácil ...... tomar alguma iniciativa para acabar com essa vergonha é para poucos ...... Força João Dória ......Doria sera o nosso presidente, não esta envolvido em corrupção, desce a lenha no molusco.Este é o Prefeito que TRABALHA e fará muito mais. Morei em São Paulo e tenho muita saudade.Estão pegando no pé do Doria achando que vão depreciar seu nome para 2018. Estão redondamente enganados. À medida que se aproxima as eleições, Doria cresce cada vez mais. O povo o escolheu e isto é notório.Pelo visto :: nosso futuro PRESIDENTE.Futuro presidente. ....Não vejo ninguém mais competente que o Doria ,meu voto é dele!Dois nomes de alto impacto e competência. Força DóriaTem que privatizar!!! Pq o município tem que ser dono de Estádio de Futebol, Autódromo, Centro de Exposição e etc... A prefeitura precisa focar em Saúde, Educação e Segurança. O resto privatiza!!!Parabéns ao Prefeito , enfim um homem de pulso neste pais e que não se dobra a bandoleiros e e gente que só pensa em destruir , deveriam fazer o mesmo no restante do País. Afinal quem paga tudo é o dinheiro do trabalhador... aquele dia que é descontado dos nossos salários.Quer fazer comunista ficar doente, mexe no dinheiro dele---- A forma correta de educar comunista é faze-los gastar do próprio dinheiro...Multa bem alta no rhabo dos sindicatos e partidos politicos envolvidos com a baderna e quebradeira.. Eles recebem altos valores de Fundo Partidário e Contribuição Sindical, multa alta e logo resolve o caso... O governo P T ralha investiu 01 BILHÂO nos sindicatos em sua administração, isso ninguém mostra.Depois dessa atitude do Prefeito Doria ,nunca mas os sindicatos vao mandar seus piratas para as ruas. Porque se mandar vai ter que gastar muito com as indenizações. Também os bancos deveria também cobrar seus prejuízos.PARABENS DORIA,,,,,MANDA A CONTA PRA ESTES ATOASAté que enfim um Prefeito de PersonalidadeO Dória está correto, isso é greve de mortadela contra o Moro.Há um abismo entre a inteligência do PRESIDENTE DÓRIA 2018 e, a PTbada/BolsoTONTOS invejosos de plantão. . kkkkkkDoria melhor prefeito do Brasil.Doria 2018Tomara que ele consiga bastante investimento pra minha cidade... Boa sorte Dóriaaaa...SIM ..!! . . Tomarei conta da cidade de SP enquanto o DÓRIA PRESIDENTE 2018 capta recursos $$$$$$ para fazer a cidade melhor..!!Valeu Dória!Valeu, Obrigado por fazer o trabalho para o qual a população te elegeu. ou seja. Obrigado por cumprir com a sua obrigação.Adorei a iniciativa Doria, cidade de São Paulo limpa e organizada.A turma da esquerda petistabpassou 14 anos roubando, destruíram o país e a glo.b.o não falou nada. Agora uma coisa tosca dessas com o Doria já gera esse alarme todo. Que piada. Tão com saudadea dos anuncios milionários da j.bs, eletrobras, petrobras, oderbrecht, etc? Tuso com ator de vcs? SAO NOJENTOS! ACABOU A MAMATA....POR ISSO TEM MEDO DE QUEM É LIBERAL...MENOS ESTADOSe privatizar fica é melhor ainda, já viu serviço público de qualidade ?Legal mesmo é votar nos outros da E S Q U E R D A ban,di,da que deixa o resto dos Estados falidos, né mortaNdela ?Isso tem um nome: INVEJA da concorrência de políticos amadores e populistas, que nada fazem além de prometer e não cumprirem, e ainda roubam botando a culpa em inocentes. DÓRIA PRESIDENTE!!!Mais uma vez o Dória vence os Esquerdistas.Fale por vc... Estou adorando o Dória diante dá prefeitura.essa Edite deve morar numa cidadeca governada pelos PeTralhas. onde pode tudo!!Esse é O PREFEITO. Carnaval tem que acabar, é festa para 0 7 4 r i 0 sDória, para presidente!!!!!!!!!!!!!!!!!agora SP tem comando!! Parabens Joao Doria!!!Papinho de esquerdista. Desculpinha esfarrapada pra manter uma pessoa que não faz nada o dia todo. A Maioria é bilhete Único, manter um cara pra ficar batendo uma moedinha no ferro pra avisar o motorista que o passageiro ja desceu, faça-me o favor, o retrovisor do motorista ja faz isso. Cobradores a Maioria são todos encostado, que não se preparou para o mercado de trabalho no futuro, e agora vem colocar a culpa no sistema. A tecnologia é para facilitar, quem não se preparar para ela, esta fora.Jean Valjean , esse nome lhe cabe muito bem tanto quanto aos \"miseraveis\". Porém seu mal e falta de educação mesmo. Polícia nenhuma vai ficar de prontidão pra pegar pichações. Isso é mimimi. Aceite a Vitória do Doria. .Parabéns Doria ate que fim apareceu alguém com coragem pra enfrentar esses marginais que danificam bens públicos e privadosGrafiteiro de bu é lola........o Dória esta certíssimo.Esse cara se sair pra Presidente, ganha já em 2018. O cara é fera!Isso mesmo Dória cacete nesses pichadores.VAI PICHAR A GELADEIRA DA MÃE, NÃO TEM CORAGEM DE PAGAR PARA APRENDER A GRAFITAR E AINDA QUER TER RAZÃO, DORIA TAMO JUNTOPARABENS JOAO DORIA.........PELA LIMPEZA....Manifestante em pleno dia de semana = V.A.G.A.B.U.N.D.ODÓRIA EU TE AMO! VEM SER PREFEITO DE IGREJA NOVA ALpoisé, hj em dia mtos especialistas comentando no G1Acabou a era dos m/a/r/g/i/n/a/i/s. Agora é Dória colocando SP na linha depois de anos de desgoverno.Esse Dória vai revolucionar o modo de fazer política no Brasil, boto fé nele.Tem que prender mesmo.Pichador tem que apanhar de cacetete até desmaiar. Parabéns aos policiais que picham as caras de pichadores. Cadeia para porcos pichadores.Não esta gostando do aumento das passagens..... então vai morar em CubaMas vamos lá, o que Dória tem haver com o aumento? Sou a favor da manifestação, só que evidente que os estudantes são manipulados por partidos políticos. Por essas e outras, que prefiro nunca apoiar esse pessoal.Por que esses sanguessugas parasitas não protestam a favor dos 13 milhoes de desempregados? Por que não protestam contra o maior culpado, chefe da quadrilha 9fingers que ainda esta solto? Esse zumbi molusco que gerou tudo isso. Vai ter uma hora que nao vai ser a PM que ira pra cima desses vandalos! Vsi ser quem ja perdei a paciencia com a esquerda!!! Cantem aquela musica : \"'inuteis, a gente somos inuteis\" nem para estudar servem!!!!pixador deveria apanhar pra aprender a não sujar a cidadeNossa! O Dória não conseguiu consertar em 1 dia o que o Haddad estragou durante 4 anos!! Ohhh!Só refrescando a memória dê algumas pessoas. De todos os Prefeitos que São Paulo já teve, qual deles realmente já começou trabalhando de verdade já no primeiro dia de Mandato? Maluf super faturava tudo! Pita não aparecia para trabalhar! José Serra Chegava ás 11 horas da manha e as 14 horas já ia embora! Marta começou a trabalhar no final de Janeiro e em Abril, foi para Paris descansar! Gilberto Kassab teve uma Gestão melancólica! Haddad prometeu mundos e fundos e só começou sua Gestão no fim do Mandato!Não Sr. Vigario... Acho que o Doria ainda não mostrou ao que veio, mas o pior Prefeito da história de São Paulo é o seu amigo Haddad.SERIA MAIS UM POLITICAMENTE CORRETO QUERENDO TRAVAR A POLITICA MODERNA QUE O DÓRIA TENTA IMPLEMENTAR EM SAMPA?Esse aí não aguentou o ritmo do Dória kkk acostumado com o estado lento, gordo e burocrático achou que seria só moleza nesse cargo que tava ocupando. Manda bala prefeito, emprego é pra quem sabe trabalhar. Acelera!AceleraSaoPaulo, JoãoTrabalhadorA União, Estados e Municípios, só devem administrar áreas estratégicas, segurança e de comprovado interesse social a restante tem que ser concedido a iniciativa peivada. Está certinho Doria.Pq a prefeitura tem que ter um Centro de Exposições? E uma empresa de Turismo? Privatiza... A Prefeitura deve focar em Saúde, Educação e Segurança Pública...MST, CUT.. e estudantes da USP (grátis) que ficam trinta anos para se formar em (filosofia, história, sociologia....)Tem que cortar mesmo. Fazer filho é fácil, mas manter um filho que é difícil. Quem faz filho tem que ter a consciência dos gastos e parece que quanto mais pobre mais filhos querem ter.Sr. Thomaz Gold, eu acho que você deveria se informar direito antes de começar a defecar pela boca, o Dória disse que irá rever os contratos, pois ele pretende foca mais na parte do ensino dos alunos, que é o que o país mais precisa neste momento.parabéns, nosso futuro PRESIDENTE DO BRASIL e que DEUS o abencoe.Gestão Doria inovando SPDória presidente em 2018.pARABENS D0RIA!isto Dória , passa por cima dessa turma de viciados em cargos e salários sem apresentar resultados : e quanto as criticas aqui são da turma da merenda (ex-mortadela ) que querem o atraso ao invés da responsabilidade com trabalho e resultados , parabéns Dória acelera e rumo a Presidência em 2018DÓRIA PRESIDENTE 2018 à 2026. .!!. . . Podem surtar seus mortadelas inúteis. .!não deu certo rua, ta certissimo! É isso que a gente espera, poder publico não é lugar pra tentar \"fazer a pessoa trabalhar\", não trabalhou? tchau! RespeitoCaro Dória, moro no rio, temos poucas informações sobre seu trabalho em SP, mas espero de coração que você se candidate. chega desses velhos politicos travestidos de siglas diferentes. Administre o Brasil como se fosse sua empresa ou mesmo sua casa. Farei qualquer campanha pra você se necessário. absDória é um aparecido, vai onde tem público, a cabeça dele já está na presidencia em 2018. Espero que quebre a cara e perca a presidência e a prefeitura, assim aprende a pautar suas ambições. Seu governo não é ruim, é um dos melhores que SP já teve, no entanto, está começando a se perder, pensando mais em 2018 do que na cidade. SP sabe eleger mas também sabe tirar.. Abre o olho Dória.O Passe Livre é para estudar e não para ficar dando rolêzinho às nossas custas. Vão estudar...DÓRIA PRESIDENTE 2018 à 2026. .!!. . . Não aceito réplicas, obrigado..!!Traduzindo: atitude de esquerdiotaTinha que ser do PT eita povinho aloprado esse do PT, sem um pingo de educaçãoA esquerdalhada sempre fez isso. Militantes de esquerda são os culpados de nossa crise, em vários níveis.Dória 2018!Dória , Jamais vimos um prefeito como esse !!!! Que Deus te abençoe e que o Brasil jamais volte para traz com esses esquerdopatas que vivem do dinheiro público . Dória Presidente !!!MORTADELAS. . Está circulando na web, vídeo mostrando o MOLUSCO sendo expulso do Restaurante Camarões na Bahia, a base de vaias e FORA PT ..!!. . . Outro vídeo, mostra seu comício VAZIO e, os poucos mortadelas entrevistados, confessando que receberam 25 reais e um lanche pela participação. . kkkkkkkkkMuita mortandela ,kkkkO João Doria, é preparado, rico, não depende do governo. Espero que o pessoal saiba escolher na hora de votar. É começo da caminhada sem volta., ALCKMIN presidente .finalmente ... formado em marketing e jornalismo... trabalha desde os 13.. pagador dos impostos e cumpridor de lei.... vamos ver se o povo acorda e vota direito dessa vezDoria incomoda os vermelhinhos bandidos, isso é muito bom. Sabem que jamais irão voltar ao poder, por isso partem para xingamentos, baixarias, etc.a direita não sabe enxergar a realidade... é cego mesmo.DÓRIA PRESIDENTE 2018 à 2026. .!!. . . Aos parasitas sociais. . O choro é livre..!!DÓRIA ESTÁ CERTÍSSIMO. .!!. . Se não produzir, põe na RUUUA..!!DORIA HUMILHOU OS PETRALHAS EM SÃO PAULO E VAI TRUCIDAR O MOLUSCO LADRÃO NA ELEIÇÃO PRESIDENCIAL !!! ELES ESTÃO DESESPERADOS E MORRENDO DE MEDO !!! KKKKKDEIXO AQUI MEUS PARABENS AO PREFEITO DORIA.....Doria tem muita noção de eficiência e gestão. Está mais do que certo.João Doria presidente, ele vai demitir quem não trabalha corretamente, parabéns prefeito.ELE VAI DEMITIR MUITOS INCOMPETENTES, E VOCÊS DEVERIAM AGRADECER, CAMBADA DE BURRO.Melhor prefeito do Brasil. Me orgulho de ter votado nele!Privatiza logo o autódromo de Interlagos,Sr prefeito!Parabéns Doria, parabéns Temer. A caravana passa e os cães ladram..O Dória daria um ótimo ministro do planejamento.aproveita as ciclovias e vão de bike.CORTA TUDO DORIAAAAAAAAA !!! SP NAO EH MAIS GOVERNADA POR MORTADELA ESQUERDOPATAAAAAAAAAPrivatiza tudo assim ninguém tira $ de lugar nenhum, os reds são contra porque sabem que vai acabar a verba da mortadela, os caras invadem um orgão público e acham que estão certos, nunca querem dialogar o negócio é tomar na marra e fazer arruaça, apoiam ditadores como che e maduro, dizer o que mais ?Todo mundo de iPhone, com suas bandeiras do PT da CUT, da UNE, e outras, registrando o momento histórico para postar no Facebook e/ou compartilhando no WhatsApp! Tudo dentro da maior coerência possível e imaginável.O Brasil precisa de um chefe de estado linha dura pra impedir que esse tipo de coisa aconteça, isso é uma afronta ao estado democrático de direito. Não conseguem no meio representativo e tentam na força, no grito. Foi assim que começou na Venezuela, hoje vemos como eles estão. Abra o olho Brasil, esquerda nunca mais.Super parabéns Sr Prefeito!!! Um exemplo de competência, determinação e dignidade. Nao desista... esse é um trabalho contínuo, a longo prazo mesmo... e não se deixe abalar pelas pragas que só tentam atrapalhar esse seu brilhante trabalho! Parabéns Sr Dória!!!o João Doria está fazendo um trabalho serio na CRACOLÂNDIA (CEMITÉRIO DE VIVOS), em poucos meses de governo fez mais ações do que o HADAD em quatro anos, quem conhece o local sabe que é um verdadeiro inferno e as pessoas não respondem por si, cremos que com insistência e vontade irão conseguir exito, claro que os traficantes não querem de forma alguma a recuperação dos drogados, perderão uma verdadeira fortuna.Impressionante a capacidade de realização de Doria, o projeto do parque ficou quatro anos empoeirando na mesa do haddad e em poucos meses Doria tirou do papel. Parabens ao prefeito que honra cada um dos votos que o elegeram em primeiro turno!Dória 2018 !!! Melhor prefeito do país...Parabens ao Doria por mostrar a diferença entre falar e realizar!Dória 2018 presidente!Orgulhoso de ser Paulista, e tudo isso sem exército nas ruas para tentar inibir a violência igual um outro Estado falido por ai, Parabéns São Paulo, vc é um exemplo para esse País !Podem falar quanto quiserem falar. Pelo menos esse cara tá fazendo o que determina a lei, ao contrário dos outros políticos que só mandariam o assessor ir buscar uma carteira nova ou transferir os pontos da carteira. Pois é, um Cara Rico desses além de poderoso só era te pedido pra transferir pra seus funcionários um pouco dos pontos e pronto, tava livre. Mas não. Ficou com as multas respondeu por elas. Parabéns Dória!Não voto no PSDB mas parabéns ao prefeito.PARABÉNS DÓRIA ....Dória Presidente 2018REALMENTE O DORIA ESTA DE PARABÉNS ISSO DEMONSTRA QUE ELE É UMA PESSOA JUSTA.A radio da Globo errou feio, a CBN que fabricou essa historia falsa de que a prefeitura tinha molhado moradores de rua com água gelada (sic!). As mentiras da rede Globo contra o Doria não param. Isso não é jornalismo, isso é partidarismo sem pudor. Não ouço mais a CBN, radio mentirosa!Fake news tentando denegrir a execelente administração do João DóriaDÓRIA PRESIDENTE 2018 à 2016. .!!. . . . Aos mortadelas, o choro é livre ..!!!!!Parabéns Dória, se fosse outros prefeitos apenas diriam que iriam \"investigar\" as denuncias e nada seria feito.Pro pessoal que tá xingando o Doria: e no tempo do Ruindad, quando essa mesmíssima propina corria solta e absolutamente nada era feito, aí sim que era bom, né?PARABENS DORIA, TOLERANCIA ZERO.Lamentável ! O jogo sujo é culpar o Dória , ou melhor induzir o leitor achar que ele é o culpado . Não sabemos qual o acordo debaixo dos panos 1 ?Dória 2018, presidente!Único prefeito da América Latina convidado dos USA, está viajando com um secretário e tudo bancado do próprio bolso, não está lavando dinheiro através de palestra já que não recebe nada por elas, as PTralhadas que adoram uma bolsa isso e aquilo pirammm kkkkkkkkkkkkkkkkkkkkkkkEsse anti Dória só sabem dar risada pq estão engolindo SECO o novo prefeito, C.H.U.P.A!!Os mortadelas piram.Alguém aí em Sampa quer trocar o Doria pelo Crivela? O Rio agradece.Incansável prefeito Doria! Um verdadeiro exemplo internacional de líder gestor, sendo justamente reconhecido pelo trabalho realizado. Conseguindo soluções para São Paulo mesmo sem caixa para licitações (caixa que vai depender de desestatização). O custo de implantar 10.000m2 de muro verde no coração de São Paulo com sistema dedicado de irrigação é muito maior que implantar mudas em campo aberto em local não urbanizado. São Paulo ganhou muito com essa negociação, ainda mais aliviando a poluição, e combatendo pichação, reduzindo a poluição visual.Globo sempre querendo queimar a imagem de Doria, induzindo o leitor, com o titulo da matéria, de que o prefeito só viaja. Melhor titulo seria: DORIA É CONVIDADO A PALESTRAR PARA PREFEITOS DOS EUADoria tem razão. Ele está apoiando as reformas e não o Temer e isso é pelo bem do país. A oposição por sua vez, só trabalha pra afundar o governo Temer e consequentemente afundar o pais e transformar numa Venezuela. E por mim, Doria pode vender tudo o que gera custos para os cofres publicos. Meu bolso agradece, ok.Dória para presidente!!!!!!!! Eu apoio!!Parabéns Doria! Deve estar levando uma boa porcentagem da diferença!Há tantos anos o parque vem abandonado e travado por disputas judiciais e nosso prefeito finalmente conseguiu destravar a área, parabéns ao Dória por mais essa conquista para nossa cidade!PARABÉNS AO NOSSO EXCELENTE PREFEITO DORIA !!!Infelizmente este parque será uma copia do Trianon onde poucos se arriscam a circular.. Mas o Dória esta fazendo isso com a melhor das intenções... mas a galera que pressionou o prefeito pra ter esse bendito Parque vai tratar de depreciar toda aquela região formalizando o seu \"reduto\".. Podem esperar...Empresas, autarquias, fundações, o nome que seja e que cuidam de ativos da prefeitura de São Paulo são máquinas ineficientes e cabides de emprego. Geram despesa, pouco retorno e não cumprem função social. É um monte de penduricalho encostado no governo e pagos pelo contribuinte. Parabéns, Prefeito Dória e deixa os estatizantes chorarem. Passe a vender lenços prá eles.EM FRENTE DÓRIA , ESMAGANDO A ESQUERDABoa Dória, privatize tudo ! Não aguento mais pagar os salários desses funcionários públicos parasitas e sanguessugasO melhor prefeito no últimos 10 anos. Espero que ele reconsidere a candidatura á presidência e tente o governo do Estado. Já tem o meu voto.Parabéns prefeito Dória...Fez mais que muitos prefeitos no BrasilParabéns joão Doria, colocando sempre em cheque e mostrando os planos muito bom vamos erguer essa cidade de novo!!!! ACELERA SÃO PAULO...... OS CRÍTICOS DEIXA ELES FALAR SOZINHOS.Doria o melhor Prefeito do Brasil.Votei no Dória e sou do tipo que acompanha o trabalho pra poder cobrar depois, afinal está difícil confiar em político no Brasil. Agora o cara fez mais coisas em 6 meses do que muitos em anos. Isso é fato. Foi bem deselegante a globo cortar sua entrevista e não dar oportunidade de resposta à critica, na minha opinião, injusta.O Dória está indo muito bem. Só a Globo e a Folha de São Paulo é que não acreditam.Parabéns Prefeito! o Sr melhorou e muito a cidade de SP. As ruas estão limpas! As pessoas de bem com certeza estão felizes com a administração do Sr.globo, pare de menosprezar o Dória, pq PREFEITO igual a ele não há, a unica coisa q não presta no estado de SP é a TV GLOBO. devia vcs terem feito um balanço da gestão anterior, e Dória não é Deus para cumprir as promessas em 7 meses, ele ainda tem 3 anos e meio, se vcs não sabemViva as privatização!Dória Presidente!É INCRÍVEL COMO O G1 FOCA SUAS MATÉRIAS SOMENTE EM PONTOS NEGATIVOS, MESMO QUE INSIGNIFICANTES A RESPEITO DE TUDO DA GESTÃO DÓRIA ...Quando entra um prefeito para por ordem na casa, os demais sanguessugas do dinheiro público tentam atrapalhar! Privatizar só traz benefícios: a prefeitura não precisa gastar dinheiro na manutenção desses locais; esses locais vão continuar gratuitos para a população; as empresas que ganharem as licitações vão investir em melhorias; o dinheiro que a prefeitura gastava com esses locais passa a ir pra onde importa de verdade (saúde, educação, segurança). A quem interessa atrapalhar isso? Os que sugam e desviam o dinheiro público e os funcionários que fazem corpo mole no trabalho. É simples.O Estado não tem competência pra administrar nada, além de empresas públicas serem sempre foco de corrupção. O povo não tem conhecimento técnico necessário pra decidir nada a esse respeito. É um erro achar que um plebiscito pode tomar a decisão correta. Privatiza logo que vai ser melhor pra todo mundo.A iniciativa privada não tem obrigação de ficar sustentando pessoas que só sabem fazer filhos e acham que o Estado tem o dever de sustentar. Se essas pessoas querem progredir, que façam um planejamento familiar, comecem a estudar e procurem qualificação, pois estamos cansados de ficar sustentando aqueles que não querem fazer nada, a não ser fazer filhos!Parabéns Dória, nós cidadãos de BEM, estamos ao seu lado, caminhando e trabalhando juntos. Excelente gestão, tem que manter esse pique, João Trabalhador; E parabéns pelas intervenções na CRACOLÂNDIA !Esse é o desgoverno do Doria. Atropela Dória!!!.Já está mais que aprovado pela população, porque o Dória sempre foi transparente nas campanhas dizendo que iria fazer as privatizações/concessões. Foi eleito no primeiro turno, precisa perguntar pra população mais o que?Eu gostaria de trocar Doria çpor Crivella. Doria vem pro Rio e o Bispo vai pra São Paulo.Doria está certíssimo. Privatisar é um atributo de gestão e não de legislação. E de gestão Doria entende.Parabéns DóriaBoa Dória! Perfeito!Ciclista não respeitam as leis de trânsito, nunca esperam semáforos abrirem para eles, não respeitam os pedestres e andam igual loucos, isso quando não andam em carreatas e querem fechar a rua só para eles. Os motoristas podem sim ser responsáveis por muitos acidentes envolvendo ciclistas, mas a maioria dos acidentes e mortes são decorrentes da própria negligência dos ciclistas.parabens doriaParabéns Prefeito Dória, cada dia que passa estamos mais ORGULHOSOS do seu excelente trabalho a frente da nossa Capital, fazendo o que muitos outros não fizeram em décadas. Avante locomotiva, Avante Brasil !!DÓRIA em 5 meses . . Já fez muito mais que o TONTOnaro em 7 mandatos (28 anos de inutilidades). . . . DÓRIA PRESIDENTE 2018 à 2026 ..!!JOÃO DORIA PRESIDENTE 2018!!!!!DÓRIA PRESIDENTE 2018!!! Quem concorda dê um Like!BOA DÓRIAEu duvido, essa gente não paga agua e luz ou seja pode ate pagar uma taxa se é que paga, vcs acham que a metade vou chutar alto, sairia para um ap, onde ira pagar imposto agua luz, rsrsr vcs tão de brincadeira. Isso acontece em outras cidades e não deu certo, boa vontade não falta. Doria esta certoApoiado, Prefeito! É pra frente que se anda! Nada de piedade de criminosos, quem comete crimes, principalmente tráfico de drogas, deve ser severamente punido!QUEM DE SÃ CONSCIÊNCIA PODE SER CONTRA A REVITALIZAÇÃO DO CAMPOS ELÍSIOS? QUEM É A FAVOR AQUELE CAOS HUMANO E URBANO? OS VICIADOS ESTÃO DOENTES E NECESSITAM URGENTEMENTE SEREM INTERNADOS. O MOMENTO É AGORA NÃO PODE TER RECUO.FORÇA DORIATô de saco cheio deste \" politicamente correto \" imposto por esta esquerda caviar. Força Doria!!!!Parabéns Dorinha, voce é o cara mesmo. TEm iniciativa e faz o que tem que fazer. OS criticos sempre acham coisas em açoes que são feitas, só não faz em cima do que eles não fazem. Tem problemas de saude publica, tem sim, e voce sabe bem disso, porém tinha que dar um ponta pe. Agora veja se caça todos os traficantes.Mais importante que o montante enviado pelo governo federal será a correta aplicação desses recursos. A iniciativa promovida pelo prefeito paulistano, ainda que mereça críticas, é louvável, sobretudo pelo fato da Cracolândia ser um problema agudo da cidade. Mas, além disso, é indispensável que os usuários tenham tratamento e estejam em condições de recolocação no mercado de trabalho.Dória é o cara. O Brasil o espera..........MITO 2018.....MITO 2018...........MITO2018.............Lá na Indonésia ou nas Filipinas o governo resolve o problema com menos de MIL reais. Aqui gastam uma fortuna e tudo continua na mesma. Mito 2018!!!vejo os famosos intelectuais de esquerda que se contradizem. São a favor das drogas, porém ao mesmo tempo querem que cuidem delicadamente com o viciados em drogas. Em exemplo o crack que o viciado não tem mais controle sobre si. Mas os intelectuais pedem que o estado se comprometa a corrigir o problema. Esquerda adora atolar o estado de assistencialismo e tudo mais. O dia que caírem a ficha vão entender que estado grande é estado roubusto.o prefeito esta certissimo quando diz que um dependente não tem condições de decidir pelo tratamento . sou a favor da internação compulsória sim, e espero que ele fique firme nesse projeto e que ajude muitas pessoas naquele lugar.Muito sensacionalismo em volta de uma ação que pode gerar muitos frutos bons , salvando a vida das pessoas. Muitos criticando , mas poucos tiveram a coragem e iniciativa que ele esta tendo !perfeito, Doria 2018Dória meu prefeito, meu presidente.os esquerdinhas piram!DORIA PRESIDENTE 2018 !Finalmente São Paulo está mas mãos de um gestor profissional e competente. Agora sim, entramos no século XXI.O problema da crítica idiota é achar que Doria vai, em 4 meses resolver os problemas que jamais foram resolvidos pelos prefeitos anteriores. O cara está buscando soluções inovadoras, diferentemente dos outros que só arrumaram justificativas pra sua inoperância.o dória pelo menos está mostrando um pouco de trabalho, ja o pastor só falou em blindar escola... só está crentelhando até agoraBoa presidente 2018.Parabéns Meu Presidenteo cara quando é visionário tem sede de causar uma mudança.Doria enxerga São Paulo no patamar de Londres e Tokyo, parabens! Chega de pensar pequeno, pena que assimiu na criseos mortadelas piram estão acabando com os seus rebanhos.Parabens ao povo de são paulo, estão tendo a cidade que merecem. diferente de nos cearense fortaleza está tomada pela bandidagem, e dorgados.Dá-lhe Doria o meu prefeito... pra frente Doria...Doria, trate de deixar tudo encaminhado para que seu vice possa continuar com o cronograma de gestão, mostre a ele o caminho das pedras. Em 2018 é a vez do Brasil ser contemplado com sua Gestão.Quanta diferença ... O poste do molusco disse que iria ao \"trabalho\" de ônibus, A demagogia não durou uma semana.... O Dória, em 27 dias , sem gastar um centavo com PROPAGANDAS em JORNAIS, já fez o BR TODO saber sobre a campanha SP CIDADE LINDA (e limpa).. São INÚMERAS as calçadas sendo reformadas e muros sendo limpos sem o dinheiro da prefeitura.. Ponto tb para a solução dada para zerar a FILA de exames médicos, que atraiu até HOSPITAIS de ponta, e a prefeitura pagará apenas a miséria do valor que está na tabela do SUSÉ incrível a quantidade de pessoas criticando, cegos (pra não falar outra coisa), aceitem, o cara está trabalhando, está fazendo SP andar novamente, ptzada, não é possível que vcs sejam tão bur**s assim. A lavagem cerebral foi feita com excelência na cabecinha dos mortadelas... triste!Boa Dória, manda ver. Vamos reconstruir esta nação.Parabens Dória, exemplo de trabalhador aos poucos ele vai mudar a maior cidade do país.Uns podem dizer que é palhaçada, outros podem dizer que é marketing outros podem falar as asneiras que quiserem. Eu digo parabéns ao Doria e torço muito para a cidade de São Paulo.Eu quero esse Dória fora dá prefeitura , não dá , povo , abre os olhos , ele não pode ser prefeito , pelo amor de Deus , tirem ele de lá e o elejam presidente . DÓRIA URGENTE, TEM QUE SER PRESIDENTE .Muitas pessoas sendo atendidas, parabens pela coragem Doria! Quem passou quatro anos fingindo que nada acontecia enquanto o número de mulheres na cracolandia triplicava e o número de estupros subia exponencialmente não tem moral para criticar quem encara o problema de frente. Sem esconder nada, é assim que deve serG1 só esqueceu de mencionar que o Haddad não estava usando o dinheiro das multas para os devidos fins. estava usando para outros meios. mas o G1 tenta desqualificar tudo que o Dória faz ou diz. agora sim o dinheiro das multas vão para o Lugar certo. Parabéns Dória esta fazendo a coisa certa.Isso ai Doria,os acidentes só acontece por imprudência.Voce esta mais que certo.Doria ao meu ver parece ser alguém com jogo de cintura e vontade de fazer algo. Diferente da maioria que passou e só embolsou. Torcendo para que por trás disto os interesses sejam exclusivamente o benefício da sociedade. Sucesso na gestão.Dória, futuro Presidente do Brasil.Doria é o cara!!!!! parabens!!!Parabéns Dória.Dória Neles !!!!!!!Globelezas é bom vcs entenderem de vez que a maior parte dos cidadãos de bem da cidade de SP, apoiam as medidas tomada pelo prefeito João Dória, algumas atitudes podem não serem as ideais, mas o conjunto da obra foi benéfico, foi recuperada uma área que estava degredada e abandonada há muito tempo pelas autoridades. Seria bom os srs reverem as suas reportagens se é que querem, ainda , o apoio de SP.Parabéns Prefeito e GovernadorParabéns Dória!!!A pergunta que muitos não querem que eu faça: por que na Indonésia não tem cracolândia?PARABÉNS DORIA, vc orgulha sampa!!!!Porque o Haddad não ganhou dinovo mesmo ?Prefiro Doria com 50 promessas do que qualquer outro político com 1.000.000... Porque eu sei que o Doria cumpre as 50, enquanto os outros!!!O Dória é o prefeito que o Rio precisa !Crivella, o braço direito do Edir Macedo, em troca com o Dória. Isto é brincadeira, sou um milhão de vezes o Doria, do que este tal de Crivella.Parabéns prefeito Dória, quem dera se tivéssemos outros Dórias por aí. Próximo presidente do Brasil.DÓRIA = PRESIDENTE 2018 até 2026. . . !!!Enquanto Dória consegue doações para a prefeitura o Haddad só roubava o pouco que tinha.Me tornei fanzaco do Doria quando ele apresentava o Aprendiz. Meu presidente de 2018.DORIA PRESIDENTE 2018 PRA O BRASIL MUDAR REALMENTEGrande Dória. Parabéns pelo trabalhoO Dória pode transformar São Paulo na Suíça que nem assim esquerdista dá o braço a torcer...Quanto tempo existe essa cracolândia? quando um prefeito ou uma autoridade quer fazer alguma coisa para solucionar o problema, vem a Justiça e Barra, vem os direitos Humanos e Barra, vem uns Idiotas e fazem bagunça, manifestação contra acabar com a cracolândia, Dependentes químicos querem ser tratado por bem tem a possibilidade, não quer tem que ser internado a Força e acabar com essa palhaçada no maior estado do Pais, a maior economia do Brasil.A população é burra, são tudo \" do contra \", se Doria jogar água neles vão falar que sofreram abuso, e que foram estraçalhados e etcGostaria de entender de onde os comentaristas do G1 tiraram a ideia que todo ciclista é pethista????? Que pensamento curto!!!!! Sou ciclista, votei no Doria e tenho direito de pedalar em local seguro.olha a fitura \"PoHNHAREMOS\" mortadela pura da roçaDORIA É O MELHORParabéns ao prefeito pela bela atitude!melhor prefeit0 de SP!Grobo, exprica dereito pro povo..... os medicamentos ainda não chegaram por POBREMAS BURROCRÁTICOS dos laboratórios, e não por culpa do Dória!!!!!!!!!!!!!!O CANDIDATO A PRESIDENTE DO DEM, SERÁ JOÃO DÓRIA.o Doria trabalhou muito sim para ser um empresario de sucesso.Doria... vc esta sendo um bom prefeito, se esforçando para trabalhar e mostrar a esse Brasil de ignorantes e corruptos. Não merecia essa baixaria.... ainda não deu motivo para isso.Essa agressão da esquerdaIntolerante foi ótima propaganda para Doria, pois foi amplamente divulgada pela m1dia e agora não é mais um desconhecido no Nordeste.A mamata que me refiro é essa distribuição de recursos públicos à ONGs de esquerda, movimentos e ativismos sociais que desrespeitam a família, ao MST e sindicalistas que parasitas. Governo de esquerda sempre dá muita moral a essa gente, e isso não pode acontecer, eles que vão trabalhar de verdade.Privatiza tudo é acaba com cabide de emprego e greves e passe livre é o cacet3Grande matéria, onde fica claro o caráter legalista da atual gestão Dória, que só colocou em operação os drones homologados na ANATEL. Parabéns Prefeito! Continue assim!!Os mortadelas estão desesperados, Doria vai atropelar o PT em 2018.FINALMENTE TEMOS UM PREFEITO COMPROMETIDO COM A CIDADE. PARABÉNS PREFEITO.parabéns prefeitoparabens...mais uma melhoria....muito legal.Eh Dória, cheio de boa vontade e energia para trabalhar pelo melhor para São Paulo e seu povo, mas será que a truculenta oposição, o Ministério Público e a Justiça que por vezes parecem opositores da sociedade irão facilitar? Triste, São Paulo só não avança mais porque tem uns com os pés no passado!Parabéns à prefeitura. Mais uma ação eficiente desta administração. É isto que esperamos de um bom administrador.ótimo projeto!SOU A FAVOR DO TRABALHO QUE VEM SENDO FEITO PELO PREFEITO JOÃO DORIA. MAS ELE QUE É A FAVOR DAS PRIVATIZAÇÕES DOS PARQUES, QUEM VAI TOMAR CONTA DESTE PARQUE O PODER PÚBLICO OU A INICIATIVA PRIVADA.MEU DEUS!!!!! TEM GENTE AQUI DEFENDENDO CIRO GOMES E MALHANDO O DÓRIA?? POR ISSO QUE ESTE PAÍS NÃO AVANÇA MESMO, POR CAUSA DESSES SEM CÉREBROS. É DURO TER QUE CONVIVER COM IGNORANTES.Dória está correto, o MAIS IMPORTANTE é a economia do País. Avante Dória, AVANTE SÃO PAULO !Prefeito Dória a POPULAÇÃO DE BEM, está ao seu lado. Continue realizando seu trabalho e PODE PRIVATIZAR SIM, VOTAMOS NO SENHOR PARA ISSO MESMO !!Pelas bandeiras, fica claro que não passam de um monte de energúmenos bancados pelos partidos de esquerda, cadê a polícia para retirar esse esquerdopatas invasores?Grupo de mortadela desocupado.PARABENS POLÍCIA MILITAR , PARABENS DÓRIA .É isso ai Dória !!!! Rumo ao desenvolvimento .Parabéns ao prefeito D0ria... Aquelas pichac0es eram ridiculas e só causavam poluiçã0 visual e desgate na visual-arquitetônica da cidade, olha c0m0 o verde deu um \"quê\" de cidade-verde de primeiro mundo!Parabéns Prefeito Doria pela excelente gestão...doria está super correto, os estudantes só podem ter passagens gratis para estudar mesmo, eles querem ficar passeando durante o dia afff gentalha desocupada, e quanto a privatizar é otimo, pois os funcionarios publicos nunca trabalham, só querem saber de fazer greve, parabens ao sr doria, demita todos eles!Pichador é bandido, tem mais é que ser preso mesmo. Tinham que obrigar eles a indenizar a todos donos de imóveis que eles prejudicaram. Forçar eles a pagar pela restauração do lugar que estragaram, nem que tenham que vender o rim pra conseguir pagar. O mesmo pra quem rouba o alheio.Doria presidente 2018Uns gatos pingados contra a modernização das estruturas públicas. Querem continuar usando o serviço público como cabide de emprego, pois fazem corpo mole pra trabalhar e não seriam aceitos em nenhuma empresa privada. O servidor público honesto, que trabalha, rala, não está nessa ocupação fajuta de desesperados. Pessoas que atrasam o país. Aqui não é Venezuela! Tchaaaau, esquerda radical, vocês já eram.ESSE TRABALHA... E A PETRALHADA MORRE DE RAIVA... K ACELERA DÓRIA!Este sim é um prefeit0 que trabalha pra cidade... Aquele v.agabund0 daquele retarddad trabalhava para o pr0jet0 criminis0 de p0der, só saia do gabinete para ir em eventos da CUt, MST e P3T3JoãoDóriaPresidente2018Prefeito bom,pilantras pira, parabéns prefeito!Nosso futuro presidente!Dória vem pro RJ por favor..nos salveVITORIAAAAAA DORIAAAAAAAA !!!! PODEM JOGAAA OVO A VONTADE !!! BAIXARIA A VONTADE !!! DORIA CAMPEAO !!!!!!Doria é um empresário acostumado a trabalhar muito. Cumprir as exigências dele deve ser algo difícil, por isso alguns políticos tem pedido pra sair.Passe Livre é só para estudar, e pronto!!! Para vender, dar rolezinho, paga. E para trabalhar, use o Vale Transporte.Melhor prefeito da história de Sampaio. Da- lhe Dóriaas mortadelas piram.. vai doria.. acelera spQue desespero P.T.zada! Essa esquerda dá nojo. Câncer do país!Excelente prefeito. Passou pelo processo todo mesmo sendo uma pessoa extremamente ocupada. Se fosse outra pessoa em outros tempos, já teria dado seu jeitinho de não passar pelo processo. Exemplo!Parabéns Sr Prefeito! Os petralhas estao loucos da vida de inveja por muito que o Sr ja fez em tão pouco tempo...Parabéns prefeito, acredito no Sr. que será feito uma ótima gestão, só lembrando que tem muito a ser feito, a cracolândia, é um assunto bem complexo esperamos vencer essa guerra...DORIA ESTA CORRETO, AÉCIO PERDEU...FORA, AGORA É DORIA GOVERNADOR E ALCKMIN PRESIDENTEDória 2018!DÓRIA PRESIDENTE 2018 à 2026..!!O Doria está se lixando para a cidade. O que ele quer é proporcionar bons negócios par as empresas. Aliás, o que fez Doria ficar rico? Puxando o saco de empresas e fazendo bons negócios para elas.MELHOR PREFEITO!!!Parabéns DÓRIA. .!!. . . Colocou um especialista no assunto.. . inverso dos PTebas que, distribuíram cargos para semi alfabetizados. .!!Dória Presidente!Parabens ao prefeito de SP, pois é trabalhador...e da o exemplo que todos em um cargo elevado tem q fazer...so sairemos dessa crise trabalhando.Parabéns Dória, alguma coisa tinha que ser feita, a mobilidade urbana em SP está ficando insustentável com esses carros de transporte individual privado. Centenas e mais centenas, tomando vagas de zona azul, vagas de deficientes e idosos. Todo segmento tem que se submeter as leis e regras determinadas pela constituição.MITO!Avante Doria!Dória é o cara!Doria seria um otimo presidente do brasil !!!Governador nao. Presidente 2018CEO Dória,não faz demagogia,e sim marketing.De qualquer forma,só pela disposição que vem mostrando,faz uma administracão melhor que 99% dos prefeitos do país.Precisamos de você no Rio Dória! Pezão, Crivella, Gatorinho, Brizola, Freixo, nós não aguentamos mais!! Queremos gestores e não picaretas.Enquanto o Dória trabalha,o Crivela é só blá,blá, blá,................,e trabalho que é bom nada !Dória sim é prefeito de verdade. Engulam essa petralhas.Prefeito Joao !!! parabéns...tem padres ai enchendo o saco e eu pergunto : porque não puseram os dependentes do craque dentro das igrejas deles pra ajudar ?? manda o padre calar a boca....aproveita e diz pro governador que quem arregaça as mangas é o sr. e não ele....e também enquanto os cães ladram o sr. passa com a caravana.....MUITO BEMDoria 2018Parabéns Dória, estamos com você, TODAS AS PESSOAS DE BEM estão ao seu lado. Estamos ORGULHOSOS PELA OPERAÇÃO !!Parabéns ao prefeito Doria! Esse sim tem vontade de fazer por SP! Já qro para presidente!!!!!Parabéns Dória, sua aprovação é de 75% ao contrário do que diz a manchete global anti SP. Tenho orgulho de ter votado em você, juntamente com toda minha família. Continue assim, São Paulo acima de TUDO !João Dória 2018! Acredito que ele tem capacidade e experiência pra resgatar a economia desse paísPrefeito perfeito. Conte com meu voto para Presidente em 2018.Avante Doria! O único que entende de economia dentre os provaveis candidatos em 2018É DORIA PRESIDENTE!!!!!!Mortandela é tão ignorante que não têm a capacidade de pesquisar sobre os nazistas e ver que eles eram do Partido dos Trabalhadores.Força Dória, a população de BEM está ao seu lado. Avante São Paulo !!Isso Dória, recupere o espírito bandeirante, apesar dos intrusos em meu EstadoMarketing ou não ele trabalha, ao contrário do antecessor.Doria é o cara!Mano, esse Dória é ZIKAFinalmente um Estadista, parcerias com o Mundo tdo ,nao com Venezuela e Bolivia q nao tem nada a agregar.Doria e realmente acelerado o cara nao para.DORIA PARA PRESIDENTE ...DORIA JA FEZ MAIS QUE O RADDARD EM 4 ANOSDória Presidente seria bom demais.Muito bem meu presidente!Boa Presidente!!! Doria 2018.Excelente gestor.Doria 2018.Doria não é político é empresario, outra cabeça...Parabéns.João Dória é a pessoa certa no lugar certo. Melhor gestor público dos últimos tempos. Tomara que venha ser nosso presidente em 2018.Avante Doria! Não esmoreça!ESQUERDOPATAS DEVIDAMENTE DESPACHADOS PRA SEMPREEEEEE !!!! NUNCA MAIS !!!! FALIDOOOOOOOS !!! PATO MARAVILHAAAAAAAAAAAA !!!!Parabéns futuro presidenteDoria...se esses caras tivessem feito a coisa certa eles estariam ai no teu lugar........esquece esses idiotas.Prefeito, ao contrario do que dizem, a maioria da opinião pública esta contigo, é só ver os comentários nos jornais. Não afrouxe, continue firme para o bem dos cidadãos e a preservação do direito de ir e vir.Força prefeito! As pessoas de bem e que trabalham estão com vc nessa! Deixa esses estudantes de Ciências Sociais espernearem com as suas baboseiras filosóficas. Eles não passarão!só existe trafico por que tem consumidor. Nem nas Filipinas onde ha pena de morte para traficante conseguiram acabar com o trafico. Total apoio ao Doria!!!! Faz... não fica na janela tacando pedra.\"go ahead\" Doria apesar dos esquerdopatas e da tv bozo, que não se cansa de veicular reportagens desqualificando a ação da prefeitura de SP.Força Dória e Geraldinho. As pessoas de bem estão apoiando o trabalho contra as drogas. Pela sua história, São Paulo não merece rotulo de cracolandia em sua regiãoE agora que o Alckmin está para ser investigado no STJ, só Dória para nos salvar da praga esquerdopata.Dória revolucionando o modelo de gestão pública. Parabéns ao prefeito de Sampa. Esperança que um dia esse modelo de \"não política\" onde o foco deve ser gestão seja levado a todas as prefeituras do país. Força e determinação aos paulistanos.É dória 2018!CompetênciaPrefeito TRABALHADOR incansável ... Já a pelegada do PETÊ, grevistas que fecharam ruas, causaram badernas estapearam pessoas, tocaram fogo em ônibus, não passam de PELEGOS do PETÊDalhe Doria! Fazendo valer os votos que ganhou, parabens!Dória é um ótimo exemplo para nossos jovens, sim. Pra começar, não tem esse seu discurso esquerdista falido e ultrapassado.TA CERTO DORIA, ESSA GREVE É POLÍTICA, ESSES SINDICALISTA NÃO TRABALHAM E QUEREM GANHAR NO MOLE.......TA CERTO.......VAMOS ACABAR ESSES SINDICATOS PARAZITAS............Privatiza que São Paulo decolaParabéns. Que satisfação em ver monumentos belíssimos, que pertencem a todos, que estão lá gratuitamente, serem restaurados no seu esplendor para serem admirados. Chega de pobreza de espírito.Parabéns, Dória, e parabéns às empresas cidadãs Dell, HP, Lenovo e Positivo que doaram 750 computadores, 110 impressoras a laser, e à Huawei, que irá fornecer equipamentos de rede e conectividade.Nem na privada dos comunistas petebas ladrões que querem tudo sob seu controle pra roubar mais sem trabalho nem suor nem merecimento, ou seja, o sonho de todo comunista da eliteDois meses na prefeitura e ja fez mais que a ralezada em 13 anosTem o meu voto para Presidente da Republica. Pena que não é prefeito do RJ.Fake news detected!!!! Essas estatisticas da globo são feitas com base no coração dos jornalistas esquerdosos e incompetentes...PRIVATIZA!!! PRIVATIZA!!! PRIVATIZA!!! PRIVATIZA!!! PRIVATIZA!!! PRIVATIZA!!! PRIVATIZA!!! PRIVATIZA!!! PRIVATIZA!!! PRIVATIZA!!! PRIVATIZA!!! PRIVATIZA!!! PRIVATIZA!!! PRIVATIZA!!! PRIVATIZA!!! PRIVATIZA!!! PRIVATIZA!!! PRIVATIZA!!!Parabéns DóriaEspero que o Doria consiga mudar essa situação. Se vai dar certo ou não, mais tarde veremos. Ao menos, ele está tentando fazer o que ninguém nunca se mobilizou para fazer.O prefeito está certo, mais a justiça tambem tem que ser rigida e não boazinha usuários e traficantes.Se você é contra a ação do Dória: Adote um usuário de droga da cracolândia, dê a ele moradia, saúde, educação, tratamento contra as drogas e empregoesse doria e arretado mesmo parabéns tem que arrumar trabalho para este povo\n"
     ]
    }
   ],
   "source": [
    "palavras = ''\n",
    "for i in teste:\n",
    "    palavras += i\n",
    "    \n",
    "print palavras"
   ]
  }
 ],
 "metadata": {
  "anaconda-cloud": {},
  "kernelspec": {
   "display_name": "Python [default]",
   "language": "python",
   "name": "python2"
  },
  "language_info": {
   "codemirror_mode": {
    "name": "ipython",
    "version": 2
   },
   "file_extension": ".py",
   "mimetype": "text/x-python",
   "name": "python",
   "nbconvert_exporter": "python",
   "pygments_lexer": "ipython2",
   "version": "2.7.12"
  }
 },
 "nbformat": 4,
 "nbformat_minor": 2
}
